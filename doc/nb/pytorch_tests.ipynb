{
 "cells": [
  {
   "cell_type": "code",
   "execution_count": 1,
   "id": "bd8a23a5-adf7-46ee-b8ff-d9e06ccd4d4d",
   "metadata": {},
   "outputs": [
    {
     "name": "stderr",
     "output_type": "stream",
     "text": [
      "/tmp/ipykernel_248551/3738254455.py:2: TqdmExperimentalWarning: Using `tqdm.autonotebook.tqdm` in notebook mode. Use `tqdm.tqdm` instead to force console mode (e.g. in jupyter console)\n",
      "  from tqdm.autonotebook import tqdm, trange\n"
     ]
    }
   ],
   "source": [
    "import os\n",
    "from tqdm.autonotebook import tqdm, trange\n",
    "import numpy as np\n",
    "import pandas as pd\n",
    "\n",
    "import matplotlib as mpl\n",
    "from matplotlib import cm\n",
    "import matplotlib.pyplot as plt\n",
    "%matplotlib inline\n",
    "mpl.style.use('tableau-colorblind10')\n",
    "\n",
    "from copy import deepcopy\n",
    "\n",
    "# import numba as nb\n",
    "# nb.cuda.detect()\n",
    "# import cupy as cp\n",
    "# %pip install -q cudf-cu11 dask-cudf-cu11 --extra-index-url=https://pypi.ngc.nvidia.com\n",
    "# import cudf as cd\n",
    "\n",
    "current_dir = os.path.dirname(os.path.realpath('__file__'))\n",
    "data_dir = os.path.join(current_dir, '..', '..', 'py', 'desiforecast', 'data')\n",
    "nb_dir = current_dir"
   ]
  },
  {
   "cell_type": "code",
   "execution_count": 5,
   "id": "1173faf8-673f-445a-a948-c3ff0f991bf6",
   "metadata": {},
   "outputs": [],
   "source": [
    "# Original, unfiltered data as provided by the DESI telemetry database\n",
    "tower_data = pd.read_pickle(f'{data_dir}/environmentmonitor_tower.pkl')\n",
    "dome_data = pd.read_pickle(f'{data_dir}/environmentmonitor_dome.pkl')\n",
    "telescope_data = pd.read_pickle(f'{data_dir}/environmentmonitor_telescope.pkl')"
   ]
  },
  {
   "cell_type": "code",
   "execution_count": null,
   "id": "7d8a4aea-4bc7-4928-93f9-790a434d34f2",
   "metadata": {},
   "outputs": [],
   "source": [
    "# print(tower_data.columns)\n",
    "# print(telescope_data.columns)\n",
    "# print(dome_data.columns)"
   ]
  },
  {
   "cell_type": "code",
   "execution_count": null,
   "id": "7dabc766-b753-4349-8308-5f7226060258",
   "metadata": {},
   "outputs": [],
   "source": [
    "# print(tower_data.index)\n",
    "# print(telescope_data.index)\n",
    "# print(dome_data.index)"
   ]
  },
  {
   "cell_type": "code",
   "execution_count": 42,
   "id": "5f613b4f-1668-434f-a9fa-e51d82d077bd",
   "metadata": {},
   "outputs": [],
   "source": [
    "def resample(data) -> pd.DataFrame :\n",
    "    \"\"\"Ramples DESI telemetry data contained within Pandas dataframe.\n",
    "    \n",
    "    Parameters\n",
    "    ----------\n",
    "    rows : numpy.ndarray\n",
    "        Unprocessed data from the DESI telemetry database\n",
    "    \n",
    "    columns : list[str]\n",
    "        column names that were queired from database\n",
    "    \n",
    "    Returns\n",
    "    -------\n",
    "    data : pandas.DataFrame\n",
    "        Resampled and interpolated DESI telemetry data\n",
    "    \"\"\"\n",
    "    # data.set_index('time_recorded', inplace=True)\n",
    "    # try:\n",
    "    #     assert((data.dtypes == np.float64).all())\n",
    "    # except AssertionError:\n",
    "    #     data = data.astype(np.float64)\n",
    "    #     print(data.dtypes)\n",
    "    data.interpolate(limit_direction='both', inplace=True)\n",
    "    data = data.resample('6S').mean()\n",
    "    data = data.tz_convert(\"America/Phoenix\")\n",
    "    return data"
   ]
  },
  {
   "cell_type": "code",
   "execution_count": 73,
   "id": "641c6e81-bbb0-4161-98c8-b477e51d52a1",
   "metadata": {},
   "outputs": [
    {
     "data": {
      "application/vnd.jupyter.widget-view+json": {
       "model_id": "e9538dd9659740bbbb3d8e3fade906ff",
       "version_major": 2,
       "version_minor": 0
      },
      "text/plain": [
       "finding valid values: 0it [00:00, ?it/s]"
      ]
     },
     "metadata": {},
     "output_type": "display_data"
    },
    {
     "data": {
      "application/vnd.jupyter.widget-view+json": {
       "model_id": "d221d9907cc441d7832d3930b690c011",
       "version_major": 2,
       "version_minor": 0
      },
      "text/plain": [
       "finding valid values: 0it [00:00, ?it/s]"
      ]
     },
     "metadata": {},
     "output_type": "display_data"
    },
    {
     "data": {
      "application/vnd.jupyter.widget-view+json": {
       "model_id": "9445593e9791474abba16f8447d37c7a",
       "version_major": 2,
       "version_minor": 0
      },
      "text/plain": [
       "finding valid values: 0it [00:00, ?it/s]"
      ]
     },
     "metadata": {},
     "output_type": "display_data"
    },
    {
     "name": "stderr",
     "output_type": "stream",
     "text": [
      "/tmp/ipykernel_197489/4283976955.py:10: RuntimeWarning: invalid value encountered in true_divide\n",
      "  where = np.argwhere(np.invert(np.logical_and(np.abs((test-mean)/std) < max_z, np.isfinite(test)))).flatten()\n"
     ]
    },
    {
     "data": {
      "application/vnd.jupyter.widget-view+json": {
       "model_id": "10afa9cdad054ea4bb6ddf72d20246bf",
       "version_major": 2,
       "version_minor": 0
      },
      "text/plain": [
       "finding valid values:   0%|          | 0/841 [00:00<?, ?it/s]"
      ]
     },
     "metadata": {},
     "output_type": "display_data"
    },
    {
     "name": "stderr",
     "output_type": "stream",
     "text": [
      "/tmp/ipykernel_197489/4283976955.py:12: RuntimeWarning: invalid value encountered in double_scalars\n",
      "  if np.abs((test[i]-mean)/std) > max_z or not np.isfinite(test[i]):\n"
     ]
    },
    {
     "data": {
      "application/vnd.jupyter.widget-view+json": {
       "model_id": "e656432b820b4d61860e01a30ebd0c89",
       "version_major": 2,
       "version_minor": 0
      },
      "text/plain": [
       "finding valid values: 0it [00:00, ?it/s]"
      ]
     },
     "metadata": {},
     "output_type": "display_data"
    },
    {
     "data": {
      "application/vnd.jupyter.widget-view+json": {
       "model_id": "d9339c9f873a4edd9c544f7a997e3760",
       "version_major": 2,
       "version_minor": 0
      },
      "text/plain": [
       "finding valid values:   0%|          | 0/1 [00:00<?, ?it/s]"
      ]
     },
     "metadata": {},
     "output_type": "display_data"
    },
    {
     "data": {
      "application/vnd.jupyter.widget-view+json": {
       "model_id": "e39171b079d443fa9aff67610884a896",
       "version_major": 2,
       "version_minor": 0
      },
      "text/plain": [
       "finding valid values: 0it [00:00, ?it/s]"
      ]
     },
     "metadata": {},
     "output_type": "display_data"
    },
    {
     "data": {
      "application/vnd.jupyter.widget-view+json": {
       "model_id": "9256481b710d4c8a87621e89e96e0791",
       "version_major": 2,
       "version_minor": 0
      },
      "text/plain": [
       "finding valid values: 0it [00:00, ?it/s]"
      ]
     },
     "metadata": {},
     "output_type": "display_data"
    },
    {
     "data": {
      "application/vnd.jupyter.widget-view+json": {
       "model_id": "b6fc1faf42294c5996aee9c45c08c1ea",
       "version_major": 2,
       "version_minor": 0
      },
      "text/plain": [
       "finding valid values: 0it [00:00, ?it/s]"
      ]
     },
     "metadata": {},
     "output_type": "display_data"
    },
    {
     "data": {
      "application/vnd.jupyter.widget-view+json": {
       "model_id": "1f8fc34030ef4840a2c529d1547799a8",
       "version_major": 2,
       "version_minor": 0
      },
      "text/plain": [
       "finding valid values: 0it [00:00, ?it/s]"
      ]
     },
     "metadata": {},
     "output_type": "display_data"
    },
    {
     "data": {
      "application/vnd.jupyter.widget-view+json": {
       "model_id": "842570e9229c407e95bb3f4b2fe9c8c0",
       "version_major": 2,
       "version_minor": 0
      },
      "text/plain": [
       "finding valid values: 0it [00:00, ?it/s]"
      ]
     },
     "metadata": {},
     "output_type": "display_data"
    },
    {
     "data": {
      "application/vnd.jupyter.widget-view+json": {
       "model_id": "deee16b06d24423383ff3bb98361562d",
       "version_major": 2,
       "version_minor": 0
      },
      "text/plain": [
       "finding valid values: 0it [00:00, ?it/s]"
      ]
     },
     "metadata": {},
     "output_type": "display_data"
    },
    {
     "data": {
      "application/vnd.jupyter.widget-view+json": {
       "model_id": "3129c9720a514fd9a2e92821d141ed63",
       "version_major": 2,
       "version_minor": 0
      },
      "text/plain": [
       "finding valid values: 0it [00:00, ?it/s]"
      ]
     },
     "metadata": {},
     "output_type": "display_data"
    },
    {
     "data": {
      "application/vnd.jupyter.widget-view+json": {
       "model_id": "fa0c64d976de434ebfa867da86a72ac6",
       "version_major": 2,
       "version_minor": 0
      },
      "text/plain": [
       "finding valid values:   0%|          | 0/8 [00:00<?, ?it/s]"
      ]
     },
     "metadata": {},
     "output_type": "display_data"
    },
    {
     "data": {
      "application/vnd.jupyter.widget-view+json": {
       "model_id": "5b9da0363a0140219246e43d03f6ce0d",
       "version_major": 2,
       "version_minor": 0
      },
      "text/plain": [
       "finding valid values:   0%|          | 0/8 [00:00<?, ?it/s]"
      ]
     },
     "metadata": {},
     "output_type": "display_data"
    },
    {
     "data": {
      "application/vnd.jupyter.widget-view+json": {
       "model_id": "6d7117ce53114181aa29e93a25ad367a",
       "version_major": 2,
       "version_minor": 0
      },
      "text/plain": [
       "finding valid values:   0%|          | 0/8 [00:00<?, ?it/s]"
      ]
     },
     "metadata": {},
     "output_type": "display_data"
    },
    {
     "data": {
      "application/vnd.jupyter.widget-view+json": {
       "model_id": "24e40efb946049dfb005b762e3df206e",
       "version_major": 2,
       "version_minor": 0
      },
      "text/plain": [
       "finding valid values: 0it [00:00, ?it/s]"
      ]
     },
     "metadata": {},
     "output_type": "display_data"
    },
    {
     "data": {
      "application/vnd.jupyter.widget-view+json": {
       "model_id": "f3f611e7930d465f8af62d9f3e1377ca",
       "version_major": 2,
       "version_minor": 0
      },
      "text/plain": [
       "finding valid values: 0it [00:00, ?it/s]"
      ]
     },
     "metadata": {},
     "output_type": "display_data"
    },
    {
     "data": {
      "application/vnd.jupyter.widget-view+json": {
       "model_id": "562535539b3a4c5aa8002c60446e7878",
       "version_major": 2,
       "version_minor": 0
      },
      "text/plain": [
       "finding valid values: 0it [00:00, ?it/s]"
      ]
     },
     "metadata": {},
     "output_type": "display_data"
    },
    {
     "data": {
      "application/vnd.jupyter.widget-view+json": {
       "model_id": "55900374be3b47d78161f262a67bfe3d",
       "version_major": 2,
       "version_minor": 0
      },
      "text/plain": [
       "finding valid values:   0%|          | 0/2 [00:00<?, ?it/s]"
      ]
     },
     "metadata": {},
     "output_type": "display_data"
    },
    {
     "data": {
      "application/vnd.jupyter.widget-view+json": {
       "model_id": "84f6882e37a0452c8db96b6aaeea2081",
       "version_major": 2,
       "version_minor": 0
      },
      "text/plain": [
       "finding valid values: 0it [00:00, ?it/s]"
      ]
     },
     "metadata": {},
     "output_type": "display_data"
    },
    {
     "data": {
      "application/vnd.jupyter.widget-view+json": {
       "model_id": "2820113fc8f5402aad2d265e198e9791",
       "version_major": 2,
       "version_minor": 0
      },
      "text/plain": [
       "finding valid values:   0%|          | 0/1 [00:00<?, ?it/s]"
      ]
     },
     "metadata": {},
     "output_type": "display_data"
    },
    {
     "data": {
      "application/vnd.jupyter.widget-view+json": {
       "model_id": "1667af63004941f9ae8ffefee5e7e1a4",
       "version_major": 2,
       "version_minor": 0
      },
      "text/plain": [
       "finding valid values: 0it [00:00, ?it/s]"
      ]
     },
     "metadata": {},
     "output_type": "display_data"
    }
   ],
   "source": [
    "table_list = [ tower_data, dome_data, telescope_data ]\n",
    "merged_data = resample(table_list.pop())\n",
    "for i in range(len(table_list)):\n",
    "    merged_data = pd.merge(merged_data, resample(table_list.pop()), left_index=True, right_index=True)\n",
    "train = merged_data[merged_data['mirror_cooling']==1].resample('1D').mean()\n",
    "train.interpolate(limit_direction='both', inplace=True)\n",
    "for column in train.columns:\n",
    "    train[column] = interpolate_outliers(train[column])\n",
    "    \n",
    "train.to_pickle(os.path.join(data_dir, 'neural_network_data.pkl'))"
   ]
  },
  {
   "cell_type": "code",
   "execution_count": 76,
   "id": "8ee2e155-06c2-4a02-a563-71614af448ed",
   "metadata": {},
   "outputs": [
    {
     "name": "stdout",
     "output_type": "stream",
     "text": [
      "Index(['mirror_avg_temp', 'mirror_desired_temp', 'mirror_temp',\n",
      "       'mirror_cooling', 'air_temp', 'air_flow', 'air_dewpoint',\n",
      "       'dome_left_upper', 'dome_left_lower', 'dome_right_upper',\n",
      "       'dome_right_lower', 'dome_back_upper', 'dome_back_lower',\n",
      "       'dome_floor_ne', 'dome_floor_nw', 'dome_floor_s', 'temperature',\n",
      "       'pressure', 'humidity', 'wind_speed', 'wind_direction', 'dimm',\n",
      "       'dewpoint'],\n",
      "      dtype='object')\n",
      "DatetimeIndex(['2020-11-04 00:00:00-07:00', '2020-11-05 00:00:00-07:00',\n",
      "               '2020-11-06 00:00:00-07:00', '2020-11-07 00:00:00-07:00',\n",
      "               '2020-11-08 00:00:00-07:00', '2020-11-09 00:00:00-07:00',\n",
      "               '2020-11-10 00:00:00-07:00', '2020-11-11 00:00:00-07:00',\n",
      "               '2020-11-12 00:00:00-07:00', '2020-11-13 00:00:00-07:00',\n",
      "               ...\n",
      "               '2023-02-12 00:00:00-07:00', '2023-02-13 00:00:00-07:00',\n",
      "               '2023-02-14 00:00:00-07:00', '2023-02-15 00:00:00-07:00',\n",
      "               '2023-02-16 00:00:00-07:00', '2023-02-17 00:00:00-07:00',\n",
      "               '2023-02-18 00:00:00-07:00', '2023-02-19 00:00:00-07:00',\n",
      "               '2023-02-20 00:00:00-07:00', '2023-02-21 00:00:00-07:00'],\n",
      "              dtype='datetime64[ns, America/Phoenix]', name='time_recorded', length=840, freq='D')\n",
      "DatetimeIndex(['2020-11-05 00:00:00-07:00', '2020-11-06 00:00:00-07:00',\n",
      "               '2020-11-07 00:00:00-07:00', '2020-11-08 00:00:00-07:00',\n",
      "               '2020-11-09 00:00:00-07:00', '2020-11-10 00:00:00-07:00',\n",
      "               '2020-11-11 00:00:00-07:00', '2020-11-12 00:00:00-07:00',\n",
      "               '2020-11-13 00:00:00-07:00', '2020-11-14 00:00:00-07:00',\n",
      "               ...\n",
      "               '2023-02-13 00:00:00-07:00', '2023-02-14 00:00:00-07:00',\n",
      "               '2023-02-15 00:00:00-07:00', '2023-02-16 00:00:00-07:00',\n",
      "               '2023-02-17 00:00:00-07:00', '2023-02-18 00:00:00-07:00',\n",
      "               '2023-02-19 00:00:00-07:00', '2023-02-20 00:00:00-07:00',\n",
      "               '2023-02-21 00:00:00-07:00', '2023-02-22 00:00:00-07:00'],\n",
      "              dtype='datetime64[ns, America/Phoenix]', name='time_recorded', length=840, freq='D')\n"
     ]
    }
   ],
   "source": [
    "# print(train.columns)\n",
    "# print(train.index)\n",
    "# print(test.index)"
   ]
  },
  {
   "cell_type": "code",
   "execution_count": 3,
   "id": "1ce80161-a85a-4f00-90e1-0cd266543d53",
   "metadata": {},
   "outputs": [],
   "source": [
    "def valid_values(data):\n",
    "    data = np.asarray(data)\n",
    "    arr = np.full((len(data)), False, dtype=bool)\n",
    "    std = np.std(data[np.isfinite(data)])\n",
    "    mean = np.mean(data[np.isfinite(data)])\n",
    "    max_z = 5\n",
    "    print(std)\n",
    "    print(mean+(max_z*std))\n",
    "    print(mean)\n",
    "    print(mean-(max_z*std))\n",
    "    for i in trange(len(data), desc='finding valid values'):\n",
    "        if np.isfinite(data[i]) and np.abs((data[i]-mean)/std) < max_z:\n",
    "            arr[i] = True\n",
    "    return arr"
   ]
  },
  {
   "cell_type": "code",
   "execution_count": 77,
   "id": "a8b20dbf-ff95-4593-a73c-b2fec770c02c",
   "metadata": {},
   "outputs": [],
   "source": [
    "def interpolate_outliers(data):\n",
    "    test = np.array(data)\n",
    "    \n",
    "    std = np.std(test[np.isfinite(test)])\n",
    "    mean = np.mean(test[np.isfinite(test)])\n",
    "    max_z = 5\n",
    "\n",
    "    where = np.argwhere(np.invert(np.logical_and(np.abs((test-mean)/std) < max_z, np.isfinite(test)))).flatten()\n",
    "    for i in tqdm(where, desc='finding valid values'):\n",
    "        if np.abs((test[i]-mean)/std) > max_z or not np.isfinite(test[i]):\n",
    "            if i == 0:\n",
    "                j = i + 1\n",
    "                while np.abs((test[j]-mean)/std) > max_z or not np.isfinite(test[j]):\n",
    "                    j += 1\n",
    "                test[i] = test[j+1]\n",
    "            if i == len(test)-1:\n",
    "                k = i - 1\n",
    "                while np.abs((test[k]-mean)/std) > max_z or not np.isfinite(test[k]):\n",
    "                    k -= 1\n",
    "                test[i] = test[k]\n",
    "            else:\n",
    "                j = i + 1\n",
    "                while np.abs((test[j]-mean)/std) > max_z or not np.isfinite(test[j]):\n",
    "                    j += 1\n",
    "                k = i - 1\n",
    "                while np.abs((test[k]-mean)/std) > max_z or not np.isfinite(test[k]):\n",
    "                    k -= 1\n",
    "                test[i] = (test[j]+test[k])/2\n",
    "    return test"
   ]
  },
  {
   "cell_type": "code",
   "execution_count": 2,
   "id": "5c2b0f97-92c9-4ebe-811e-5c37ecae6c8d",
   "metadata": {},
   "outputs": [],
   "source": [
    "def resample(rows, columns):\n",
    "    data = pd.DataFrame(rows)\n",
    "    data.columns = columns\n",
    "    # print('filled dataframe')\n",
    "    data.set_index('time_recorded', inplace=True)\n",
    "    data.sort_index(inplace=True)\n",
    "    # print('sorted indicies')\n",
    "    data = data.resample('6S').mean()\n",
    "    data.interpolate(limit_direction='both', inplace=True)\n",
    "    # print('resampled')\n",
    "    # data = data.tz_convert(\"America/Phoenix\")\n",
    "    return data"
   ]
  },
  {
   "cell_type": "code",
   "execution_count": null,
   "id": "a6ecab14-497a-48f6-b71e-8c4b2d04502a",
   "metadata": {},
   "outputs": [],
   "source": [
    "import torch\n",
    "from torch import nn, zeros, tensor\n",
    "from torch.utils.data import Dataset, DataLoader\n",
    "from torch.nn.functional import dropout\n",
    "from torch.autograd import Variable\n",
    "from sklearn.model_selection import train_test_split\n",
    "\n",
    "device = torch.device(\"cpu\")\n",
    "\n",
    "# initalize data\n",
    "class Data(Dataset):\n",
    "    def __init__(self, X, y, device):\n",
    "        self.X = torch.from_numpy(X).to(device, dtype=torch.float32)\n",
    "        self.y = torch.from_numpy(y).to(device, dtype=torch.float32)\n",
    "        self.len = self.X.shape[0]\n",
    "       \n",
    "    def __getitem__(self, index):\n",
    "        return self.X[index], self.y[index]\n",
    "   \n",
    "    def __len__(self):\n",
    "        return self.len\n",
    "\n",
    "class NeuralNetwork(nn.Module):\n",
    "    \"\"\"Initializes and trains an LSTM RNN to predict future temperatures for the DESI experiment.\n",
    "    \"\"\"\n",
    "    def __init__(self, input_size, layer1_size:int=128, layer2_size:int=32, stack_size:int=2, dropout:float=0.05):\n",
    "        super(BayesianLSTM, self).__init__()\n",
    "        self.hidden_layer1 = nn.LSTM(input_size, layer1_size, num_layers=stack_size, batch_first=True, dropout=dropout)\n",
    "        self.hidden_layer2 = nn.LSTM(layer1_size, layer2_size, num_layers=stack_size, batch_first=True, dropout=dropout)\n",
    "        self.output_layer = nn.Linear(layer2_size, 1)\n",
    "        # self.layer_stack = nn.Sequential(\n",
    "        #     nn.LSTM(self.input_size, self.layer1_size, num_layers=self.stack_size, batch_first=True, dropout=0.05),\n",
    "        #     nn.LSTM(self.layer1_size, self.layer2_size, num_layers=self.stack_size, batch_first=True, dropout=0.05),\n",
    "        #     nn.Linear(self.layer2_size, 1)\n",
    "        #\n",
    "        self.loss = nn.BCEWithLogitsLoss()\n",
    "        self.optimizer = torch.optim.SGD(self.parameters(), lr=0.1)\n",
    "\n",
    "    def forward(self, data: torch.tensor, training: bool):\n",
    "        \"\"\"Executes a forward pass of the neural network.\n",
    "        \n",
    "        Parameters\n",
    "        ----------\n",
    "        data : torch.tensor\n",
    "            input data (temperature, seeing, etc.)\n",
    "\n",
    "        Returns\n",
    "        -------\n",
    "        output : torch.tensor\n",
    "            temperature estimation\n",
    "        \"\"\"\n",
    "        data = torch.tensor(data, dtype=torch.float32)\n",
    "        data, _ = self.hidden_layer1(data)\n",
    "        # data = torch.tensor(data, dtype=torch.float32)\n",
    "        data, _ = self.hidden_layer2(data)\n",
    "        output = self.output_layer(data)\n",
    "        return output\n",
    "    \n",
    "    def load() -> None:\n",
    "        \"\"\"Loads the state dictionary of the neural network.\n",
    "\n",
    "        Parameters\n",
    "        ----------\n",
    "        None\n",
    "            \n",
    "        Returns\n",
    "        -------\n",
    "        None\n",
    "        \"\"\"\n",
    "        global data_dir\n",
    "        \n",
    "        filename = 'neural_network_model.pt'\n",
    "        filepath = os.path.join(data_dir, filename)\n",
    "\n",
    "        self.load_state_dict(torch.load(PATH))\n",
    "        self.eval()\n",
    "    \n",
    "    def train(self, train_dataloader: Data, epochs: int=100) -> None:\n",
    "        \"\"\"Trains the neural network.\n",
    "\n",
    "        Parameters\n",
    "        ----------\n",
    "        train_dataloader : Data\n",
    "            Input telemetry data\n",
    "        \n",
    "        epochs : int\n",
    "            Number of epochs to train on\n",
    "            \n",
    "        Returns\n",
    "        -------\n",
    "        None\n",
    "        \"\"\"\n",
    "        global nb_dir\n",
    "        \n",
    "        loss_values = []\n",
    "        for epoch in trange(epochs, desc=\"Training neural network\"):\n",
    "            for X, y in train_dataloader:\n",
    "                self.optimizer.zero_grad()\n",
    "                prediction = self(X, training=True)\n",
    "                loss = self.loss(prediction.reshape(-1), y)\n",
    "                loss_values.append(loss.item())\n",
    "                loss.backward()\n",
    "                self.optimizer.step()\n",
    "        \n",
    "        steps = np.linspace(0, epochs, len(loss_values))\n",
    "        \n",
    "        fig, ax = plt.subplots(figsize=(8,5))\n",
    "        plt.plot(steps, np.array(loss_values))\n",
    "        plt.title(\"Step-wise Loss\")\n",
    "        plt.xlabel(\"Epochs\")\n",
    "        plt.ylabel(\"Loss\")\n",
    "        save_dir = os.path.join(nb_dir, 'neural_network')\n",
    "        if not os.path.isdir(save_dir):\n",
    "            os.mkdir(save_dir)\n",
    "        path = os.path.join(save_dir, 'neural_network_loss.png')\n",
    "        plt.savefig(path)\n",
    "        plt.show()\n",
    "        plt.close(fig)\n",
    "        \n",
    "        self.save()\n",
    "        return loss_values\n",
    "        \n",
    "    def save(self, filename='neural_network_model.pt') -> None:\n",
    "        \"\"\"Saves the state dictionary of the neural network.\n",
    "\n",
    "        Parameters\n",
    "        ----------\n",
    "        filename : str\n",
    "            Name of file to hold serialized neural network model.\n",
    "            \n",
    "        Returns\n",
    "        -------\n",
    "        None\n",
    "        \"\"\"\n",
    "        global data_dir\n",
    "        if '.' in filename:\n",
    "            if filename[-3:] != '.pt':\n",
    "                i = filename.index('.')\n",
    "                filename = filename[:i]+'.pt'\n",
    "        else:\n",
    "            filename += '.pt'\n",
    "        filepath = os.path.join(data_dir, filename)\n",
    "        print('Saving trained model')\n",
    "        torch.save(self.state_dict(), filepath)\n",
    "    \n",
    "    def predict(self, test_dataloader: Data) -> None:\n",
    "        \"\"\"Makes predictions using the trained neural network.\n",
    "\n",
    "        Parameters\n",
    "        ----------\n",
    "        test_dataloader : Data\n",
    "            Input telemetry data\n",
    "            \n",
    "        Returns\n",
    "        -------\n",
    "        loss_values : list[float]\n",
    "            Test data loss values\n",
    "        \"\"\"\n",
    "        loss_values = []\n",
    "        with torch.no_grad():\n",
    "            for X, y in tqdm(test_dataloader, desc=\"Making temperature predictions\"):\n",
    "                outputs = self(X, training=False)\n",
    "                predicted = np.where(outputs < 0.5, 0, 1)\n",
    "                predicted = list(itertools.chain(*predicted)) \n",
    "                loss = self.loss(predicted, y.unsqueeze(-1))\n",
    "                loss_values.append(loss)\n",
    "    \n",
    "        steps = np.linspace(0, epochs, len(loss_list))\n",
    "        \n",
    "        fig, ax = plt.subplots(figsize=(8,5))\n",
    "        plt.plot(steps, np.array(loss_values))\n",
    "        plt.title(\"Step-wise Loss\")\n",
    "        plt.xlabel(\"Epochs\")\n",
    "        plt.ylabel(\"Loss\")\n",
    "        save_dir = os.path.join(nb_dir, 'neural_network')\n",
    "        if not os.path.isdir(save_dir):\n",
    "            os.mkdir(save_dir)\n",
    "        path = os.path.join(save_dir, 'neural_network_loss.png')\n",
    "        plt.savefig(path)\n",
    "        plt.show()\n",
    "        plt.close(fig)\n",
    "        \n",
    "        self.save()\n",
    "        return loss_values"
   ]
  },
  {
   "cell_type": "code",
   "execution_count": null,
   "id": "23a7213d-6c7f-4340-a8e7-ff508099d7d6",
   "metadata": {},
   "outputs": [],
   "source": [
    "model = NeuralNetwork(input_size=input_size).to(device)"
   ]
  },
  {
   "cell_type": "code",
   "execution_count": 82,
   "id": "d594d3a8-92a5-4267-a08b-1dbffad7a5ae",
   "metadata": {},
   "outputs": [
    {
     "data": {
      "application/vnd.jupyter.widget-view+json": {
       "model_id": "e443f480b642494aa7b22c658d8896c9",
       "version_major": 2,
       "version_minor": 0
      },
      "text/plain": [
       "Training neural network:   0%|          | 0/100 [00:00<?, ?it/s]"
      ]
     },
     "metadata": {},
     "output_type": "display_data"
    },
    {
     "name": "stderr",
     "output_type": "stream",
     "text": [
      "/tmp/ipykernel_248551/2139112446.py:70: UserWarning: To copy construct from a tensor, it is recommended to use sourceTensor.clone().detach() or sourceTensor.clone().detach().requires_grad_(True), rather than torch.tensor(sourceTensor).\n",
      "  data = torch.tensor(data, dtype=torch.float32)\n"
     ]
    },
    {
     "data": {
      "image/png": "[encoded data removed]",
      "text/plain": [
       "<Figure size 800x500 with 1 Axes>"
      ]
     },
     "metadata": {},
     "output_type": "display_data"
    },
    {
     "name": "stdout",
     "output_type": "stream",
     "text": [
      "Saving trained model\n"
     ]
    }
   ],
   "source": [
    "train_loss = model.train(train_dataloader)"
   ]
  },
  {
   "cell_type": "code",
   "execution_count": 83,
   "id": "a0dcdbd4-5fb5-45b7-9d58-a8beb2a2a206",
   "metadata": {},
   "outputs": [
    {
     "data": {
      "application/vnd.jupyter.widget-view+json": {
       "model_id": "ae12866c72f14a43abe54deb105129c9",
       "version_major": 2,
       "version_minor": 0
      },
      "text/plain": [
       "Making temperature predictions:   0%|          | 0/5 [00:00<?, ?it/s]"
      ]
     },
     "metadata": {},
     "output_type": "display_data"
    },
    {
     "name": "stderr",
     "output_type": "stream",
     "text": [
      "/tmp/ipykernel_248551/2139112446.py:70: UserWarning: To copy construct from a tensor, it is recommended to use sourceTensor.clone().detach() or sourceTensor.clone().detach().requires_grad_(True), rather than torch.tensor(sourceTensor).\n",
      "  data = torch.tensor(data, dtype=torch.float32)\n"
     ]
    },
    {
     "ename": "NameError",
     "evalue": "name 'itertools' is not defined",
     "output_type": "error",
     "traceback": [
      "\u001b[0;31m---------------------------------------------------------------------------\u001b[0m",
      "\u001b[0;31mNameError\u001b[0m                                 Traceback (most recent call last)",
      "Cell \u001b[0;32mIn[83], line 1\u001b[0m\n\u001b[0;32m----> 1\u001b[0m test_loss \u001b[38;5;241m=\u001b[39m \u001b[43mmodel\u001b[49m\u001b[38;5;241;43m.\u001b[39;49m\u001b[43mpredict\u001b[49m\u001b[43m(\u001b[49m\u001b[43mtest_dataloader\u001b[49m\u001b[43m)\u001b[49m\n",
      "Cell \u001b[0;32mIn[80], line 182\u001b[0m, in \u001b[0;36mBayesianLSTM.predict\u001b[0;34m(self, test_dataloader)\u001b[0m\n\u001b[1;32m    180\u001b[0m outputs \u001b[38;5;241m=\u001b[39m \u001b[38;5;28mself\u001b[39m(X, training\u001b[38;5;241m=\u001b[39m\u001b[38;5;28;01mFalse\u001b[39;00m)\n\u001b[1;32m    181\u001b[0m predicted \u001b[38;5;241m=\u001b[39m np\u001b[38;5;241m.\u001b[39mwhere(outputs \u001b[38;5;241m<\u001b[39m \u001b[38;5;241m0.5\u001b[39m, \u001b[38;5;241m0\u001b[39m, \u001b[38;5;241m1\u001b[39m)\n\u001b[0;32m--> 182\u001b[0m predicted \u001b[38;5;241m=\u001b[39m \u001b[38;5;28mlist\u001b[39m(\u001b[43mitertools\u001b[49m\u001b[38;5;241m.\u001b[39mchain(\u001b[38;5;241m*\u001b[39mpredicted)) \n\u001b[1;32m    183\u001b[0m loss \u001b[38;5;241m=\u001b[39m \u001b[38;5;28mself\u001b[39m\u001b[38;5;241m.\u001b[39mloss(predicted, y\u001b[38;5;241m.\u001b[39munsqueeze(\u001b[38;5;241m-\u001b[39m\u001b[38;5;241m1\u001b[39m))\n\u001b[1;32m    184\u001b[0m loss_values\u001b[38;5;241m.\u001b[39mappend(loss)\n",
      "\u001b[0;31mNameError\u001b[0m: name 'itertools' is not defined"
     ]
    }
   ],
   "source": [
    "test_loss = model.predict(test_dataloader)"
   ]
  },
  {
   "cell_type": "code",
   "execution_count": 84,
   "id": "44c13217-bd84-475f-98f3-cb27b45d74ed",
   "metadata": {},
   "outputs": [
    {
     "name": "stdout",
     "output_type": "stream",
     "text": [
      "(64, 1)\n",
      "(64,)\n"
     ]
    }
   ],
   "source": [
    "asdf = np.zeros((64,1))\n",
    "print(asdf.shape)\n",
    "print(asdf.reshape(-1).shape)"
   ]
  },
  {
   "cell_type": "code",
   "execution_count": null,
   "id": "c359391a-09db-4708-a711-7af1d66e6b49",
   "metadata": {},
   "outputs": [],
   "source": []
  }
 ],
 "metadata": {
  "kernelspec": {
   "display_name": "pytorch-1.13.1",
   "language": "python",
   "name": "pytorch-1.13.1"
  },
  "language_info": {
   "codemirror_mode": {
    "name": "ipython",
    "version": 3
   },
   "file_extension": ".py",
   "mimetype": "text/x-python",
   "name": "python",
   "nbconvert_exporter": "python",
   "pygments_lexer": "ipython3",
   "version": "3.9.15"
  }
 },
 "nbformat": 4,
 "nbformat_minor": 5
}
