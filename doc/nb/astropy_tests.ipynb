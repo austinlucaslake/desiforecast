{
 "cells": [
  {
   "cell_type": "code",
   "execution_count": 2,
   "id": "536c449b-86c3-43f0-b4ea-42ab1a4e475b",
   "metadata": {},
   "outputs": [],
   "source": [
    "import os\n",
    "import psycopg2\n",
    "import pandas as pd\n",
    "import numpy as np\n",
    "import numba as nb\n",
    "import pickle\n",
    "import logging\n",
    "from tqdm.notebook import tqdm\n",
    "from datetime import datetime\n",
    "import pytz\n",
    "from scipy.interpolate import interp1d\n",
    "\n",
    "import astropy\n",
    "from astropy.utils.data import get_pkg_data_filename\n",
    "from astropy.io import fits\n",
    "from astropy.time import Time\n",
    "from astropy.table import Table\n",
    "from astropy.timeseries import aggregate_downsample, TimeSeries\n",
    "import astropy.units as u\n",
    "\n",
    "data_dir = '../../py/desiforecast/data'"
   ]
  },
  {
   "cell_type": "code",
   "execution_count": 3,
   "id": "865fdc99-5569-4607-a66e-d87abbf81e85",
   "metadata": {},
   "outputs": [
    {
     "name": "stdout",
     "output_type": "stream",
     "text": [
      "5.0\n"
     ]
    }
   ],
   "source": [
    "print(astropy.__version__)"
   ]
  },
  {
   "cell_type": "code",
   "execution_count": 22,
   "id": "40610305-78f6-4269-936e-8c9a9646e9ce",
   "metadata": {},
   "outputs": [],
   "source": [
    "tower_data = TimeSeries.read(f'{data_dir}/environmentmonitor_tower.fits')\n",
    "dome_data = TimeSeries.read(f'{data_dir}/environmentmonitor_dome.fits')\n",
    "telescope_data = TimeSeries.read(f'{data_dir}/environmentmonitor_telescope.fits')\n",
    "seeing_data = TimeSeries.read(f'{data_dir}/etc_seeing.fits')\n",
    "telemetry_data = TimeSeries.read(f'{data_dir}/etc_telemetry.fits')\n",
    "tcs_data = TimeSeries.read(f'{data_dir}/tcs_info.fits')"
   ]
  },
  {
   "cell_type": "code",
   "execution_count": null,
   "id": "f3c7d656-c1f7-4c76-8ba1-11e42c340b88",
   "metadata": {},
   "outputs": [],
   "source": [
    "tower_data = TimeSeries.from_pandas(tower_data)\n",
    "dome_data = TimeSeries.from_pandas(dome_data)\n",
    "telescope_data = TimeSeries.from_pandas(telescope_data)\n",
    "seeing_data = TimeSeries.from_pandas(seeing_data)\n",
    "telemetry_data = TimeSeries.from_pandas(telemetry_data)\n",
    "tcs_data = TimeSeries.from_pandas(tcs_data)"
   ]
  },
  {
   "cell_type": "code",
   "execution_count": null,
   "id": "512e136e-8047-41df-a9c7-5a20204d14f5",
   "metadata": {},
   "outputs": [],
   "source": [
    "tower_data.write(f'{data_dir}/environmentmonitor_tower.fits', overwrite=True)\n",
    "dome_data.write(f'{data_dir}/environmentmonitor_dome.fits', overwrite=True)\n",
    "telescope_data.write(f'{data_dir}/environmentmonitor_telescope.fits', overwrite=True)\n",
    "seeing_data.write(f'{data_dir}/etc_seeing.fits', overwrite=True)\n",
    "telemetrydata.write(f'{data_dir}/etc_telemetry.fits', overwrite=True)\n",
    "tcs_data.write(f'{data_dir}/tcs_info.fits', overwrite=True)\n"
   ]
  },
  {
   "cell_type": "code",
   "execution_count": 28,
   "id": "d20ef5e9-8cf9-474d-ba94-5dd3848fe904",
   "metadata": {},
   "outputs": [
    {
     "ename": "AttributeError",
     "evalue": "'TimeSeries' object has no attribute 'data'",
     "output_type": "error",
     "traceback": [
      "\u001b[0;31m---------------------------------------------------------------------------\u001b[0m",
      "\u001b[0;31mAttributeError\u001b[0m                            Traceback (most recent call last)",
      "Input \u001b[0;32mIn [28]\u001b[0m, in \u001b[0;36m<module>\u001b[0;34m\u001b[0m\n\u001b[0;32m----> 1\u001b[0m \u001b[38;5;28mprint\u001b[39m(\u001b[38;5;28mtype\u001b[39m(\u001b[43mtelescope_data\u001b[49m\u001b[38;5;241;43m.\u001b[39;49m\u001b[43mdata\u001b[49m))\n",
      "\u001b[0;31mAttributeError\u001b[0m: 'TimeSeries' object has no attribute 'data'"
     ]
    }
   ],
   "source": [
    "print(type(telescope_data.data))"
   ]
  },
  {
   "cell_type": "code",
   "execution_count": null,
   "id": "3c31ee7c-3dfb-4949-a811-19aef4c3cb68",
   "metadata": {},
   "outputs": [],
   "source": [
    "print(telescope_data['air_temp']-telescope_data['mirror_temp'])\n",
    "print(telescope_data['mirror_temp'])\n",
    "print(telescope_data['air_temp'])\n"
   ]
  },
  {
   "cell_type": "code",
   "execution_count": 25,
   "id": "f9746171-38e2-4699-bfdf-bbd7dbf5b293",
   "metadata": {
    "tags": []
   },
   "outputs": [],
   "source": [
    "# def preprocess_data(data):\n",
    "#     nans = np.isnan(y)\n",
    "#     x = lambda z: z.nonzero()[0]\n",
    "#     data[nans] = np.interp(x(nans), x(~nans), y[~nans])\n",
    "#     data\n",
    "#     if 'seeing' in data.colnames:\n",
    "#         pass\n",
    "#     else:\n",
    "#         data = aggregate_downsample(data, time_bin_size=6*u.s)\n",
    "#     return data\n",
    "def preprocess_data(rows, columns):\n",
    "    \"\"\"Preprocesses DESI telemetry data contained within Pandas dataframe.\n",
    "    \n",
    "    Parameters\n",
    "    ----------\n",
    "    rows : np.ndarray\n",
    "        Unprocessed data from the DESI telemetry database\n",
    "    \n",
    "    columns : list[str]\n",
    "        column names that were queired from database\n",
    "    \n",
    "    Returns\n",
    "    -------\n",
    "    data : astropy.io.fits.BinTableHDU\n",
    "        Resampled and interpolated DESI telemetry data\n",
    "    \"\"\"\n",
    "    data = pd.DataFrame(rows, columns=columns)\n",
    "    data.set_index('time_recorded', inplace=True)\n",
    "    data.index = data.index.strftime('%Y-%m-%dT%H:%M:%S.%f')\n",
    "    data = data.replace({pd.NA: np.nan})\n",
    "    data.index.name = 'time'\n",
    "    data.reset_index(inplace=True)\n",
    "    data['time'] = data['time'].astype(str)\n",
    "    return fits.table_to_hdu(Table.from_pandas(data)"
   ]
  },
  {
   "cell_type": "code",
   "execution_count": null,
   "id": "dbe587b0-fc21-4ddd-b634-85df7c851c73",
   "metadata": {},
   "outputs": [],
   "source": [
    "labels = {}\n",
    "# labels['environmentmonitor_tower'] = ['time_recorded', 'temperature', 'pressure', 'humidity', 'wind_speed', 'wind_direction', 'dimm', 'dewpoint']\n",
    "# labels['environmentmonitor_dome'] = ['time_recorded', 'dome_left_upper', 'dome_left_lower', 'dome_right_upper', 'dome_right_lower', 'dome_back_upper', 'dome_back_lower', 'dome_floor_ne', 'dome_floor_nw', 'dome_floor_s']\n",
    "# labels['environmentmonitor_telescope'] = ['time_recorded', 'mirror_avg_temp', 'mirror_desired_temp', 'mirror_temp', 'mirror_cooling', 'air_temp', 'air_flow', 'air_dewpoint']\n",
    "labels['etc_seeing'] = ['time_recorded', 'etc_seeing', 'seeing']\n",
    "labels['etc_telemetry'] = ['time_recorded', 'seeing', 'transparency', 'skylevel']\n",
    "labels['tcs_info'] = ['time_recorded', 'mirror_ready', 'airmass']\n",
    "\n",
    "host = 'replicator-db.desi.lbl.gov'\n",
    "database = 'desi_dev'\n",
    "user = 'desi_reader'\n",
    "password = 'reader'\n",
    "port = '5432'\n",
    "preprocess=True\n",
    "\n",
    "for table, columns in tqdm(labels.items(), desc='Querying database tables...'):\n",
    "    conn = psycopg2.connect(host=host, port=port, database=database, user=user, password=password)\n",
    "    print(f'{table}')\n",
    "    with conn:\n",
    "        with conn.cursor() as cur:\n",
    "            cur.execute(f'SELECT {\", \".join(columns)} FROM {table};')\n",
    "            rows = np.asarray(cur.fetchall())\n",
    "            data = preprocess_data(rows=rows, columns=columns)\n",
    "            data.writeto(f'{data_dir}/{table}.fits', overwrite=True)"
   ]
  },
  {
   "cell_type": "code",
   "execution_count": null,
   "id": "75c429b3-656d-4de6-a163-29764b362737",
   "metadata": {},
   "outputs": [],
   "source": [
    "print(type(tower_data.time[0]))\n",
    "print(tower_data)"
   ]
  },
  {
   "cell_type": "code",
   "execution_count": null,
   "id": "1be78641-f893-4aca-bae3-df8c4306af08",
   "metadata": {},
   "outputs": [],
   "source": [
    "print(type(dome_data.time[0]))\n",
    "print(dome_data)"
   ]
  },
  {
   "cell_type": "code",
   "execution_count": null,
   "id": "eb99b9bc-9c77-4afe-afc6-28b7e68fede8",
   "metadata": {},
   "outputs": [],
   "source": [
    "print(type(telescope_data.time[0]))\n",
    "print(telescope_data)"
   ]
  },
  {
   "cell_type": "code",
   "execution_count": null,
   "id": "78570f06-c624-4eaa-994b-7e3a8a9ff208",
   "metadata": {},
   "outputs": [],
   "source": [
    "print(type(seeing_data.time[0]))\n",
    "print(seeing_data)"
   ]
  },
  {
   "cell_type": "code",
   "execution_count": null,
   "id": "be5063a5-0a53-48db-8be0-ec859d8b9fbe",
   "metadata": {},
   "outputs": [],
   "source": [
    "print(type(telemetry_data.time[0]))\n",
    "print(telemetry_data)"
   ]
  },
  {
   "cell_type": "code",
   "execution_count": null,
   "id": "fcdb6f06-a83c-4976-8ba6-99463fd46223",
   "metadata": {},
   "outputs": [],
   "source": [
    "print(type(tcs_data.time[0]))\n",
    "print(tcs_data)"
   ]
  },
  {
   "cell_type": "code",
   "execution_count": null,
   "id": "cf9a24b6-cdd2-4a1f-8f53-32a16e4bb3dc",
   "metadata": {},
   "outputs": [],
   "source": []
  }
 ],
 "metadata": {
  "kernelspec": {
   "display_name": "DESI main",
   "language": "python",
   "name": "desi-main"
  },
  "language_info": {
   "codemirror_mode": {
    "name": "ipython",
    "version": 3
   },
   "file_extension": ".py",
   "mimetype": "text/x-python",
   "name": "python",
   "nbconvert_exporter": "python",
   "pygments_lexer": "ipython3",
   "version": "3.9.7"
  }
 },
 "nbformat": 4,
 "nbformat_minor": 5
}
