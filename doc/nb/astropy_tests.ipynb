{
 "cells": [
  {
   "cell_type": "code",
   "execution_count": 3,
   "id": "536c449b-86c3-43f0-b4ea-42ab1a4e475b",
   "metadata": {},
   "outputs": [],
   "source": [
    "import os\n",
    "import psycopg2\n",
    "import pandas as pd\n",
    "import numpy as np\n",
    "import numba as nb\n",
    "import pickle\n",
    "import logging\n",
    "from tqdm.notebook import tqdm\n",
    "from datetime import datetime\n",
    "import pytz\n",
    "from scipy.interpolate import interp1d\n",
    "\n",
    "from astropy.utils.data import get_pkg_data_filename\n",
    "from astropy.io import fits\n",
    "from astropy.time import Time\n",
    "from astropy.table import Table\n",
    "from astropy.timeseries import aggregate_downsample, TimeSeries\n",
    "import astropy.units as u\n",
    "\n",
    "data_dir = '../../py/desiforecast/data'"
   ]
  },
  {
   "cell_type": "code",
   "execution_count": 2,
   "id": "40610305-78f6-4269-936e-8c9a9646e9ce",
   "metadata": {},
   "outputs": [
    {
     "name": "stderr",
     "output_type": "stream",
     "text": [
      "\n",
      "KeyboardInterrupt\n",
      "\n"
     ]
    }
   ],
   "source": [
    "with open(f'{data_dir}/environmentmonitor_tower.pkl', 'rb') as pf:\n",
    "    tower_data = pd.read_pickle(pf)\n",
    "with open(f'{data_dir}/environmentmonitor_dome.pkl', 'rb') as pf:\n",
    "    dome_data = pd.read_pickle(pf)\n",
    "with open(f'{data_dir}/environmentmonitor_telescope.pkl', 'rb') as pf:\n",
    "    telescope_data = pd.read_pickle(pf)\n",
    "with open(f'{data_dir}/etc_seeing.pkl', 'rb') as pf:\n",
    "    seeing_data = pd.read_pickle(pf)\n",
    "with open(f'{data_dir}/etc_telemetry.pkl', 'rb') as pf:\n",
    "    telemetry_data = pd.read_pickle(pf)\n",
    "with open(f'{data_dir}/tcs_info.pkl', 'rb') as pf:\n",
    "    tcs_data = pd.read_pickle(pf)\n",
    "telemetry_data.sort_index(inplace=True)\n",
    "seeing_data.sort_index(inplace=True)"
   ]
  },
  {
   "cell_type": "code",
   "execution_count": null,
   "id": "f3c7d656-c1f7-4c76-8ba1-11e42c340b88",
   "metadata": {},
   "outputs": [],
   "source": [
    "tower_data = TimeSeries.from_pandas(tower_data)\n",
    "dome_data = TimeSeries.from_pandas(dome_data)\n",
    "telescope_data = TimeSeries.from_pandas(telescope_data)\n",
    "seeing_data = TimeSeries.from_pandas(seeing_data)\n",
    "telemetry_data = TimeSeries.from_pandas(telemetry_data)\n",
    "tcs_data = TimeSeries.from_pandas(tcs_data)"
   ]
  },
  {
   "cell_type": "code",
   "execution_count": 39,
   "id": "512e136e-8047-41df-a9c7-5a20204d14f5",
   "metadata": {},
   "outputs": [
    {
     "ename": "ValueError",
     "evalue": "cannot replace a table index column",
     "output_type": "error",
     "traceback": [
      "\u001b[0;31m---------------------------------------------------------------------------\u001b[0m",
      "\u001b[0;31mValueError\u001b[0m                                Traceback (most recent call last)",
      "Input \u001b[0;32mIn [39]\u001b[0m, in \u001b[0;36m<module>\u001b[0;34m\u001b[0m\n\u001b[0;32m----> 1\u001b[0m \u001b[43mtower_data\u001b[49m\u001b[38;5;241;43m.\u001b[39;49m\u001b[43mwrite\u001b[49m\u001b[43m(\u001b[49m\u001b[38;5;124;43mf\u001b[39;49m\u001b[38;5;124;43m'\u001b[39;49m\u001b[38;5;132;43;01m{\u001b[39;49;00m\u001b[43mdata_dir\u001b[49m\u001b[38;5;132;43;01m}\u001b[39;49;00m\u001b[38;5;124;43m/environmentmonitor_tower.fits\u001b[39;49m\u001b[38;5;124;43m'\u001b[39;49m\u001b[43m,\u001b[49m\u001b[43m \u001b[49m\u001b[43moverwrite\u001b[49m\u001b[38;5;241;43m=\u001b[39;49m\u001b[38;5;28;43;01mTrue\u001b[39;49;00m\u001b[43m)\u001b[49m\n\u001b[1;32m      2\u001b[0m dome_data\u001b[38;5;241m.\u001b[39mwrite(\u001b[38;5;124mf\u001b[39m\u001b[38;5;124m'\u001b[39m\u001b[38;5;132;01m{\u001b[39;00mdata_dir\u001b[38;5;132;01m}\u001b[39;00m\u001b[38;5;124m/environmentmonitor_dome.fits\u001b[39m\u001b[38;5;124m'\u001b[39m, overwrite\u001b[38;5;241m=\u001b[39m\u001b[38;5;28;01mTrue\u001b[39;00m)\n\u001b[1;32m      3\u001b[0m telescope_data\u001b[38;5;241m.\u001b[39mwrite(\u001b[38;5;124mf\u001b[39m\u001b[38;5;124m'\u001b[39m\u001b[38;5;132;01m{\u001b[39;00mdata_dir\u001b[38;5;132;01m}\u001b[39;00m\u001b[38;5;124m/environmentmonitor_telescope.fits\u001b[39m\u001b[38;5;124m'\u001b[39m, overwrite\u001b[38;5;241m=\u001b[39m\u001b[38;5;28;01mTrue\u001b[39;00m)\n",
      "File \u001b[0;32m/global/common/software/desi/perlmutter/desiconda/20220119-2.0.1/conda/lib/python3.9/site-packages/astropy/table/connect.py:129\u001b[0m, in \u001b[0;36mTableWrite.__call__\u001b[0;34m(self, serialize_method, *args, **kwargs)\u001b[0m\n\u001b[1;32m    127\u001b[0m instance \u001b[38;5;241m=\u001b[39m \u001b[38;5;28mself\u001b[39m\u001b[38;5;241m.\u001b[39m_instance\n\u001b[1;32m    128\u001b[0m \u001b[38;5;28;01mwith\u001b[39;00m serialize_method_as(instance, serialize_method):\n\u001b[0;32m--> 129\u001b[0m     \u001b[38;5;28;43mself\u001b[39;49m\u001b[38;5;241;43m.\u001b[39;49m\u001b[43mregistry\u001b[49m\u001b[38;5;241;43m.\u001b[39;49m\u001b[43mwrite\u001b[49m\u001b[43m(\u001b[49m\u001b[43minstance\u001b[49m\u001b[43m,\u001b[49m\u001b[43m \u001b[49m\u001b[38;5;241;43m*\u001b[39;49m\u001b[43margs\u001b[49m\u001b[43m,\u001b[49m\u001b[43m \u001b[49m\u001b[38;5;241;43m*\u001b[39;49m\u001b[38;5;241;43m*\u001b[39;49m\u001b[43mkwargs\u001b[49m\u001b[43m)\u001b[49m\n",
      "File \u001b[0;32m/global/common/software/desi/perlmutter/desiconda/20220119-2.0.1/conda/lib/python3.9/site-packages/astropy/io/registry/core.py:354\u001b[0m, in \u001b[0;36mUnifiedOutputRegistry.write\u001b[0;34m(self, data, format, *args, **kwargs)\u001b[0m\n\u001b[1;32m    350\u001b[0m     \u001b[38;5;28mformat\u001b[39m \u001b[38;5;241m=\u001b[39m \u001b[38;5;28mself\u001b[39m\u001b[38;5;241m.\u001b[39m_get_valid_format(\n\u001b[1;32m    351\u001b[0m         \u001b[38;5;124m'\u001b[39m\u001b[38;5;124mwrite\u001b[39m\u001b[38;5;124m'\u001b[39m, data\u001b[38;5;241m.\u001b[39m\u001b[38;5;18m__class__\u001b[39m, path, fileobj, args, kwargs)\n\u001b[1;32m    353\u001b[0m writer \u001b[38;5;241m=\u001b[39m \u001b[38;5;28mself\u001b[39m\u001b[38;5;241m.\u001b[39mget_writer(\u001b[38;5;28mformat\u001b[39m, data\u001b[38;5;241m.\u001b[39m\u001b[38;5;18m__class__\u001b[39m)\n\u001b[0;32m--> 354\u001b[0m \u001b[38;5;28;01mreturn\u001b[39;00m \u001b[43mwriter\u001b[49m\u001b[43m(\u001b[49m\u001b[43mdata\u001b[49m\u001b[43m,\u001b[49m\u001b[43m \u001b[49m\u001b[38;5;241;43m*\u001b[39;49m\u001b[43margs\u001b[49m\u001b[43m,\u001b[49m\u001b[43m \u001b[49m\u001b[38;5;241;43m*\u001b[39;49m\u001b[38;5;241;43m*\u001b[39;49m\u001b[43mkwargs\u001b[49m\u001b[43m)\u001b[49m\n",
      "File \u001b[0;32m/global/common/software/desi/perlmutter/desiconda/20220119-2.0.1/conda/lib/python3.9/site-packages/astropy/io/fits/connect.py:397\u001b[0m, in \u001b[0;36mwrite_table_fits\u001b[0;34m(input, output, overwrite, append)\u001b[0m\n\u001b[1;32m    394\u001b[0m \u001b[38;5;66;03m# Encode any mixin columns into standard Columns.\u001b[39;00m\n\u001b[1;32m    395\u001b[0m \u001b[38;5;28minput\u001b[39m \u001b[38;5;241m=\u001b[39m _encode_mixins(\u001b[38;5;28minput\u001b[39m)\n\u001b[0;32m--> 397\u001b[0m table_hdu \u001b[38;5;241m=\u001b[39m \u001b[43mtable_to_hdu\u001b[49m\u001b[43m(\u001b[49m\u001b[38;5;28;43minput\u001b[39;49m\u001b[43m,\u001b[49m\u001b[43m \u001b[49m\u001b[43mcharacter_as_bytes\u001b[49m\u001b[38;5;241;43m=\u001b[39;49m\u001b[38;5;28;43;01mTrue\u001b[39;49;00m\u001b[43m)\u001b[49m\n\u001b[1;32m    399\u001b[0m \u001b[38;5;66;03m# Check if output file already exists\u001b[39;00m\n\u001b[1;32m    400\u001b[0m \u001b[38;5;28;01mif\u001b[39;00m \u001b[38;5;28misinstance\u001b[39m(output, \u001b[38;5;28mstr\u001b[39m) \u001b[38;5;129;01mand\u001b[39;00m os\u001b[38;5;241m.\u001b[39mpath\u001b[38;5;241m.\u001b[39mexists(output):\n",
      "File \u001b[0;32m/global/common/software/desi/perlmutter/desiconda/20220119-2.0.1/conda/lib/python3.9/site-packages/astropy/io/fits/convenience.py:499\u001b[0m, in \u001b[0;36mtable_to_hdu\u001b[0;34m(table, character_as_bytes)\u001b[0m\n\u001b[1;32m    497\u001b[0m     time_cols \u001b[38;5;241m=\u001b[39m table\u001b[38;5;241m.\u001b[39mcolumns\u001b[38;5;241m.\u001b[39misinstance(Time)\n\u001b[1;32m    498\u001b[0m     \u001b[38;5;28;01mif\u001b[39;00m time_cols:\n\u001b[0;32m--> 499\u001b[0m         table, hdr \u001b[38;5;241m=\u001b[39m \u001b[43mtime_to_fits\u001b[49m\u001b[43m(\u001b[49m\u001b[43mtable\u001b[49m\u001b[43m)\u001b[49m\n\u001b[1;32m    501\u001b[0m \u001b[38;5;66;03m# Create a new HDU object\u001b[39;00m\n\u001b[1;32m    502\u001b[0m tarray \u001b[38;5;241m=\u001b[39m table\u001b[38;5;241m.\u001b[39mas_array()\n",
      "File \u001b[0;32m/global/common/software/desi/perlmutter/desiconda/20220119-2.0.1/conda/lib/python3.9/site-packages/astropy/io/fits/fitstime.py:563\u001b[0m, in \u001b[0;36mtime_to_fits\u001b[0;34m(table)\u001b[0m\n\u001b[1;32m    560\u001b[0m jd12 \u001b[38;5;241m=\u001b[39m np\u001b[38;5;241m.\u001b[39mstack([col\u001b[38;5;241m.\u001b[39mjd1, col\u001b[38;5;241m.\u001b[39mjd2], axis\u001b[38;5;241m=\u001b[39m\u001b[38;5;241m-\u001b[39m\u001b[38;5;241m1\u001b[39m)\n\u001b[1;32m    561\u001b[0m \u001b[38;5;66;03m# Roll the 0th (innermost) axis backwards, until it lies in the last position\u001b[39;00m\n\u001b[1;32m    562\u001b[0m \u001b[38;5;66;03m# (jd12.ndim)\u001b[39;00m\n\u001b[0;32m--> 563\u001b[0m \u001b[43mnewtable\u001b[49m\u001b[38;5;241;43m.\u001b[39;49m\u001b[43mreplace_column\u001b[49m\u001b[43m(\u001b[49m\u001b[43mcol\u001b[49m\u001b[38;5;241;43m.\u001b[39;49m\u001b[43minfo\u001b[49m\u001b[38;5;241;43m.\u001b[39;49m\u001b[43mname\u001b[49m\u001b[43m,\u001b[49m\u001b[43m \u001b[49m\u001b[43mcol_cls\u001b[49m\u001b[43m(\u001b[49m\u001b[43mjd12\u001b[49m\u001b[43m,\u001b[49m\u001b[43m \u001b[49m\u001b[43munit\u001b[49m\u001b[38;5;241;43m=\u001b[39;49m\u001b[38;5;124;43m'\u001b[39;49m\u001b[38;5;124;43md\u001b[39;49m\u001b[38;5;124;43m'\u001b[39;49m\u001b[43m)\u001b[49m\u001b[43m)\u001b[49m\n\u001b[1;32m    565\u001b[0m \u001b[38;5;66;03m# Time column-specific override keywords\u001b[39;00m\n\u001b[1;32m    566\u001b[0m coord_meta[col\u001b[38;5;241m.\u001b[39minfo\u001b[38;5;241m.\u001b[39mname][\u001b[38;5;124m'\u001b[39m\u001b[38;5;124mcoord_type\u001b[39m\u001b[38;5;124m'\u001b[39m] \u001b[38;5;241m=\u001b[39m col\u001b[38;5;241m.\u001b[39mscale\u001b[38;5;241m.\u001b[39mupper()\n",
      "File \u001b[0;32m/global/common/software/desi/perlmutter/desiconda/20220119-2.0.1/conda/lib/python3.9/site-packages/astropy/table/table.py:2423\u001b[0m, in \u001b[0;36mTable.replace_column\u001b[0;34m(self, name, col, copy)\u001b[0m\n\u001b[1;32m   2420\u001b[0m     \u001b[38;5;28;01mraise\u001b[39;00m \u001b[38;5;167;01mValueError\u001b[39;00m(\u001b[38;5;124mf\u001b[39m\u001b[38;5;124m'\u001b[39m\u001b[38;5;124mcolumn name \u001b[39m\u001b[38;5;132;01m{\u001b[39;00mname\u001b[38;5;132;01m}\u001b[39;00m\u001b[38;5;124m is not in the table\u001b[39m\u001b[38;5;124m'\u001b[39m)\n\u001b[1;32m   2422\u001b[0m \u001b[38;5;28;01mif\u001b[39;00m \u001b[38;5;28mself\u001b[39m[name]\u001b[38;5;241m.\u001b[39minfo\u001b[38;5;241m.\u001b[39mindices:\n\u001b[0;32m-> 2423\u001b[0m     \u001b[38;5;28;01mraise\u001b[39;00m \u001b[38;5;167;01mValueError\u001b[39;00m(\u001b[38;5;124m'\u001b[39m\u001b[38;5;124mcannot replace a table index column\u001b[39m\u001b[38;5;124m'\u001b[39m)\n\u001b[1;32m   2425\u001b[0m col \u001b[38;5;241m=\u001b[39m \u001b[38;5;28mself\u001b[39m\u001b[38;5;241m.\u001b[39m_convert_data_to_col(col, name\u001b[38;5;241m=\u001b[39mname, copy\u001b[38;5;241m=\u001b[39mcopy)\n\u001b[1;32m   2426\u001b[0m \u001b[38;5;28mself\u001b[39m\u001b[38;5;241m.\u001b[39m_set_col_parent_table_and_mask(col)\n",
      "\u001b[0;31mValueError\u001b[0m: cannot replace a table index column"
     ]
    }
   ],
   "source": [
    "tower_data.write(f'{data_dir}/environmentmonitor_tower.fits', overwrite=True)\n",
    "dome_data.write(f'{data_dir}/environmentmonitor_dome.fits', overwrite=True)\n",
    "telescope_data.write(f'{data_dir}/environmentmonitor_telescope.fits', overwrite=True)\n",
    "seeing_data.write(f'{data_dir}/etc_seeing.fits', overwrite=True)\n",
    "telemetrydata.write(f'{data_dir}/etc_telemetry.fits', overwrite=True)\n",
    "tcs_data.write(f'{data_dir}/tcs_info.fits', overwrite=True)\n"
   ]
  },
  {
   "cell_type": "code",
   "execution_count": null,
   "id": "3c31ee7c-3dfb-4949-a811-19aef4c3cb68",
   "metadata": {},
   "outputs": [],
   "source": [
    "print(tower_data)"
   ]
  },
  {
   "cell_type": "code",
   "execution_count": 97,
   "id": "f9746171-38e2-4699-bfdf-bbd7dbf5b293",
   "metadata": {},
   "outputs": [],
   "source": [
    "# def preprocess_data(data):\n",
    "#     nans = np.isnan(y)\n",
    "#     x = lambda z: z.nonzero()[0]\n",
    "#     data[nans] = np.interp(x(nans), x(~nans), y[~nans])\n",
    "#     data\n",
    "#     if 'seeing' in data.colnames:\n",
    "#         pass\n",
    "#     else:\n",
    "#         data = aggregate_downsample(data, time_bin_size=6*u.s)\n",
    "#     return data\n",
    "def preprocess_data(rows, columns):\n",
    "    \"\"\"Preprocesses DESI telemetry data contained within Pandas dataframe.\n",
    "    \n",
    "    Parameters\n",
    "    ----------\n",
    "    rows : numpy.ndarray\n",
    "        Unprocessed data as queried from the DESI telemetry database\n",
    "    \n",
    "    Returns\n",
    "    -------\n",
    "    data : astropy.io.fits.BinTableHDU\n",
    "        Resampled and interpolated DESI telemetry data\n",
    "    \"\"\"\n",
    "    data = pd.DataFrame(rows, columns=columns)\n",
    "    data.set_index('time_recorded', inplace=True)\n",
    "    data.index.name = 'time'\n",
    "    if 'seeing' in data.columns.values:\n",
    "        data.fillna(0.0, inplace=True)\n",
    "    else:\n",
    "        data = data.resample('6S').mean()\n",
    "        data.interpolate(limit_direction='both', inplace=True)\n",
    "    for i in data.columns.values:\n",
    "        if data[i].dtypes == 'object':\n",
    "            data[i] = data[i].astype(float)\n",
    "    data.reset_index(inplace=True)\n",
    "    data['time'] = Time(data['time'])\n",
    "    print(data.dtypes)\n",
    "    return fits.table_to_hdu(Table.from_pandas(data))"
   ]
  },
  {
   "cell_type": "code",
   "execution_count": 99,
   "id": "dbe587b0-fc21-4ddd-b634-85df7c851c73",
   "metadata": {},
   "outputs": [
    {
     "data": {
      "application/vnd.jupyter.widget-view+json": {
       "model_id": "256ec74155914d35a81d97fa2cd4ff43",
       "version_major": 2,
       "version_minor": 0
      },
      "text/plain": [
       "Querying database tables...:   0%|          | 0/1 [00:00<?, ?it/s]"
      ]
     },
     "metadata": {},
     "output_type": "display_data"
    },
    {
     "name": "stdout",
     "output_type": "stream",
     "text": [
      "etc_seeing:\n",
      "\tQuerying database table...\n",
      "time       object\n",
      "seeing    float64\n",
      "dtype: object\n"
     ]
    },
    {
     "ename": "ValueError",
     "evalue": "Illegal format `object`.",
     "output_type": "error",
     "traceback": [
      "\u001b[0;31m---------------------------------------------------------------------------\u001b[0m",
      "\u001b[0;31mValueError\u001b[0m                                Traceback (most recent call last)",
      "Input \u001b[0;32mIn [99]\u001b[0m, in \u001b[0;36m<module>\u001b[0;34m\u001b[0m\n\u001b[1;32m     16\u001b[0m cur\u001b[38;5;241m.\u001b[39mexecute(\u001b[38;5;124mf\u001b[39m\u001b[38;5;124m'\u001b[39m\u001b[38;5;124mSELECT \u001b[39m\u001b[38;5;132;01m{\u001b[39;00m\u001b[38;5;124m\"\u001b[39m\u001b[38;5;124m, \u001b[39m\u001b[38;5;124m\"\u001b[39m\u001b[38;5;241m.\u001b[39mjoin(columns)\u001b[38;5;132;01m}\u001b[39;00m\u001b[38;5;124m FROM \u001b[39m\u001b[38;5;132;01m{\u001b[39;00mtable\u001b[38;5;132;01m}\u001b[39;00m\u001b[38;5;124m;\u001b[39m\u001b[38;5;124m'\u001b[39m)\n\u001b[1;32m     17\u001b[0m rows \u001b[38;5;241m=\u001b[39m np\u001b[38;5;241m.\u001b[39masarray(cur\u001b[38;5;241m.\u001b[39mfetchall())\n\u001b[0;32m---> 18\u001b[0m data \u001b[38;5;241m=\u001b[39m \u001b[43mpreprocess_data\u001b[49m\u001b[43m(\u001b[49m\u001b[43mrows\u001b[49m\u001b[43m,\u001b[49m\u001b[43m \u001b[49m\u001b[43mcolumns\u001b[49m\u001b[43m)\u001b[49m\n\u001b[1;32m     19\u001b[0m data\u001b[38;5;241m.\u001b[39mwriteto(\u001b[38;5;124mf\u001b[39m\u001b[38;5;124m'\u001b[39m\u001b[38;5;132;01m{\u001b[39;00mdata_dir\u001b[38;5;132;01m}\u001b[39;00m\u001b[38;5;124m/\u001b[39m\u001b[38;5;132;01m{\u001b[39;00mtable\u001b[38;5;132;01m}\u001b[39;00m\u001b[38;5;124m.fits\u001b[39m\u001b[38;5;124m'\u001b[39m, overwrite\u001b[38;5;241m=\u001b[39m\u001b[38;5;28;01mTrue\u001b[39;00m)\n",
      "Input \u001b[0;32mIn [97]\u001b[0m, in \u001b[0;36mpreprocess_data\u001b[0;34m(rows, columns)\u001b[0m\n\u001b[1;32m     36\u001b[0m data[\u001b[38;5;124m'\u001b[39m\u001b[38;5;124mtime\u001b[39m\u001b[38;5;124m'\u001b[39m] \u001b[38;5;241m=\u001b[39m Time(data[\u001b[38;5;124m'\u001b[39m\u001b[38;5;124mtime\u001b[39m\u001b[38;5;124m'\u001b[39m])\n\u001b[1;32m     37\u001b[0m \u001b[38;5;28mprint\u001b[39m(data\u001b[38;5;241m.\u001b[39mdtypes)\n\u001b[0;32m---> 38\u001b[0m \u001b[38;5;28;01mreturn\u001b[39;00m \u001b[43mfits\u001b[49m\u001b[38;5;241;43m.\u001b[39;49m\u001b[43mtable_to_hdu\u001b[49m\u001b[43m(\u001b[49m\u001b[43mTable\u001b[49m\u001b[38;5;241;43m.\u001b[39;49m\u001b[43mfrom_pandas\u001b[49m\u001b[43m(\u001b[49m\u001b[43mdata\u001b[49m\u001b[43m)\u001b[49m\u001b[43m)\u001b[49m\n",
      "File \u001b[0;32m/global/common/software/desi/perlmutter/desiconda/20220119-2.0.1/conda/lib/python3.9/site-packages/astropy/io/fits/convenience.py:540\u001b[0m, in \u001b[0;36mtable_to_hdu\u001b[0;34m(table, character_as_bytes)\u001b[0m\n\u001b[1;32m    538\u001b[0m         col\u001b[38;5;241m.\u001b[39mnull \u001b[38;5;241m=\u001b[39m fill_value\u001b[38;5;241m.\u001b[39mastype(\u001b[38;5;28mint\u001b[39m)\n\u001b[1;32m    539\u001b[0m \u001b[38;5;28;01melse\u001b[39;00m:\n\u001b[0;32m--> 540\u001b[0m     table_hdu \u001b[38;5;241m=\u001b[39m \u001b[43mBinTableHDU\u001b[49m\u001b[38;5;241;43m.\u001b[39;49m\u001b[43mfrom_columns\u001b[49m\u001b[43m(\u001b[49m\u001b[43mtarray\u001b[49m\u001b[43m,\u001b[49m\u001b[43m \u001b[49m\u001b[43mheader\u001b[49m\u001b[38;5;241;43m=\u001b[39;49m\u001b[43mhdr\u001b[49m\u001b[43m,\u001b[49m\n\u001b[1;32m    541\u001b[0m \u001b[43m                                         \u001b[49m\u001b[43mcharacter_as_bytes\u001b[49m\u001b[38;5;241;43m=\u001b[39;49m\u001b[43mcharacter_as_bytes\u001b[49m\u001b[43m)\u001b[49m\n\u001b[1;32m    543\u001b[0m \u001b[38;5;66;03m# Set units and format display for output HDU\u001b[39;00m\n\u001b[1;32m    544\u001b[0m \u001b[38;5;28;01mfor\u001b[39;00m col \u001b[38;5;129;01min\u001b[39;00m table_hdu\u001b[38;5;241m.\u001b[39mcolumns:\n",
      "File \u001b[0;32m/global/common/software/desi/perlmutter/desiconda/20220119-2.0.1/conda/lib/python3.9/site-packages/astropy/io/fits/hdu/table.py:125\u001b[0m, in \u001b[0;36m_TableLikeHDU.from_columns\u001b[0;34m(cls, columns, header, nrows, fill, character_as_bytes, **kwargs)\u001b[0m\n\u001b[1;32m     71\u001b[0m \u001b[38;5;129m@classmethod\u001b[39m\n\u001b[1;32m     72\u001b[0m \u001b[38;5;28;01mdef\u001b[39;00m \u001b[38;5;21mfrom_columns\u001b[39m(\u001b[38;5;28mcls\u001b[39m, columns, header\u001b[38;5;241m=\u001b[39m\u001b[38;5;28;01mNone\u001b[39;00m, nrows\u001b[38;5;241m=\u001b[39m\u001b[38;5;241m0\u001b[39m, fill\u001b[38;5;241m=\u001b[39m\u001b[38;5;28;01mFalse\u001b[39;00m,\n\u001b[1;32m     73\u001b[0m                  character_as_bytes\u001b[38;5;241m=\u001b[39m\u001b[38;5;28;01mFalse\u001b[39;00m, \u001b[38;5;241m*\u001b[39m\u001b[38;5;241m*\u001b[39mkwargs):\n\u001b[1;32m     74\u001b[0m     \u001b[38;5;124;03m\"\"\"\u001b[39;00m\n\u001b[1;32m     75\u001b[0m \u001b[38;5;124;03m    Given either a `ColDefs` object, a sequence of `Column` objects,\u001b[39;00m\n\u001b[1;32m     76\u001b[0m \u001b[38;5;124;03m    or another table HDU or table data (a `FITS_rec` or multi-field\u001b[39;00m\n\u001b[0;32m   (...)\u001b[0m\n\u001b[1;32m    122\u001b[0m \u001b[38;5;124;03m    ``__init__`` may also be passed in as keyword arguments.\u001b[39;00m\n\u001b[1;32m    123\u001b[0m \u001b[38;5;124;03m    \"\"\"\u001b[39;00m\n\u001b[0;32m--> 125\u001b[0m     coldefs \u001b[38;5;241m=\u001b[39m \u001b[38;5;28;43mcls\u001b[39;49m\u001b[38;5;241;43m.\u001b[39;49m\u001b[43m_columns_type\u001b[49m\u001b[43m(\u001b[49m\u001b[43mcolumns\u001b[49m\u001b[43m)\u001b[49m\n\u001b[1;32m    126\u001b[0m     data \u001b[38;5;241m=\u001b[39m FITS_rec\u001b[38;5;241m.\u001b[39mfrom_columns(coldefs, nrows\u001b[38;5;241m=\u001b[39mnrows, fill\u001b[38;5;241m=\u001b[39mfill,\n\u001b[1;32m    127\u001b[0m                                  character_as_bytes\u001b[38;5;241m=\u001b[39mcharacter_as_bytes)\n\u001b[1;32m    128\u001b[0m     hdu \u001b[38;5;241m=\u001b[39m \u001b[38;5;28mcls\u001b[39m(data\u001b[38;5;241m=\u001b[39mdata, header\u001b[38;5;241m=\u001b[39mheader, character_as_bytes\u001b[38;5;241m=\u001b[39mcharacter_as_bytes, \u001b[38;5;241m*\u001b[39m\u001b[38;5;241m*\u001b[39mkwargs)\n",
      "File \u001b[0;32m/global/common/software/desi/perlmutter/desiconda/20220119-2.0.1/conda/lib/python3.9/site-packages/astropy/io/fits/column.py:1403\u001b[0m, in \u001b[0;36mColDefs.__init__\u001b[0;34m(self, input, ascii)\u001b[0m\n\u001b[1;32m   1400\u001b[0m     \u001b[38;5;28mself\u001b[39m\u001b[38;5;241m.\u001b[39m_init_from_coldefs(\u001b[38;5;28minput\u001b[39m\u001b[38;5;241m.\u001b[39m_coldefs)\n\u001b[1;32m   1401\u001b[0m \u001b[38;5;28;01melif\u001b[39;00m \u001b[38;5;28misinstance\u001b[39m(\u001b[38;5;28minput\u001b[39m, np\u001b[38;5;241m.\u001b[39mndarray) \u001b[38;5;129;01mand\u001b[39;00m \u001b[38;5;28minput\u001b[39m\u001b[38;5;241m.\u001b[39mdtype\u001b[38;5;241m.\u001b[39mfields \u001b[38;5;129;01mis\u001b[39;00m \u001b[38;5;129;01mnot\u001b[39;00m \u001b[38;5;28;01mNone\u001b[39;00m:\n\u001b[1;32m   1402\u001b[0m     \u001b[38;5;66;03m# Construct columns from the fields of a record array\u001b[39;00m\n\u001b[0;32m-> 1403\u001b[0m     \u001b[38;5;28;43mself\u001b[39;49m\u001b[38;5;241;43m.\u001b[39;49m\u001b[43m_init_from_array\u001b[49m\u001b[43m(\u001b[49m\u001b[38;5;28;43minput\u001b[39;49m\u001b[43m)\u001b[49m\n\u001b[1;32m   1404\u001b[0m \u001b[38;5;28;01melif\u001b[39;00m isiterable(\u001b[38;5;28minput\u001b[39m):\n\u001b[1;32m   1405\u001b[0m     \u001b[38;5;66;03m# if the input is a list of Columns\u001b[39;00m\n\u001b[1;32m   1406\u001b[0m     \u001b[38;5;28mself\u001b[39m\u001b[38;5;241m.\u001b[39m_init_from_sequence(\u001b[38;5;28minput\u001b[39m)\n",
      "File \u001b[0;32m/global/common/software/desi/perlmutter/desiconda/20220119-2.0.1/conda/lib/python3.9/site-packages/astropy/io/fits/column.py:1437\u001b[0m, in \u001b[0;36mColDefs._init_from_array\u001b[0;34m(self, array)\u001b[0m\n\u001b[1;32m   1435\u001b[0m cname \u001b[38;5;241m=\u001b[39m array\u001b[38;5;241m.\u001b[39mdtype\u001b[38;5;241m.\u001b[39mnames[idx]\n\u001b[1;32m   1436\u001b[0m ftype \u001b[38;5;241m=\u001b[39m array\u001b[38;5;241m.\u001b[39mdtype\u001b[38;5;241m.\u001b[39mfields[cname][\u001b[38;5;241m0\u001b[39m]\n\u001b[0;32m-> 1437\u001b[0m \u001b[38;5;28mformat\u001b[39m \u001b[38;5;241m=\u001b[39m \u001b[38;5;28;43mself\u001b[39;49m\u001b[38;5;241;43m.\u001b[39;49m\u001b[43m_col_format_cls\u001b[49m\u001b[38;5;241;43m.\u001b[39;49m\u001b[43mfrom_recformat\u001b[49m\u001b[43m(\u001b[49m\u001b[43mftype\u001b[49m\u001b[43m)\u001b[49m\n\u001b[1;32m   1439\u001b[0m \u001b[38;5;66;03m# Determine the appropriate dimensions for items in the column\u001b[39;00m\n\u001b[1;32m   1440\u001b[0m \u001b[38;5;66;03m# (typically just 1D)\u001b[39;00m\n\u001b[1;32m   1441\u001b[0m dim \u001b[38;5;241m=\u001b[39m array\u001b[38;5;241m.\u001b[39mdtype[idx]\u001b[38;5;241m.\u001b[39mshape[::\u001b[38;5;241m-\u001b[39m\u001b[38;5;241m1\u001b[39m]\n",
      "File \u001b[0;32m/global/common/software/desi/perlmutter/desiconda/20220119-2.0.1/conda/lib/python3.9/site-packages/astropy/io/fits/column.py:275\u001b[0m, in \u001b[0;36m_ColumnFormat.from_recformat\u001b[0;34m(cls, recformat)\u001b[0m\n\u001b[1;32m    271\u001b[0m \u001b[38;5;129m@classmethod\u001b[39m\n\u001b[1;32m    272\u001b[0m \u001b[38;5;28;01mdef\u001b[39;00m \u001b[38;5;21mfrom_recformat\u001b[39m(\u001b[38;5;28mcls\u001b[39m, recformat):\n\u001b[1;32m    273\u001b[0m     \u001b[38;5;124;03m\"\"\"Creates a column format from a Numpy record dtype format.\"\"\"\u001b[39;00m\n\u001b[0;32m--> 275\u001b[0m     \u001b[38;5;28;01mreturn\u001b[39;00m \u001b[38;5;28mcls\u001b[39m(\u001b[43m_convert_format\u001b[49m\u001b[43m(\u001b[49m\u001b[43mrecformat\u001b[49m\u001b[43m,\u001b[49m\u001b[43m \u001b[49m\u001b[43mreverse\u001b[49m\u001b[38;5;241;43m=\u001b[39;49m\u001b[38;5;28;43;01mTrue\u001b[39;49;00m\u001b[43m)\u001b[49m)\n",
      "File \u001b[0;32m/global/common/software/desi/perlmutter/desiconda/20220119-2.0.1/conda/lib/python3.9/site-packages/astropy/io/fits/column.py:2436\u001b[0m, in \u001b[0;36m_convert_format\u001b[0;34m(format, reverse)\u001b[0m\n\u001b[1;32m   2430\u001b[0m \u001b[38;5;124;03m\"\"\"\u001b[39;00m\n\u001b[1;32m   2431\u001b[0m \u001b[38;5;124;03mConvert FITS format spec to record format spec.  Do the opposite if\u001b[39;00m\n\u001b[1;32m   2432\u001b[0m \u001b[38;5;124;03mreverse=True.\u001b[39;00m\n\u001b[1;32m   2433\u001b[0m \u001b[38;5;124;03m\"\"\"\u001b[39;00m\n\u001b[1;32m   2435\u001b[0m \u001b[38;5;28;01mif\u001b[39;00m reverse:\n\u001b[0;32m-> 2436\u001b[0m     \u001b[38;5;28;01mreturn\u001b[39;00m \u001b[43m_convert_record2fits\u001b[49m\u001b[43m(\u001b[49m\u001b[38;5;28;43mformat\u001b[39;49m\u001b[43m)\u001b[49m\n\u001b[1;32m   2437\u001b[0m \u001b[38;5;28;01melse\u001b[39;00m:\n\u001b[1;32m   2438\u001b[0m     \u001b[38;5;28;01mreturn\u001b[39;00m _convert_fits2record(\u001b[38;5;28mformat\u001b[39m)\n",
      "File \u001b[0;32m/global/common/software/desi/perlmutter/desiconda/20220119-2.0.1/conda/lib/python3.9/site-packages/astropy/io/fits/column.py:2399\u001b[0m, in \u001b[0;36m_convert_record2fits\u001b[0;34m(format)\u001b[0m\n\u001b[1;32m   2397\u001b[0m     output_format \u001b[38;5;241m=\u001b[39m repeat \u001b[38;5;241m+\u001b[39m NUMPY2FITS[recformat]\n\u001b[1;32m   2398\u001b[0m \u001b[38;5;28;01melse\u001b[39;00m:\n\u001b[0;32m-> 2399\u001b[0m     \u001b[38;5;28;01mraise\u001b[39;00m \u001b[38;5;167;01mValueError\u001b[39;00m(\u001b[38;5;124mf\u001b[39m\u001b[38;5;124m'\u001b[39m\u001b[38;5;124mIllegal format `\u001b[39m\u001b[38;5;132;01m{\u001b[39;00m\u001b[38;5;28mformat\u001b[39m\u001b[38;5;132;01m}\u001b[39;00m\u001b[38;5;124m`.\u001b[39m\u001b[38;5;124m'\u001b[39m)\n\u001b[1;32m   2401\u001b[0m \u001b[38;5;28;01mreturn\u001b[39;00m output_format\n",
      "\u001b[0;31mValueError\u001b[0m: Illegal format `object`."
     ]
    }
   ],
   "source": [
    "labels = {}\n",
    "labels['etc_seeing'] = ['time_recorded', 'seeing']\n",
    "\n",
    "host = 'replicator-db.desi.lbl.gov'\n",
    "database = 'desi_dev'\n",
    "user = 'desi_reader'\n",
    "password = 'reader'\n",
    "port = '5432'\n",
    "\n",
    "for table, columns in tqdm(labels.items(), desc='Querying database tables...'):\n",
    "    conn = psycopg2.connect(host=host, port=port, database=database, user=user, password=password)\n",
    "    print(f'{table}:')\n",
    "    with conn:\n",
    "        with conn.cursor() as cur:\n",
    "            print('\\tQuerying database table...')\n",
    "            cur.execute(f'SELECT {\", \".join(columns)} FROM {table};')\n",
    "            rows = np.asarray(cur.fetchall())\n",
    "            data = preprocess_data(rows, columns)\n",
    "            data.writeto(f'{data_dir}/{table}.fits', overwrite=True)"
   ]
  },
  {
   "cell_type": "code",
   "execution_count": null,
   "id": "542c518b-5164-42e2-809f-8d43786d5db1",
   "metadata": {},
   "outputs": [],
   "source": []
  },
  {
   "cell_type": "code",
   "execution_count": 4,
   "id": "fa61dd60-bfce-47e3-8f7b-ec265955cbdd",
   "metadata": {},
   "outputs": [],
   "source": [
    "data = Table.read(f'{data_dir}/etc_seeing.fits')"
   ]
  },
  {
   "cell_type": "code",
   "execution_count": 5,
   "id": "9cf8afa0-bcb9-474e-8d17-855e3941be63",
   "metadata": {},
   "outputs": [],
   "source": [
    "for i in range(len(data)):\n",
    "    if data[i][0]!='2':\n",
    "        print(data[i][0])"
   ]
  },
  {
   "cell_type": "code",
   "execution_count": 188,
   "id": "8206d833-4bbd-45f6-a397-daaae721965a",
   "metadata": {},
   "outputs": [],
   "source": [
    "data.write(f'{data_dir}/etc_seeing.fits', overwrite=True)"
   ]
  },
  {
   "cell_type": "code",
   "execution_count": null,
   "id": "cf9a24b6-cdd2-4a1f-8f53-32a16e4bb3dc",
   "metadata": {},
   "outputs": [],
   "source": []
  }
 ],
 "metadata": {
  "kernelspec": {
   "display_name": "DESI main",
   "language": "python",
   "name": "desi-main"
  },
  "language_info": {
   "codemirror_mode": {
    "name": "ipython",
    "version": 3
   },
   "file_extension": ".py",
   "mimetype": "text/x-python",
   "name": "python",
   "nbconvert_exporter": "python",
   "pygments_lexer": "ipython3",
   "version": "3.9.7"
  }
 },
 "nbformat": 4,
 "nbformat_minor": 5
}
