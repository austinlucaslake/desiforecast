{
 "cells": [
  {
   "cell_type": "markdown",
   "id": "f07815fc-4225-4302-9a1c-4359bfdf8979",
   "metadata": {},
   "source": [
    "# Temporal Plots of DESI Telemetry Data\n",
    "\n",
    "As is, the DESI telemetry data is spread out across multiple different tables. As is is shown in the correlations plots in the `correlation` folder, there us very weak correlation across different tables. Before proper analysis can be done, the several datatables of interest must \n",
    "be syncronized in time. This involves rebinning and interpolation of the data is currently being hosted by NERSC."
   ]
  },
  {
   "cell_type": "markdown",
   "id": "cd1ac51f-b133-4c5d-9da9-21ffd6bf3533",
   "metadata": {},
   "source": [
    "## Imports"
   ]
  },
  {
   "cell_type": "code",
   "execution_count": 66,
   "id": "2af9e5b4-0b55-4d87-b799-38f37538cf51",
   "metadata": {},
   "outputs": [
    {
     "name": "stdout",
     "output_type": "stream",
     "text": [
      "No GPU devices available!\n"
     ]
    }
   ],
   "source": [
    "import os\n",
    "from tqdm.notebook import trange, tqdm\n",
    "import pytz\n",
    "import numpy as np\n",
    "import pandas as pd\n",
    "import pickle\n",
    "from copy import deepcopy\n",
    "from scipy.stats import norm, skewnorm, zscore\n",
    "from astropy.stats import scott_bin_width\n",
    "from math import trunc\n",
    "import matplotlib as mpl\n",
    "from matplotlib import cm\n",
    "import matplotlib.pyplot as plt\n",
    "%matplotlib inline\n",
    "\n",
    "import astropy\n",
    "from astropy.utils.data import get_pkg_data_filename\n",
    "from astropy.io import fits\n",
    "from astropy.time import Time\n",
    "from astropy.table import Table\n",
    "from astropy.timeseries import aggregate_downsample, TimeSeries\n",
    "import astropy.units as u\n",
    "\n",
    "try:\n",
    "    import numba as nb\n",
    "    nb.cuda.detect()\n",
    "    import cupy as cp\n",
    "    %pip install -q cudf-cu11 dask-cudf-cu11 --extra-index-url=https://pypi.ngc.nvidia.com\n",
    "    import cudf as cd\n",
    "    gpu_access = True\n",
    "except:\n",
    "    gpu_access = False\n",
    "    print('No GPU devices available!')\n",
    "data_dir = '../../py/desiforecast/data'\n",
    "if not os.path.isdir(data_dir):\n",
    "    data_dir = 'py/desiforecast/data'"
   ]
  },
  {
   "cell_type": "markdown",
   "id": "fdb62e24-6d00-42da-adb3-f2f4f71a6b51",
   "metadata": {},
   "source": [
    "## Load Data"
   ]
  },
  {
   "cell_type": "code",
   "execution_count": 19,
   "id": "27da4eec-8855-478b-a9c0-8d83213239ed",
   "metadata": {},
   "outputs": [],
   "source": [
    "tower_data = TimeSeries.read(f'{data_dir}/environmentmonitor_tower.fits')\n",
    "dome_data = TimeSeries.read(f'{data_dir}/environmentmonitor_dome.fits')\n",
    "telescope_data = TimeSeries.read(f'{data_dir}/environmentmonitor_telescope.fits')\n",
    "seeing_data = TimeSeries.read(f'{data_dir}/etc_seeing.fits')\n",
    "telemetry_data = TimeSeries.read(f'{data_dir}/etc_telemetry.fits')\n",
    "tcs_data = TimeSeries.read(f'{data_dir}/tcs_info.fits')"
   ]
  },
  {
   "cell_type": "code",
   "execution_count": 36,
   "id": "20370890-51c8-478c-8222-01ca909cd697",
   "metadata": {},
   "outputs": [],
   "source": [
    "# Original, unfiltered data as provided by the DESI telemetry database\n",
    "with open(f'{data_dir}/environmentmonitor_tower.pkl', 'rb') as pf:\n",
    "    tower_data = pd.read_pickle(pf)\n",
    "with open(f'{data_dir}/environmentmonitor_dome.pkl', 'rb') as pf:\n",
    "    dome_data = pd.read_pickle(pf)\n",
    "with open(f'{data_dir}/environmentmonitor_telescope.pkl', 'rb') as pf:\n",
    "    telescope_data = pd.read_pickle(pf)\n",
    "    telescope_data['mirror_cooling'] = telescope_data['mirror_cooling'].interpolate(limit_direction='both')\n",
    "with open(f'{data_dir}/etc_seeing.pkl', 'rb') as pf:\n",
    "    seeing_data = pd.read_pickle(pf)\n",
    "with open(f'{data_dir}/etc_telemetry.pkl', 'rb') as pf:\n",
    "    telemetry_data = pd.read_pickle(pf)\n",
    "with open(f'{data_dir}/tcs_info.pkl', 'rb') as pf:\n",
    "    tcs_data = pd.read_pickle(pf)\n",
    "# with open(f'{data_dir}/temp_delta_stats_daytime.pkl', 'rb') as pf:\n",
    "#     daytime_delta_stats_data = pd.read_pickle(pf)\n",
    "# with open(f'{data_dir}/temp_delta_stats_nighttime.pkl', 'rb') as pf:\n",
    "#     nighttime_delta_stats_data = pd.read_pickle(pf)\n",
    "# with open(f'{data_dir}/temp_delta_stats_nighttime.pkl', 'rb') as pf:\n",
    "#     nighttime_delta_stats_data = pd.read_pickle(pf)\n",
    "# with open(f'{data_dir}/full_distributions_daytime.pkl', 'rb') as pf:\n",
    "#     full_distributions_daytime = pd.read_pickle(pf)\n",
    "# with open(f'{data_dir}/full_distributions_nighttime.pkl', 'rb') as pf:\n",
    "#     full_distributions_nighttime = pd.read_pickle(pf)"
   ]
  },
  {
   "cell_type": "code",
   "execution_count": null,
   "id": "df02c2d7-e85e-45fd-a651-0202778803db",
   "metadata": {},
   "outputs": [],
   "source": [
    "with open(f'{data_dir}/ambient_distributions_daytime.pkl', 'rb') as pf:\n",
    "    ambient = pd.read_pickle(pf)\n",
    "with open(f'{data_dir}/delta_distributions_daytime.pkl', 'rb') as pf:\n",
    "    delta = pd.read_pickle(pf)"
   ]
  },
  {
   "cell_type": "code",
   "execution_count": 59,
   "id": "a1b86948-ee49-44c1-8f9f-cf590733cefa",
   "metadata": {},
   "outputs": [
    {
     "data": {
      "application/vnd.jupyter.widget-view+json": {
       "model_id": "eb053fb7d9f140908e53c7ed10182470",
       "version_major": 2,
       "version_minor": 0
      },
      "text/plain": [
       "2019:   0%|          | 0/12 [00:00<?, ?it/s]"
      ]
     },
     "metadata": {},
     "output_type": "display_data"
    },
    {
     "data": {
      "application/vnd.jupyter.widget-view+json": {
       "model_id": "5583e16597fa4704aa3dbd9717a801b8",
       "version_major": 2,
       "version_minor": 0
      },
      "text/plain": [
       "2020:   0%|          | 0/12 [00:00<?, ?it/s]"
      ]
     },
     "metadata": {},
     "output_type": "display_data"
    },
    {
     "data": {
      "application/vnd.jupyter.widget-view+json": {
       "model_id": "d0c15707d85a41dfaec4752526666250",
       "version_major": 2,
       "version_minor": 0
      },
      "text/plain": [
       "2021:   0%|          | 0/12 [00:00<?, ?it/s]"
      ]
     },
     "metadata": {},
     "output_type": "display_data"
    },
    {
     "data": {
      "application/vnd.jupyter.widget-view+json": {
       "model_id": "4d16f11eb6e14fcf842537d759789452",
       "version_major": 2,
       "version_minor": 0
      },
      "text/plain": [
       "2022:   0%|          | 0/12 [00:00<?, ?it/s]"
      ]
     },
     "metadata": {},
     "output_type": "display_data"
    },
    {
     "data": {
      "application/vnd.jupyter.widget-view+json": {
       "model_id": "3d1c6a43b35f495d9979814cee0b14a0",
       "version_major": 2,
       "version_minor": 0
      },
      "text/plain": [
       "2023:   0%|          | 0/12 [00:00<?, ?it/s]"
      ]
     },
     "metadata": {},
     "output_type": "display_data"
    }
   ],
   "source": [
    "def valid_values(data):\n",
    "    data = np.asarray(data)\n",
    "    arr = np.full((len(data)), False, dtype=bool)\n",
    "    std = np.std(data[np.isfinite(data)])\n",
    "    mean = np.mean(data[np.isfinite(data)])\n",
    "    for i in range(len(data)):\n",
    "        if np.isfinite(data[i]) and np.abs((data[i]-mean)/std) < 5:\n",
    "            arr[i] = True\n",
    "    return arr\n",
    "\n",
    "def response_time_plots(daytime=True, outliers=False):\n",
    "    plt.rcParams['axes.facecolor']='white'\n",
    "    plt.rcParams['savefig.facecolor']='white'\n",
    "    plt.rcParams['figure.facecolor'] = 'white'\n",
    "    folder = 'daytime' if daytime else 'nighttime'\n",
    "    years = [2019, 2020, 2021, 2022, 2023]\n",
    "    months = np.linspace(1, 12, 12, dtype=np.int64)\n",
    "    \n",
    "    with open(f'{data_dir}/temp_delta_stats_{folder}.pkl', 'rb') as pf:\n",
    "        temp_delta_data = pickle.load(pf)\n",
    "    years = [2019, 2020, 2021, 2022, 2023]\n",
    "    months = np.linspace(1, 12, 12, dtype=np.int64)\n",
    "\n",
    "    vmin=temp_delta_data['ambient_start'][valid_values(temp_delta_data['ambient_start'])].min()\n",
    "    vmax=temp_delta_data['ambient_start'][valid_values(temp_delta_data['ambient_start'])].max()\n",
    "    \n",
    "    xmin=temp_delta_data['ambient_std'][valid_values(temp_delta_data['ambient_std'])].min()\n",
    "    xmax=temp_delta_data['ambient_std'][valid_values(temp_delta_data['ambient_std'])].max()\n",
    "    \n",
    "    ymin=temp_delta_data['response_time'][valid_values(temp_delta_data['response_time'])].min()\n",
    "    ymax=temp_delta_data['response_time'][valid_values(temp_delta_data['response_time'])].max()\n",
    "    \n",
    "    temp_stats = {}\n",
    "    for i in years:\n",
    "        year = {}\n",
    "        for j in months:\n",
    "            year[j] = []\n",
    "        temp_stats[i] = year\n",
    "\n",
    "    for i in range(len(temp_delta_data)):\n",
    "        temp_stats[temp_delta_data.index[i].year][temp_delta_data.index[i].month].append(temp_delta_data.iloc[i])\n",
    "    \n",
    "    for i in years:\n",
    "        directory = f'time_plots/response_time/{i}'\n",
    "        for j in tqdm(months, desc=f'{i}'):\n",
    "            df = pd.DataFrame(temp_stats[i][j])\n",
    "            if 'ambient_response' and 'ambient_start' and 'ambient_std' in df.columns.values:\n",
    "                if not os.path.isdir(directory):\n",
    "                    os.makedirs(directory)\n",
    "                \n",
    "                fig, ax = plt.subplots(figsize=(10,5))\n",
    "\n",
    "                var_indx = valid_values(df['ambient_std'])\n",
    "                response_indx = valid_values(df['response_time'])\n",
    "                start_indx = valid_values(df['ambient_start'])\n",
    "                indx = np.logical_and(var_indx, np.logical_and(response_indx, start_indx))\n",
    "                \n",
    "                plot1 = ax.scatter(df['ambient_std'][indx], df['response_time'][indx], c=df['ambient_start'][indx], vmin=vmin, vmax=vmax)\n",
    "                ax.set_title(f'Response Time vs. Standard Deviation of Temperature Delta ({i}-{j})')\n",
    "                ax.set_ylabel('Response Time (Hrs)')\n",
    "                ax.set_ylim(ymin, ymax)\n",
    "                ax.set_xlabel(u'Standard Deviation of Ambient Temperature (\\u2103)')\n",
    "                ax.set_xlim(xmin, xmax)\n",
    "                ax.grid(True)\n",
    "                fig.colorbar(plot1, ax=ax, label=u'Initial Ambient Temperature (\\u2103)')\n",
    "                \n",
    "                plt.savefig(f'{directory}/{i}-{j}.png')\n",
    "                plt.close(fig)\n",
    "                \n",
    "response_time_plots(daytime=True)"
   ]
  },
  {
   "cell_type": "code",
   "execution_count": null,
   "id": "35dc9520-8ae8-4048-b558-7b939630e5b9",
   "metadata": {},
   "outputs": [],
   "source": [
    "from datetime import datetime\n",
    "\n",
    "def distributions_over_time(daytime):\n",
    "    folder = 'daytime' if daytime else 'nighttime'\n",
    "    years = [2019, 2020, 2021, 2022, 2023]\n",
    "    months = np.linspace(1, 12, 12, dtype=np.int64)\n",
    "    std_temps1 = np.linspace(-10, 30, 4001)\n",
    "    std_temps2 = np.linspace(-20, 20, 4001)\n",
    "    \n",
    "    with open(f'{data_dir}/ambient_distributions_{folder}.pkl', 'rb') as pf:\n",
    "        ambient = pd.read_pickle(pf)\n",
    "    with open(f'{data_dir}/delta_distributions_{folder}.pkl', 'rb') as pf:\n",
    "        delta = pd.read_pickle(pf)\n",
    "    \n",
    "    ambient_distr = []\n",
    "    ambient_times = []\n",
    "    delta_distr = []\n",
    "    delta_times = []\n",
    "    for i in years:\n",
    "        for j in tqdm(months, desc=f'{i}'):\n",
    "            if len(ambient[i][j]):\n",
    "                ambient[i][j] = [k for k in ambient[i][j] if not (k != k) ]\n",
    "                if len(ambient[i][j]):\n",
    "                    ambient_distr.append(skewnorm.pdf(std_temps1, *skewnorm.fit(ambient[i][j])))\n",
    "                    ambient_times.append(f'{i}-{j}')\n",
    "            if len(delta[i][j]):\n",
    "                delta[i][j] = [k for k in delta[i][j] if not (k != k) ]\n",
    "                if len(delta[i][j]):\n",
    "                    delta_distr.append(skewnorm.pdf(std_temps2, *skewnorm.fit(delta[i][j])))\n",
    "                    delta_times.append(f'{i}-{j}')\n",
    "\n",
    "    ambient_distr = np.asarray(ambient_distr)\n",
    "    ambient_times = np.asarray(ambient_times)\n",
    "    delta_distr = np.asarray(delta_distr)\n",
    "    delta_times = np.asarray(delta_times)\n",
    "\n",
    "    temp_nums = np.linspace(1, len(ambient_times), len(ambient_times))\n",
    "    XX, YY = np.meshgrid(temp_nums, std_temps1)\n",
    "\n",
    "    ax = plt.figure().add_subplot(projection='3d')\n",
    "    ax.view_init(60, 15)\n",
    "    surf = ax.plot_surface(XX, YY, ambient_distr.T, cmap=cm.plasma, lw=0.5, rstride=8, cstride=8)\n",
    "    fig.colorbar(surf, shrink=0.5, aspect=5, ax=ax)\n",
    "    ax.set_title('Ambient Temperature Distribution as a Function of Time')\n",
    "    ax.set_xlabel('Date')\n",
    "    ax.set_ylabel(u'Ambient Temperature (\\u2103)')\n",
    "    ax.set_zlabel('Density (%)')\n",
    "    \n",
    "    ax.set_xticks([temp_nums[0], temp_nums[len(temp_nums)//4], temp_nums[len(temp_nums)//2], temp_nums[3*len(temp_nums)//4], temp_nums[-1]]) \n",
    "    ax.set_xticklabels([ambient_times[0], ambient_times[len(ambient_times)//4], ambient_times[len(ambient_times)//2], ambient_times[3*len(ambient_times)//4], ambient_times[-1]])\n",
    "    \n",
    "    plt.rcParams['axes.facecolor']='white'\n",
    "    plt.rcParams['savefig.facecolor']='white'\n",
    "    plt.rcParams['figure.facecolor'] = 'white'\n",
    "    plt.savefig(f'time_plots/temp_distributions/ambient_distribution_{folder}.png')\n",
    "    plt.show()\n",
    "\n",
    "    temp_nums = np.linspace(1, len(delta_times), len(delta_times))\n",
    "    XX, YY = np.meshgrid(temp_nums, std_temps2)\n",
    "\n",
    "    ax = plt.figure().add_subplot(projection='3d')\n",
    "    ax.view_init(45, 35)\n",
    "    surf = ax.plot_surface(XX, YY, delta_distr.T, cmap=cm.plasma, lw=0.5, rstride=8, cstride=8)\n",
    "    fig.colorbar(surf, shrink=0.5, aspect=5, ax=ax)\n",
    "    ax.set_title('Temperature Delta Distribution as a Function of Time')\n",
    "    ax.set_xlabel('Date')\n",
    "    ax.set_ylabel(u'Temperature Delta (\\u2103)')\n",
    "    ax.set_zlabel('Density (%)')\n",
    "    \n",
    "    ax.set_xticks([temp_nums[0], temp_nums[len(temp_nums)//4], temp_nums[len(temp_nums)//2], temp_nums[3*len(temp_nums)//4], temp_nums[-1]]) \n",
    "    ax.set_xticklabels([delta_times[0], delta_times[len(delta_times)//4], delta_times[len(delta_times)//2], delta_times[3*len(delta_times)//4], delta_times[-1]])\n",
    "    \n",
    "    plt.rcParams['axes.facecolor']='white'\n",
    "    plt.rcParams['savefig.facecolor']='white'\n",
    "    plt.rcParams['figure.facecolor'] = 'white'\n",
    "    plt.savefig(f'time_plots/temp_distributions/delta_distribution_{folder}.png')\n",
    "    plt.show()\n"
   ]
  },
  {
   "cell_type": "code",
   "execution_count": null,
   "id": "78bf82ee-cf89-4d35-904f-ded1a0c9efe4",
   "metadata": {},
   "outputs": [],
   "source": [
    "distributions_over_time(daytime=True)\n",
    "# distributions_over_time(daytime=False)"
   ]
  },
  {
   "cell_type": "code",
   "execution_count": null,
   "id": "674be037-768e-4789-9ff1-d47f594d27b7",
   "metadata": {},
   "outputs": [],
   "source": [
    "def resample_data(df):\n",
    "    \"\"\"Resamples DESI telemetry data contained within Pandas dataframe.\n",
    "    \n",
    "    Parameters\n",
    "    ----------\n",
    "    df : pandas.DataFrame\n",
    "        Original data as queried from the DESI telemetry database\n",
    "    \n",
    "    Returns\n",
    "    -------\n",
    "    df : pandas.DataFrame\n",
    "        Resampled and interpolated DESI telemetry data\n",
    "    \"\"\"\n",
    "    if 'seeing' in df.columns.values:\n",
    "        pass\n",
    "    else:\n",
    "        df = df.resample('6S').mean()\n",
    "        df.interpolate(limit_direction='both', inplace=True)\n",
    "    df = df.tz_convert(\"America/Phoenix\")\n",
    "    return df"
   ]
  },
  {
   "cell_type": "code",
   "execution_count": null,
   "id": "b72a5f21-e7de-41b0-91fb-e17b40f769c5",
   "metadata": {},
   "outputs": [],
   "source": [
    "daytime=True\n",
    "folder = 'daytime' if daytime else 'nighttime'\n",
    "with open(f'{data_dir}/temp_delta_stats_{folder}.pkl', 'rb') as pf:\n",
    "    temp_delta_data = pickle.load(pf)\n",
    "directory = f'time_plots/temp_statistics/{folder}'\n",
    "if not os.path.isdir(directory):\n",
    "    os.makedirs(directory)\n",
    "\n",
    "fig, ax = plt.subplots(figsize=(20,5))\n",
    "plt.rcParams['axes.facecolor']='white'\n",
    "plt.rcParams['savefig.facecolor']='white'\n",
    "plt.rcParams['figure.facecolor'] = 'white'\n",
    "ax.set_title('Response Time (Hrs) vs Initial Ambient Temperature')\n",
    "ax.set_ylabel('Response Time (Hrs)')\n",
    "ax.set_xlabel('Initial Ambient Temperature')\n",
    "ax.autoscale(True)\n",
    "plt.grid(True)\n",
    "\n",
    "x, y = temp_delta_data['ambient_start'].to_numpy(dtype=np.float64), temp_delta_data['response_time'].to_numpy(dtype=np.float64)\n",
    "\n",
    "CovM = np.cov(np.stack((x,y), axis=0))\n",
    "bounds = np.sqrt(CovM.diagonal())\n",
    "\n",
    "# Get eigenvalue/vector using svd\n",
    "eigvec, eigval, u = np.linalg.svd(CovM)\n",
    "print\n",
    "# Get Semimajor/minor axes of the ellipse\n",
    "semimaj = np.sqrt(eigval[0])*2.\n",
    "semimin = np.sqrt(eigval[1])*2.\n",
    "\n",
    "# Rotation angle of the ellipse\n",
    "theta = np.arctan(eigvec[0][1]/eigvec[0][0])\n",
    "\n",
    "# Create ellipses\n",
    "ell = mpl.patches.Ellipse(xy=[np.mean(x), np.mean(y)], width=1.52*semimaj, height=1.52*semimin, angle = theta*180/np.pi, facecolor = 'dodgerblue', edgecolor = 'royalblue', label = '68% confidence')\n",
    "ell2 = mpl.patches.Ellipse(xy=[np.mean(x), np.mean(y)], width=2.48*semimaj, height=2.48*semimin, angle = theta*180/np.pi, facecolor = 'skyblue', edgecolor = 'royalblue', label = '95% confidence')\n",
    "\n",
    "ax.add_patch(ell2)\n",
    "ax.add_patch(ell)\n",
    "ax.scatter(x, y, c='maroon')\n",
    "plt.legend()\n",
    "fig.savefig(f'{directory}/response_time_vs_initial_ambient_temp.png')\n",
    "plt.show()\n",
    "# plt.close(fig)"
   ]
  },
  {
   "cell_type": "code",
   "execution_count": null,
   "id": "7b6cb0e8-03f1-4d81-8949-f5943b896174",
   "metadata": {},
   "outputs": [],
   "source": [
    "daytime=True\n",
    "folder = 'daytime' if daytime else 'nighttime'\n",
    "with open(f'{data_dir}/temp_delta_stats_{folder}.pkl', 'rb') as pf:\n",
    "    temp_delta_data = pickle.load(pf)\n",
    "directory = f'time_plots/temp_statistics/{folder}'\n",
    "if not os.path.isdir(directory):\n",
    "    os.makedirs(directory)\n",
    "\n",
    "fig, ax = plt.subplots(figsize=(20,5))\n",
    "plt.rcParams['axes.facecolor']='white'\n",
    "plt.rcParams['savefig.facecolor']='white'\n",
    "plt.rcParams['figure.facecolor'] = 'white'\n",
    "ax.set_title('Response Time (Hrs) vs Final Ambient Temperature')\n",
    "ax.set_ylabel('Response Time (Hrs)')\n",
    "ax.set_xlabel('Final Ambient Temperature')\n",
    "ax.autoscale(True)\n",
    "plt.grid(True)\n",
    "\n",
    "x, y = temp_delta_data['ambient_end'].to_numpy(dtype=np.float64), temp_delta_data['response_time'].to_numpy(dtype=np.float64)\n",
    "\n",
    "CovM = np.cov(np.stack((x,y), axis=0))\n",
    "bounds = np.sqrt(CovM.diagonal())\n",
    "\n",
    "# Get eigenvalue/vector using svd\n",
    "eigvec, eigval, u = np.linalg.svd(CovM)\n",
    "print\n",
    "# Get Semimajor/minor axes of the ellipse\n",
    "semimaj = np.sqrt(eigval[0])*2.\n",
    "semimin = np.sqrt(eigval[1])*2.\n",
    "\n",
    "# Rotation angle of the ellipse\n",
    "theta = np.arctan(eigvec[0][1]/eigvec[0][0])\n",
    "\n",
    "# Create ellipses\n",
    "ell = mpl.patches.Ellipse(xy=[np.mean(x), np.mean(y)], width=1.52*semimaj, height=1.52*semimin, angle = theta*180/np.pi, facecolor = 'dodgerblue', edgecolor = 'royalblue', label = '68% confidence')\n",
    "ell2 = mpl.patches.Ellipse(xy=[np.mean(x), np.mean(y)], width=2.48*semimaj, height=2.48*semimin, angle = theta*180/np.pi, facecolor = 'skyblue', edgecolor = 'royalblue', label = '95% confidence')\n",
    "\n",
    "ax.add_patch(ell2)\n",
    "ax.add_patch(ell)\n",
    "ax.scatter(x, y, c='maroon')\n",
    "plt.legend()\n",
    "fig.savefig(f'{directory}/response_time_vs_final_ambient_temp.png')\n",
    "plt.show()\n",
    "# plt.close(fig)"
   ]
  },
  {
   "cell_type": "code",
   "execution_count": null,
   "id": "b5f5404c-781a-4b46-b464-90c320f09cff",
   "metadata": {},
   "outputs": [],
   "source": [
    "daytime=False\n",
    "folder = 'daytime' if daytime else 'nighttime'\n",
    "with open(f'{data_dir}/temp_delta_stats_{folder}.pkl', 'rb') as pf:\n",
    "    temp_delta_data = pickle.load(pf)\n",
    "directory = f'time_plots/temp_statistics/{folder}'\n",
    "if not os.path.isdir(directory):\n",
    "    os.makedirs(directory)\n",
    "\n",
    "fig, ax = plt.subplots(figsize=(20,5))\n",
    "plt.rcParams['axes.facecolor']='white'\n",
    "plt.rcParams['savefig.facecolor']='white'\n",
    "plt.rcParams['figure.facecolor'] = 'white'\n",
    "ax.set_title('Response Time (Hrs) vs Final Temperature Delta')\n",
    "ax.set_ylabel('Response Time (Hrs)')\n",
    "ax.set_xlabel('Final Temperature Delta')\n",
    "ax.autoscale(True)\n",
    "plt.grid(True)\n",
    "\n",
    "x, y = temp_delta_data['end'].to_numpy(dtype=np.float64), temp_delta_data['response_time'].to_numpy(dtype=np.float64)\n",
    "\n",
    "CovM = np.cov(np.stack((x,y), axis=0))\n",
    "bounds = np.sqrt(CovM.diagonal())\n",
    "\n",
    "# Get eigenvalue/vector using svd\n",
    "eigvec, eigval, u = np.linalg.svd(CovM)\n",
    "print\n",
    "# Get Semimajor/minor axes of the ellipse\n",
    "semimaj = np.sqrt(eigval[0])*2.\n",
    "semimin = np.sqrt(eigval[1])*2.\n",
    "\n",
    "# Rotation angle of the ellipse\n",
    "theta = np.arctan(eigvec[0][1]/eigvec[0][0])\n",
    "\n",
    "# Create ellipses\n",
    "ell = mpl.patches.Ellipse(xy=[np.mean(x), np.mean(y)], width=1.52*semimaj, height=1.52*semimin, angle = theta*180/np.pi, facecolor = 'dodgerblue', edgecolor = 'royalblue', label = '68% confidence')\n",
    "ell2 = mpl.patches.Ellipse(xy=[np.mean(x), np.mean(y)], width=2.48*semimaj, height=2.48*semimin, angle = theta*180/np.pi, facecolor = 'skyblue', edgecolor = 'royalblue', label = '95% confidence')\n",
    "\n",
    "ax.add_patch(ell2)\n",
    "ax.add_patch(ell)\n",
    "ax.axvline(x=1.5, c='r', linestyle='--')\n",
    "ax.axvline(x=-1.5, c='r', linestyle='--')\n",
    "ax.scatter(x, y, c='maroon')\n",
    "plt.legend()\n",
    "fig.savefig(f'{directory}/response_time_vs_final_temp_delta.png')\n",
    "plt.show()\n",
    "# plt.close(fig)"
   ]
  },
  {
   "cell_type": "code",
   "execution_count": null,
   "id": "8c9783b5-f9b8-4da9-9e52-3978f4ef5d23",
   "metadata": {},
   "outputs": [],
   "source": [
    "daytime=True\n",
    "folder = 'daytime' if daytime else 'nighttime'\n",
    "with open(f'{data_dir}/temp_delta_stats_{folder}.pkl', 'rb') as pf:\n",
    "    temp_delta_data = pickle.load(pf)\n",
    "directory = f'time_plots/temp_statistics/{folder}'\n",
    "if not os.path.isdir(directory):\n",
    "    os.makedirs(directory)\n",
    "\n",
    "fig, ax = plt.subplots(figsize=(20,5))\n",
    "plt.rcParams['axes.facecolor']='white'\n",
    "plt.rcParams['savefig.facecolor']='white'\n",
    "plt.rcParams['figure.facecolor'] = 'white'\n",
    "ax.set_title('Response Time (Hrs) vs Initial Temperature Delta')\n",
    "ax.set_ylabel('Response Time (Hrs)')\n",
    "ax.set_xlabel('Initial Temperature Delta')\n",
    "ax.autoscale(True)\n",
    "plt.grid(True)\n",
    "\n",
    "x, y = temp_delta_data['start'].to_numpy(dtype=np.float64), temp_delta_data['response_time'].to_numpy(dtype=np.float64)\n",
    "\n",
    "CovM = np.cov(np.stack((x,y), axis=0))\n",
    "bounds = np.sqrt(CovM.diagonal())\n",
    "\n",
    "# Get eigenvalue/vector using svd\n",
    "eigvec, eigval, u = np.linalg.svd(CovM)\n",
    "print\n",
    "# Get Semimajor/minor axes of the ellipse\n",
    "semimaj = np.sqrt(eigval[0])*2.\n",
    "semimin = np.sqrt(eigval[1])*2.\n",
    "\n",
    "# Rotation angle of the ellipse\n",
    "theta = np.arctan(eigvec[0][1]/eigvec[0][0])\n",
    "\n",
    "# Create ellipses\n",
    "ell = mpl.patches.Ellipse(xy=[np.mean(x), np.mean(y)], width=1.52*semimaj, height=1.52*semimin, angle = theta*180/np.pi, facecolor = 'dodgerblue', edgecolor = 'royalblue', label = '68% confidence')\n",
    "ell2 = mpl.patches.Ellipse(xy=[np.mean(x), np.mean(y)], width=2.48*semimaj, height=2.48*semimin, angle = theta*180/np.pi, facecolor = 'skyblue', edgecolor = 'royalblue', label = '95% confidence')\n",
    "\n",
    "ax.add_patch(ell2)\n",
    "ax.add_patch(ell)\n",
    "ax.axvline(x=1.5, c='r', linestyle='--')\n",
    "ax.axvline(x=-1.5, c='r', linestyle='--')\n",
    "ax.scatter(x, y, c='maroon')\n",
    "plt.legend()\n",
    "fig.savefig(f'{directory}/response_time_vs_final_temp_delta.png')\n",
    "plt.show()\n",
    "# plt.close(fig)"
   ]
  },
  {
   "cell_type": "code",
   "execution_count": null,
   "id": "839611f0-fd53-4db2-827e-b0993d1f7dee",
   "metadata": {},
   "outputs": [],
   "source": [
    "daytime=False\n",
    "folder = 'daytime' if daytime else 'nighttime'\n",
    "with open(f'{data_dir}/temp_delta_stats_{folder}.pkl', 'rb') as pf:\n",
    "    temp_delta_data = pickle.load(pf)\n",
    "directory = f'time_plots/temp_statistics/{folder}'\n",
    "if not os.path.isdir(directory):\n",
    "    os.makedirs(directory)\n",
    "\n",
    "fig, ax = plt.subplots(figsize=(20,5))\n",
    "plt.rcParams['axes.facecolor']='white'\n",
    "plt.rcParams['savefig.facecolor']='white'\n",
    "plt.rcParams['figure.facecolor'] = 'white'\n",
    "ax.set_title('Response Time (Hrs) vs Initial Temperature Delta')\n",
    "ax.set_ylabel('Response Time (Hrs)')\n",
    "ax.set_xlabel('Initial Temperature Delta')\n",
    "ax.autoscale(True)\n",
    "plt.grid(True)\n",
    "\n",
    "# x, y = np.array(temp_delta_data.index, dtype=np.datetime64), temp_delta_data['response_time'].to_numpy(dtype=object)\n",
    "\n",
    "# CovM = np.cov(np.stack((x,y), axis=0))\n",
    "# bounds = np.sqrt(CovM.diagonal())\n",
    "\n",
    "# # Get eigenvalue/vector using svd\n",
    "# eigvec, eigval, u = np.linalg.svd(CovM)\n",
    "# print\n",
    "# # Get Semimajor/minor axes of the ellipse\n",
    "# semimaj = np.sqrt(eigval[0])*2.\n",
    "# semimin = np.sqrt(eigval[1])*2.\n",
    "\n",
    "# # Rotation angle of the ellipse\n",
    "# theta = np.arctan(eigvec[0][1]/eigvec[0][0])\n",
    "\n",
    "# # Create ellipses\n",
    "# ell = mpl.patches.Ellipse(xy=[np.mean(x), np.mean(y)], width=1.52*semimaj, height=1.52*semimin, angle = theta*180/np.pi, facecolor = 'dodgerblue', edgecolor = 'royalblue', label = '68% confidence')\n",
    "# ell2 = mpl.patches.Ellipse(xy=[np.mean(x), np.mean(y)], width=2.48*semimaj, height=2.48*semimin, angle = theta*180/np.pi, facecolor = 'skyblue', edgecolor = 'royalblue', label = '95% confidence')\n",
    "\n",
    "# ax.add_patch(ell2)\n",
    "# ax.add_patch(ell)\n",
    "# ax.axvline(x=1.5, c='r', linestyle='--')\n",
    "# ax.axvline(x=-1.5, c='r', linestyle='--')\n",
    "ax.scatter(x, y, c='maroon')\n",
    "plt.legend()\n",
    "# fig.savefig(f'{directory}/response_time_vs_initial_temp_delta.png')\n",
    "plt.show()\n",
    "# plt.close(fig)"
   ]
  },
  {
   "cell_type": "code",
   "execution_count": null,
   "id": "ffce4dc0-9def-4c61-88c0-37940719b9a3",
   "metadata": {},
   "outputs": [],
   "source": [
    "def yearly_delta_stats(daytime=True):\n",
    "    folder = 'daytime' if daytime else 'nighttime'\n",
    "    with open(f'{data_dir}/temp_delta_stats_{folder}.pkl', 'rb') as pf:\n",
    "        temp_delta_data = pickle.load(pf)\n",
    "    directory = f'time_plots/temp_statistics/{folder}'\n",
    "    if not os.path.isdir(directory):\n",
    "        os.makedirs(directory)\n",
    "\n",
    "    fig, ax = plt.subplots(figsize=(20,15))\n",
    "    plt.rcParams['axes.facecolor']='white'\n",
    "    plt.rcParams['savefig.facecolor']='white'\n",
    "    plt.rcParams['figure.facecolor'] = 'white'\n",
    "    ax.set_title('Daily Temperature Statistics vs. Date/Time')\n",
    "    ax.set_xlabel('Day')\n",
    "    ax.autoscale(True)\n",
    "    ax.plot(temp_delta_data.index[no_outliers][valid], temp_delta_data['mins'].iloc[no_outliers][valid], 'o--', markersize=5, label='temp delta  minimum')\n",
    "    ax.plot(temp_delta_data.index[no_outliers][valid], temp_delta_data['maxs'].iloc[no_outliers][valid], 'o--', markersize=5, label='temp delta  maximum')\n",
    "    ax.plot(temp_delta_data.index[no_outliers][valid], temp_delta_data['mean'].iloc[no_outliers][valid], 'o--', markersize=5, label='temp delta  mean')\n",
    "    ax.plot(temp_delta_data.index[no_outliers][valid], temp_delta_data['median'].iloc[no_outliers][valid], 'o--', markersize=5, label='temp delta  median')\n",
    "    ax.plot(temp_delta_data.index[no_outliers][valid], temp_delta_data['std'].iloc[no_outliers][valid], 'o--', markersize=5, label='temp delta  standard deviation')\n",
    "    ax.plot(temp_delta_data.index[no_outliers][valid], temp_delta_data['var'].iloc[no_outliers][valid], 'o--', markersize=5, label='temp delta variance')\n",
    "    ax.plot(temp_delta_data.index[no_outliers][valid], temp_delta_data['start'].iloc[no_outliers][valid], 'o--', markersize=5, label='initial temp delta')\n",
    "    ax.plot(temp_delta_data.index[no_outliers][valid], temp_delta_data['end'].iloc[no_outliers][valid], 'o--', markersize=5, label='final temp delta')\n",
    "    ax.plot(temp_delta_data.index[no_outliers][valid], temp_delta_data['ambient_start'].iloc[no_outliers][valid], 'o--', markersize=5, label='initial ambient temp')\n",
    "    ax.plot(temp_delta_data.index[no_outliers][valid], temp_delta_data['ambient_end'].iloc[no_outliers][valid], 'o--', markersize=5, label='final ambient temp')\n",
    "    ax.plot(temp_delta_data.index[no_outliers][valid], temp_delta_data['ambient_at_response'].iloc[no_outliers][valid], 'o--', markersize=5, label='ambient temp at equilbrium')\n",
    "    ax_handles, _ = ax.get_legend_handles_labels()\n",
    "    twin = ax.twinx()\n",
    "    twin.set_ylabel('Hours For Temperature To Equalize')\n",
    "    twin.autoscale(True)\n",
    "    twin.plot(temp_delta_data.index[no_outliers][valid], temp_delta_data['response_time'].iloc[no_outliers][valid], 'o--', markersize=5, c='maroon', label='time to reach equilbrium')\n",
    "    twin_handles, _ = twin.get_legend_handles_labels()\n",
    "    ax.legend(handles=ax_handles+twin_handles)\n",
    "    \n",
    "    fig.savefig(f'{directory}/{i}-{j}.png')\n",
    "    plt.close(fig)"
   ]
  },
  {
   "cell_type": "code",
   "execution_count": 29,
   "id": "9a1a3c5f-b6c3-4fcc-89f7-2985e6bf895b",
   "metadata": {},
   "outputs": [],
   "source": [
    "from scipy import stats\n",
    "# removes results outside of 5 std\n",
    "def remove_outliers(data):\n",
    "    return np.logical_and(np.abs(stats.zscore(np.asarray(data))) < 10, np.isfinite(np.asarray(data)))"
   ]
  },
  {
   "cell_type": "code",
   "execution_count": null,
   "id": "a7bed1d3-e0cb-45fe-976b-e5c09c3bc12c",
   "metadata": {},
   "outputs": [],
   "source": [
    "def yearly_delta_stats(daytime=True):\n",
    "    folder = 'daytime' if daytime else 'nighttime'\n",
    "    with open(f'{data_dir}/temp_delta_stats_{folder}.pkl', 'rb') as pf:\n",
    "        temp_delta_data = pickle.load(pf)\n",
    "    directory = f'time_plots/temp_statistics/{folder}'\n",
    "    if not os.path.isdir(directory):\n",
    "        os.makedirs(directory)\n",
    "    years = [2019, 2020, 2021, 2022, 2023]\n",
    "    months = np.linspace(1, 12, 12, dtype=np.int64)\n",
    "    no_outliers = remove_outliers(temp_delta_data['mean'])\n",
    "    for i in years:\n",
    "        for j in months:\n",
    "            valid = np.argwhere(np.logical_and(temp_delta_data.index[no_outliers].year == i, temp_delta_data.index[no_outliers].month == j)).flatten()\n",
    "            if len(valid):\n",
    "                fig, ax = plt.subplots(figsize=(20,15))\n",
    "                plt.rcParams['axes.facecolor']='white'\n",
    "                plt.rcParams['savefig.facecolor']='white'\n",
    "                plt.rcParams['figure.facecolor'] = 'white'\n",
    "                ax.set_title('Daily Temperature Statistics vs. Date/Time')\n",
    "                ax.set_xlabel('Day')\n",
    "                ax.autoscale(True)\n",
    "                ax.plot(temp_delta_data.index[no_outliers][valid], temp_delta_data['mins'].iloc[no_outliers][valid], 'o--', markersize=5, label='temp delta  minimum')\n",
    "                ax.plot(temp_delta_data.index[no_outliers][valid], temp_delta_data['maxs'].iloc[no_outliers][valid], 'o--', markersize=5, label='temp delta  maximum')\n",
    "                ax.plot(temp_delta_data.index[no_outliers][valid], temp_delta_data['mean'].iloc[no_outliers][valid], 'o--', markersize=5, label='temp delta  mean')\n",
    "                ax.plot(temp_delta_data.index[no_outliers][valid], temp_delta_data['median'].iloc[no_outliers][valid], 'o--', markersize=5, label='temp delta  median')\n",
    "                ax.plot(temp_delta_data.index[no_outliers][valid], temp_delta_data['std'].iloc[no_outliers][valid], 'o--', markersize=5, label='temp delta  standard deviation')\n",
    "                ax.plot(temp_delta_data.index[no_outliers][valid], temp_delta_data['var'].iloc[no_outliers][valid], 'o--', markersize=5, label='temp delta variance')\n",
    "                ax.plot(temp_delta_data.index[no_outliers][valid], temp_delta_data['start'].iloc[no_outliers][valid], 'o--', markersize=5, label='initial temp delta')\n",
    "                ax.plot(temp_delta_data.index[no_outliers][valid], temp_delta_data['end'].iloc[no_outliers][valid], 'o--', markersize=5, label='final temp delta')\n",
    "                ax.plot(temp_delta_data.index[no_outliers][valid], temp_delta_data['ambient_start'].iloc[no_outliers][valid], 'o--', markersize=5, label='initial ambient temp')\n",
    "                ax.plot(temp_delta_data.index[no_outliers][valid], temp_delta_data['ambient_end'].iloc[no_outliers][valid], 'o--', markersize=5, label='final ambient temp')\n",
    "                ax.plot(temp_delta_data.index[no_outliers][valid], temp_delta_data['ambient_at_response'].iloc[no_outliers][valid], 'o--', markersize=5, label='ambient temp at equilbrium')\n",
    "                ax_handles, _ = ax.get_legend_handles_labels()\n",
    "                twin = ax.twinx()\n",
    "                twin.set_ylabel('Hours For Temperature To Equalize')\n",
    "                twin.autoscale(True)\n",
    "                twin.plot(temp_delta_data.index[no_outliers][valid], temp_delta_data['response_time'].iloc[no_outliers][valid], 'o--', markersize=5, c='maroon', label='time to reach equilbrium')\n",
    "                twin_handles, _ = twin.get_legend_handles_labels()\n",
    "                ax.legend(handles=ax_handles+twin_handles)\n",
    "\n",
    "                fig.savefig(f'{directory}/{i}-{j}.png')\n",
    "                plt.close(fig)"
   ]
  },
  {
   "cell_type": "code",
   "execution_count": null,
   "id": "e9b296ff-b3ee-4b57-b17e-a7c19c374045",
   "metadata": {},
   "outputs": [],
   "source": [
    "yearly_delta_stats(daytime=True)\n",
    "yearly_delta_stats(daytime=False)"
   ]
  },
  {
   "cell_type": "markdown",
   "id": "5102d568-1384-433c-a3d8-dad22200f9b8",
   "metadata": {},
   "source": [
    "## Single Day Temperature Plots (Night vs Day)"
   ]
  },
  {
   "cell_type": "code",
   "execution_count": null,
   "id": "3c9efc3c-def8-4e95-ba90-9d81bf58e1fa",
   "metadata": {},
   "outputs": [],
   "source": [
    "def new_temperature_plot(year=2022, month=9, day=24, offset=1, save=False):\n",
    "    start_date = pd.Timestamp(year=year,month=month,day=day,hour=17, minute=0, second=0, microsecond=0, tz=\"America/Phoenix\")-pd.DateOffset(day=1)\n",
    "    end_date = start_date+pd.DateOffset(day=offset)\n",
    "    if gpu_access:\n",
    "        start_date = start_date.to_numpy()\n",
    "        end_date = end_date.to_numpy()\n",
    "\n",
    "    print(f'Start date: {start_date}')\n",
    "    print(f'Offset length (# of days): {offset}')\n",
    "    \n",
    "    fig, ax = plt.subplots(ncols=2, figsize=(20,10))\n",
    "    ax0_plots = []\n",
    "    ax1_plots = []\n",
    "    ax[0].autoscale(True)\n",
    "    ax[0].set_title('Mirror Temperature & Seeing vs. Date/Time')\n",
    "    ax[0].set_ylabel('Mirror Temperature (Celcius)')\n",
    "    ax[0].set_xlabel('Date/Time')\n",
    "    ax[1].autoscale(True)\n",
    "    ax[1].set_title('Dome & Tower Temperature vs. Date/Time')\n",
    "    ax[1].set_ylabel('Dome Temperature (Celcius)')\n",
    "    ax[1].set_xlabel('Date/Time')\n",
    "\n",
    "    if gpu_access:\n",
    "        telescope_indicies = cp.argwhere(cp.logical_and(telescope_data.index >= start_date, telescope_data.index <= end_date)).flatten()\n",
    "    else:\n",
    "        telescope_indicies = np.argwhere(np.logical_and(telescope_data.index >= start_date, telescope_data.index <= end_date)).flatten()\n",
    "    temp_delta = remove_outliers(telescope_data.iloc[telescope_indicies]['air_temp']-telescope_data.iloc[telescope_indicies]['mirror_temp'])\n",
    "    print(f'Number of valid telescope environment samples in current time window: {len(telescope_indicies)}')\n",
    "    if len(telescope_indicies):\n",
    "        ax0_plots.append(ax[0].plot(telescope_data.index[telescope_indicies], telescope_data.iloc[telescope_indicies]['mirror_avg_temp'], label='average mirror temp')[0])\n",
    "        ax0_plots.append(ax[0].plot(telescope_data.index[telescope_indicies], telescope_data.iloc[telescope_indicies]['mirror_temp'], label='mirror temp')[0])\n",
    "        ax0_plots.append(ax[0].plot(telescope_data.index[telescope_indicies], telescope_data.iloc[telescope_indicies]['mirror_desired_temp'], label='desired mirror temp')[0])\n",
    "        ax0_plots.append(ax[0].plot(telescope_data.index[telescope_indicies], telescope_data.iloc[telescope_indicies]['air_temp'], label='air temp')[0])\n",
    "        ax0_plots.append(ax[0].plot(telescope_data.index[telescope_indicies], telescope_data.iloc[telescope_indicies]['mirror_cooling'], label='mirror cooling')[0])\n",
    "        ax0_plots.append(ax[0].plot(temp_delta.index, temp_delta, label='temp delta')[0])\n",
    "        ax[0].axhline(y=1.5, color='maroon', linestyle='--')\n",
    "        ax[0].axhline(y=-1.5, color='maroon', linestyle='--')\n",
    "        ax[0].annotate(u\"1.5 \\u2103\", xy=(end_date, 1.75), annotation_clip=False, ha='right')\n",
    "        ax[0].annotate(u\"-1.5 \\u2103\", xy=(end_date, -1.25), annotation_clip=False, ha='right')\n",
    "\n",
    "    if gpu_access:\n",
    "        telemetry_indicies = cp.argwhere(cp.logical_and(telemetry_data.index >= start_date, telemetry_data.index <= end_date)).flatten()\n",
    "    else:\n",
    "        telemetry_indicies = np.argwhere(np.logical_and(telemetry_data.index >= start_date, telemetry_data.index <= end_date)).flatten()\n",
    "    print(f'Number of valid etc telemetry samples in current time window: {len(telemetry_indicies)}')\n",
    "    if len(telemetry_indicies):\n",
    "        twin0 = ax[0].twinx()\n",
    "        ax0_plots.append(twin0.plot(telemetry_data.index[telemetry_indicies], telemetry_data.iloc[telemetry_indicies]['seeing'], color=\"indigo\", label='seeing')[0])\n",
    "        twin0.autoscale(True)\n",
    "        twin0.set_ylabel('Seeing')\n",
    "\n",
    "    if gpu_access:\n",
    "        dome_indicies = cp.argwhere(cp.logical_and(dome_data.index >= start_date, dome_data.index <= end_date)).flatten()\n",
    "    else:\n",
    "        dome_indicies = np.argwhere(np.logical_and(dome_data.index >= start_date, dome_data.index <= end_date)).flatten()\n",
    "    print(f'Number of valid dome environment samples in current time window: {len(dome_indicies)}')\n",
    "    if len(dome_indicies):\n",
    "        ax1_plots.append(ax[1].plot(dome_data.index[dome_indicies], dome_data.iloc[dome_indicies]['dome_floor_ne'], label='dome floor temp (NE)')[0])\n",
    "        ax1_plots.append(ax[1].plot(dome_data.index[dome_indicies], dome_data.iloc[dome_indicies]['dome_floor_nw'], label='dome floor temp (NW)')[0])\n",
    "        ax1_plots.append(ax[1].plot(dome_data.index[dome_indicies], dome_data.iloc[dome_indicies]['dome_floor_s'], label='dome floor temp (S)')[0])\n",
    "\n",
    "    if gpu_access:\n",
    "        tower_indicies = cp.argwhere(cp.logical_and(tower_data.index >= start_date, tower_data.index <= end_date)).flatten()\n",
    "    else:\n",
    "        tower_indicies = np.argwhere(np.logical_and(tower_data.index >= start_date, tower_data.index <= end_date)).flatten()\n",
    "    print(f'Number of valid tower environment samples in current time window: {len(tower_indicies)}')\n",
    "    if len(tower_indicies):\n",
    "        twin1 = ax[1].twinx()\n",
    "        ax1_plots.append(twin1.plot(tower_data.index[tower_indicies], tower_data.iloc[tower_indicies]['temperature'], color=\"indigo\", label='tower temp')[0])\n",
    "        twin1.autoscale(True)\n",
    "        twin1.set_ylabel('Tower Temperature (Celcius)')\n",
    "    \n",
    "    if ax1_plots:\n",
    "        ax[1].legend(handles=ax1_plots)\n",
    "    else:\n",
    "        ax[1].remove()\n",
    "\n",
    "    if ax0_plots:\n",
    "        ax[0].legend(handles=ax0_plots)\n",
    "        if save:\n",
    "            plt.savefig(f'time_plots/with_temp_delta/{year}-{month}-{day}_{offset}-day-offset.png', format='png')\n",
    "        plt.show()\n",
    "    else:\n",
    "        print(\"Insufficient data in this time window!\")"
   ]
  },
  {
   "cell_type": "code",
   "execution_count": 39,
   "id": "4bf01814-0ca0-4797-ae96-4d7a2ee63401",
   "metadata": {},
   "outputs": [],
   "source": [
    "def get_time_ranges(cooling_on):\n",
    "    changes = telescope_data['mirror_cooling'][1:].to_numpy()-telescope_data['mirror_cooling'][:len(telescope_data)-1].to_numpy()\n",
    "    changes = changes[valid_values(telescope_data['air_temp'][:-1])]\n",
    "    ranges = []\n",
    "    start=0\n",
    "    for i in range(len(changes)):\n",
    "        if cooling_on:\n",
    "            if changes[i] == 1:\n",
    "                start = i\n",
    "            elif changes[i] == -1:\n",
    "                end = i\n",
    "                ranges.append(np.linspace(start+1, end, end-start, dtype=np.int64))\n",
    "        else:\n",
    "            if changes[i] == -1:\n",
    "                start = i\n",
    "            elif changes[i] == 1:\n",
    "                end = i\n",
    "                ranges.append(np.linspace(start+1, end, end-start, dtype=np.int64))\n",
    "    return ranges"
   ]
  },
  {
   "cell_type": "code",
   "execution_count": 43,
   "id": "8fbe07d8-5fe1-4f93-bd4d-4eff5905fa0b",
   "metadata": {},
   "outputs": [],
   "source": [
    "def temp_delta_stats(daytime=True):\n",
    "    file = 'daytime' if daytime else 'nighttime'\n",
    "    time_ranges = get_time_ranges(cooling_on=daytime)\n",
    "    mirror_ambient_delta = telescope_data['air_temp']-telescope_data['mirror_temp']\n",
    "    mirror_desired_delta = telescope_data['mirror_desired_temp']-telescope_data['mirror_temp']\n",
    "    delta_min = []\n",
    "    delta_max = []\n",
    "    delta_mean = []\n",
    "    delta_median = []\n",
    "    delta_std = []\n",
    "    delta_var = []\n",
    "    delta_start = []\n",
    "    delta_end = []\n",
    "    ambient_min = []\n",
    "    ambient_max = []\n",
    "    ambient_mean = []\n",
    "    ambient_median = []\n",
    "    ambient_std = []\n",
    "    ambient_var = []\n",
    "    ambient_start = []\n",
    "    ambient_end = []\n",
    "    start_time = []\n",
    "    response_time = []\n",
    "    ambient_response = []\n",
    "    for i in trange(len(time_ranges), desc=f'{file} statistics'):\n",
    "        delta_min.append(mirror_ambient_delta.iloc[time_ranges[i]].min())\n",
    "        delta_max.append(mirror_ambient_delta.iloc[time_ranges[i]].max())\n",
    "        delta_mean.append(mirror_ambient_delta.iloc[time_ranges[i]].mean())\n",
    "        delta_median.append(mirror_ambient_delta.iloc[time_ranges[i]].median())\n",
    "        delta_std.append(mirror_ambient_delta.iloc[time_ranges[i]].std())\n",
    "        delta_var.append(mirror_ambient_delta.iloc[time_ranges[i]].var())\n",
    "        delta_start.append(mirror_ambient_delta.iloc[time_ranges[i][0]])\n",
    "        delta_end.append(mirror_ambient_delta.iloc[time_ranges[i][-1]])\n",
    "        ambient_min.append(telescope_data['air_temp'].iloc[time_ranges[i]].min())\n",
    "        ambient_max.append(telescope_data['air_temp'].iloc[time_ranges[i]].max())\n",
    "        ambient_mean.append(telescope_data['air_temp'].iloc[time_ranges[i]].mean())\n",
    "        ambient_median.append(telescope_data['air_temp'].iloc[time_ranges[i]].median())\n",
    "        ambient_std.append(telescope_data['air_temp'].iloc[time_ranges[i]].std())\n",
    "        ambient_var.append(telescope_data['air_temp'].iloc[time_ranges[i]].var())\n",
    "        ambient_start.append(telescope_data['air_temp'].iloc[time_ranges[i]][0])\n",
    "        ambient_end.append(telescope_data['air_temp'].iloc[time_ranges[i]][-1])\n",
    "        start_time.append(mirror_ambient_delta.index[time_ranges[i]][0])\n",
    "        equalize = np.argwhere(np.abs(mirror_ambient_delta.iloc[time_ranges[i]].to_numpy()<1e-1)).flatten()\n",
    "        if len(equalize):\n",
    "            time = (mirror_ambient_delta.index[time_ranges[i]][equalize[-1]]-mirror_ambient_delta.index[time_ranges[i]][0]).seconds/3600\n",
    "            response_time.append(time)\n",
    "            ambient_response.append(telescope_data.iloc[time_ranges[i]]['air_temp'][equalize[0]])\n",
    "        else:\n",
    "            time = (mirror_ambient_delta.index[time_ranges[i]][-1]-mirror_ambient_delta.index[time_ranges[i]][0]).seconds/3600\n",
    "            response_time.append(time)\n",
    "            ambient_response.append(telescope_data.iloc[time_ranges[i]]['air_temp'][-1])\n",
    "    df = pd.DataFrame()\n",
    "    df['delta_min'] = delta_min\n",
    "    df['delta_max'] = delta_max\n",
    "    df['delta_mean'] = delta_mean\n",
    "    df['delta_median'] = delta_median\n",
    "    df['delta_std'] = delta_std\n",
    "    df['delta_var'] = delta_var\n",
    "    df['delta_start'] = delta_start\n",
    "    df['delta_end'] = delta_end\n",
    "    df['ambient_min'] = ambient_min\n",
    "    df['ambient_max'] = ambient_max\n",
    "    df['ambient_mean'] = ambient_mean\n",
    "    df['ambient_median'] = ambient_median\n",
    "    df['ambient_std'] = ambient_std\n",
    "    df['ambient_var'] = ambient_var\n",
    "    df['ambient_start'] = ambient_start\n",
    "    df['ambient_end'] = ambient_end\n",
    "    df['start_time'] = start_time\n",
    "    df['response_time'] = response_time\n",
    "    df['ambient_response'] = ambient_response\n",
    "    df.set_index('start_time', inplace=True)\n",
    "    with open(f'{data_dir}/temp_delta_stats_{file}.pkl', 'wb') as pf:\n",
    "        pickle.dump(df, pf)"
   ]
  },
  {
   "cell_type": "code",
   "execution_count": 54,
   "id": "3517ae98-b093-481c-bb29-b7cccd4b1e5e",
   "metadata": {},
   "outputs": [
    {
     "data": {
      "application/vnd.jupyter.widget-view+json": {
       "model_id": "b06c5d2e51c14360bd9e94afc9140b62",
       "version_major": 2,
       "version_minor": 0
      },
      "text/plain": [
       "daytime statistics:   0%|          | 0/719 [00:00<?, ?it/s]"
      ]
     },
     "metadata": {},
     "output_type": "display_data"
    }
   ],
   "source": [
    "temp_delta_stats(daytime=True)\n",
    "# temp_delta_stats(daytime=False)"
   ]
  },
  {
   "cell_type": "code",
   "execution_count": null,
   "id": "d388f41f-6d12-4779-9cf5-8285be4bd557",
   "metadata": {},
   "outputs": [],
   "source": [
    "def mirror_cooling_plots(daytime=False):\n",
    "    time_ranges = get_time_ranges(cooling_on=daytime)\n",
    "    mirror_ambient_delta = telescope_data['air_temp']-telescope_data['mirror_temp']\n",
    "    mirror_desired_delta = telescope_data['mirror_desired_temp']-telescope_data['mirror_temp']\n",
    "    folder = 'daytime' if daytime else 'nighttime'\n",
    "\n",
    "    for i in trange(len(time_ranges), desc=f'{folder} single day plots'):\n",
    "                \n",
    "        fig, ax = plt.subplots(ncols=2, figsize=(20,10))\n",
    "        ax0_plots = []\n",
    "        ax1_plots = []\n",
    "        ax[0].autoscale(True)\n",
    "        ax[0].set_title('Mirror Temperature vs. Date/Time')\n",
    "        ax[0].set_ylabel('Mirror Temperature (Celcius)')\n",
    "        ax[0].set_xlabel('Date/Time')\n",
    "        ax[1].autoscale(True)\n",
    "        ax[1].set_title('Dome & Tower Temperature vs. Date/Time')\n",
    "        ax[1].set_ylabel('Dome Temperature (Celcius)')\n",
    "        ax[1].set_xlabel('Date/Time')\n",
    "    \n",
    "        fig.autofmt_xdate()        \n",
    "\n",
    "        ax[0].plot(telescope_data.index[time_ranges[i]], telescope_data.iloc[time_ranges[i]]['mirror_avg_temp'], label='average mirror temp')\n",
    "        ax[0].plot(telescope_data.index[time_ranges[i]], telescope_data.iloc[time_ranges[i]]['mirror_temp'], label='mirror temp')\n",
    "        ax[0].plot(telescope_data.index[time_ranges[i]], telescope_data.iloc[time_ranges[i]]['mirror_desired_temp'], label='desired mirror temp')\n",
    "        ax[0].plot(telescope_data.index[time_ranges[i]], telescope_data.iloc[time_ranges[i]]['air_temp'], label='air temp')\n",
    "        ax[0].plot(telescope_data.index[time_ranges[i]], telescope_data.iloc[time_ranges[i]]['mirror_cooling'], label='mirror cooling')\n",
    "        ax[0].plot(mirror_ambient_delta.index[time_ranges[i]], mirror_ambient_delta.iloc[time_ranges[i]], label='ambient & mirror temp delta')\n",
    "        ax[0].plot(mirror_desired_delta.index[time_ranges[i]], mirror_desired_delta.iloc[time_ranges[i]], label='desired & mirror temp delta')\n",
    "        ax[0].axhline(y=1.5, color='maroon', linestyle='--')\n",
    "        ax[0].axhline(y=-1.5, color='maroon', linestyle='--')\n",
    "        ax[0].annotate(u\"1.5 \\u2103\", xy=(telescope_data.index[time_ranges[i]][-1], 1.75), annotation_clip=False, ha='right')\n",
    "        ax[0].annotate(u\"-1.5 \\u2103\", xy=(telescope_data.index[time_ranges[i]][-1], -1.25), annotation_clip=False, ha='right')\n",
    "\n",
    "        if not daytime:\n",
    "            telemetry_indicies = np.argwhere(np.logical_and(telemetry_data.index >= telescope_data.index[time_ranges[i]][0], telemetry_data.index <= telescope_data.index[time_ranges[i]][-1])).flatten()\n",
    "            if len(telemetry_data.iloc[telemetry_indicies]['seeing']):\n",
    "                twin0 = ax[0].twinx()\n",
    "                ax[0].set_title('Mirror Temperature & Seeing vs. Date/Time')\n",
    "                twin0.set_ylabel('Seeing')\n",
    "                twin0.autoscale(True)\n",
    "                twin0.plot(telemetry_data.index[telemetry_indicies], telemetry_data.iloc[telemetry_indicies]['seeing'], color=\"indigo\", label='seeing')\n",
    "\n",
    "        ax[1].plot(dome_data.index[time_ranges[i]], dome_data.iloc[time_ranges[i]]['dome_floor_ne'], label='dome floor temp (NE)')\n",
    "        ax[1].plot(dome_data.index[time_ranges[i]], dome_data.iloc[time_ranges[i]]['dome_floor_nw'], label='dome floor temp (NW)')\n",
    "        ax[1].plot(dome_data.index[time_ranges[i]], dome_data.iloc[time_ranges[i]]['dome_floor_s'], label='dome floor temp (S)')\n",
    "\n",
    "        twin1 = ax[1].twinx()\n",
    "        twin1.plot(tower_data.index[time_ranges[i]], tower_data.iloc[time_ranges[i]]['temperature'], color=\"indigo\", label='tower temp')\n",
    "        twin1.autoscale(True)\n",
    "        twin1.set_ylabel('Tower Temperature (Celcius)')\n",
    "\n",
    "        ax[0].legend(handles=ax[0].get_legend_handles_labels()+twin0.get_legend_handles_labels())\n",
    "        ax[1].legend(handles=ax[1].get_legend_handles_labels()+twin1.get_legend_handles_labels())\n",
    "\n",
    "        year = telescope_data.index[time_ranges[i]][0].year\n",
    "        month = telescope_data.index[time_ranges[i]][0].month\n",
    "        day = telescope_data.index[time_ranges[i]][0].day\n",
    "        plt.rcParams['axes.facecolor']='white'\n",
    "        plt.rcParams['savefig.facecolor']='white'\n",
    "        plt.rcParams['figure.facecolor'] = 'white'\n",
    "        fig.savefig(f'time_plots/single_day_plots/{folder}/{year}-{month}-{day}.png')\n",
    "        plt.close(fig)"
   ]
  },
  {
   "cell_type": "code",
   "execution_count": null,
   "id": "2404e149-de96-43f8-88e5-771ace8d33d4",
   "metadata": {},
   "outputs": [],
   "source": [
    "mirror_cooling_plots(daytime=True)\n",
    "mirror_cooling_plots(daytime=False)"
   ]
  },
  {
   "cell_type": "code",
   "execution_count": null,
   "id": "e78b8fb2-9cf1-45f8-93f0-cfd8b8a76966",
   "metadata": {},
   "outputs": [],
   "source": [
    "for i in range(len(telescope_data['air_temp'])):\n",
    "    if telescope_data['air_temp'][i] is pd.NA or np.nan:\n",
    "        print(i)"
   ]
  },
  {
   "cell_type": "code",
   "execution_count": null,
   "id": "8546e39f-b971-43c5-bbd4-6ad27b573e88",
   "metadata": {},
   "outputs": [],
   "source": [
    "print(type(telescope_data['air_temp'].index[0]))\n",
    "print(type(np.linspace(1, 50)))\n",
    "print(telescope_data['air_temp'].index[0])\n",
    "print(telescope_data['air_temp'].index[0].date())\n"
   ]
  },
  {
   "cell_type": "markdown",
   "id": "86a45a75-572e-4b24-8c29-1f4fca744bd4",
   "metadata": {},
   "source": [
    "## Monthly Temperature Delta Distributions"
   ]
  },
  {
   "cell_type": "code",
   "execution_count": null,
   "id": "8c5c133c-a0ae-43c9-9de4-0e9c98f36a1b",
   "metadata": {},
   "outputs": [],
   "source": [
    "def temp_distribution_data(daytime=True):\n",
    "    folder = 'daytime' if daytime else 'nighttime'\n",
    "    time_ranges = get_time_ranges(cooling_on=daytime)[:-1]\n",
    "    ambient_mirror_delta = telescope_data['air_temp']-telescope_data['mirror_temp']\n",
    "    ambient_mirror_delta = ambient_mirror_delta[remove_outliers(ambient_mirror_delta)]\n",
    "    ambient_temp = telescope_data['air_temp']\n",
    "    ambient_temp = ambient_temp[remove_outliers(ambient_temp)]\n",
    "    print(np.max(ambient_mirror_delta))\n",
    "    print(np.min(ambient_mirror_delta))\n",
    "    print(np.max(ambient_temp))\n",
    "    print(np.min(ambient_temp))\n",
    "    \n",
    "    years = [2019, 2020, 2021, 2022, 2023]\n",
    "    months = np.linspace(1, 12, 12, dtype=np.int64)\n",
    "    ambient_distributions = {}\n",
    "    for i in years:\n",
    "        year = {}\n",
    "        for j in months:\n",
    "            year[j] = []\n",
    "        ambient_distributions[i] = year\n",
    "    delta_distributions = deepcopy(ambient_distributions)\n",
    "\n",
    "    # temps = np.linspace(-20, 20, 4001)\n",
    "    # times = np.empty((len(time_ranges)), dtype=type(ambient_temp.index[0]))\n",
    "    # ambient_distributions = np.empty((len(time_ranges), len(temps)), dtype=np.float64)\n",
    "    # delta_distributions = np.empty((len(time_ranges), len(temps)), dtype=np.float64)\n",
    "    for i in trange(len(time_ranges), desc=f'{folder}'):\n",
    "        # time = time_ranges[i] if len(time_ranges[i]) else [time_ranges[i]]\n",
    "        # print(time)\n",
    "        # try:\n",
    "        #     assert(np.max(time)<len(ambient_temp))\n",
    "        #     assert(np.max(time)<len(ambient_mirror_delta))\n",
    "        # except AssertionError:\n",
    "        #     print(np.max(time), len(ambient_temp))\n",
    "        #     print(np.max(time), len(ambient_mirror_delta))\n",
    "        # times[i] = ambient_temp.index[time_ranges[i][0]].date()\n",
    "        # ambient_distributions[i] = skewnorm.pdf(temps, *skewnorm.fit(ambient_temp.iloc[time_ranges[i]]))\n",
    "        # delta_distributions[i] = skewnorm.pdf(temps, *skewnorm.fit(ambient_mirror_delta.iloc[time_ranges[i]]))\n",
    "        if (np.nan not in ambient_temp.iloc[i]) and (ambient_mirror_delta.iloc[i] is not np.nan):\n",
    "            ambient_distributions[ambient_temp.index[i].year][ambient_temp.index[i].month].append(ambient_temp.iloc[i])\n",
    "            delta_distributions[ambient_mirror_delta.index[i].year][ambient_mirror_delta.index[i].month].append(ambient_mirror_delta.iloc[i])\n",
    "    with open(f'{data_dir}/ambient_distributions_{folder}.pkl', 'wb') as pf:\n",
    "        pickle.dump(ambient_distributions, pf)\n",
    "    with open(f'{data_dir}/delta_distributions_{folder}.pkl', 'wb') as pf:\n",
    "        pickle.dump(delta_distributions, pf)\n",
    "    with open(f'{data_dir}/full_distributions_{folder}.pkl', 'wb') as pf:\n",
    "        full_distributions = [temps, times, ambient_distributions, delta_distributions]\n",
    "        pickle.dump(full_distributions, pf)\n"
   ]
  },
  {
   "cell_type": "code",
   "execution_count": null,
   "id": "76d07341-6fcd-46b8-a04d-bee244edea6c",
   "metadata": {},
   "outputs": [],
   "source": [
    "temp_distribution_data(daytime=True)\n",
    "temp_distribution_data(daytime=False)"
   ]
  },
  {
   "cell_type": "code",
   "execution_count": 152,
   "id": "4d70b07d-5eb7-4e05-978b-ca759e8794e2",
   "metadata": {},
   "outputs": [],
   "source": [
    "from scipy.stats import skewnorm, norm\n",
    "from astropy.stats import scott_bin_width\n",
    "from math import trunc, ceil, floor\n",
    "from matplotlib import cm\n",
    "from pandas.io.json._normalize import nested_to_record    \n",
    "\n",
    "def FWHM(x, y):\n",
    "    deltax = x[1] - x[0]\n",
    "    half_max = max(y) / 2.\n",
    "    l = np.where(y > half_max, 1, 0)\n",
    "    return np.sum(l) * deltax\n",
    "\n",
    "def monthly_delta_distribution(daytime=True):\n",
    "    mpl.style.use('seaborn-colorblind')\n",
    "    folder = 'daytime' if daytime else 'nighttime'\n",
    "    with open(f'{data_dir}/ambient_distributions_{folder}.pkl', 'rb') as pf:\n",
    "        ambient_distributions = pickle.load(pf)\n",
    "    with open(f'{data_dir}/delta_distributions_{folder}.pkl', 'rb') as pf:\n",
    "        delta_distributions = pickle.load(pf)\n",
    "    with open(f'{data_dir}/temp_delta_stats_{folder}.pkl', 'rb') as pf:\n",
    "        temp_delta_data = pickle.load(pf)\n",
    "    years = [2019, 2020, 2021, 2022, 2023]\n",
    "    months = np.linspace(1, 12, 12, dtype=np.int64)\n",
    "\n",
    "    temp_stats = {}\n",
    "    for i in years:\n",
    "        year = {}\n",
    "        for j in months:\n",
    "            year[j] = []\n",
    "        temp_stats[i] = year\n",
    "    for i in range(len(temp_delta_data)):\n",
    "        temp_stats[temp_delta_data.index[i].year][temp_delta_data.index[i].month].append(temp_delta_data.iloc[i])\n",
    "\n",
    "\n",
    "    ambient_mirror_delta = telescope_data['air_temp']-telescope_data['mirror_temp']\n",
    "    ambient_mirror_delta = ambient_mirror_delta[valid_values(ambient_mirror_delta)]\n",
    "    ambient_temp = telescope_data['air_temp'][valid_values(telescope_data['air_temp'])]\n",
    "    \n",
    "    ambient_min = floor(np.min(ambient_temp))\n",
    "    ambient_max = ceil(np.max(ambient_temp))\n",
    "    delta_min = floor(np.min(ambient_mirror_delta))\n",
    "    delta_max = ceil(np.max(ambient_mirror_delta))\n",
    "    \n",
    "    vmin = temp_delta_data['ambient_std'][valid_values(temp_delta_data['ambient_std'])].min()\n",
    "    vmax = temp_delta_data['ambient_std'][valid_values(temp_delta_data['ambient_std'])].max()\n",
    "    \n",
    "    xmin_start = temp_delta_data['delta_start'][valid_values(temp_delta_data['delta_start'])].min()\n",
    "    xmax_start = temp_delta_data['delta_start'][valid_values(temp_delta_data['delta_start'])].max()\n",
    "    ymin_start = temp_delta_data['ambient_start'][valid_values(temp_delta_data['ambient_start'])].min()\n",
    "    ymax_start = temp_delta_data['ambient_start'][valid_values(temp_delta_data['ambient_start'])].max()\n",
    "    \n",
    "    xmin_end = temp_delta_data['delta_end'][valid_values(temp_delta_data['delta_end'])].min()\n",
    "    xmax_end = temp_delta_data['delta_end'][valid_values(temp_delta_data['delta_end'])].max()\n",
    "    ymin_end = temp_delta_data['ambient_end'][valid_values(temp_delta_data['ambient_end'])].min()\n",
    "    ymax_end = temp_delta_data['ambient_end'][valid_values(temp_delta_data['ambient_end'])].max()\n",
    "\n",
    "    percent_ideal_data = []    \n",
    "    percent_ideal_time = []\n",
    "        \n",
    "    for i in years:\n",
    "        directory = f'time_plots/temp_distributions/{folder}/{i}'\n",
    "        for j in tqdm(months, desc=f'{i}'):\n",
    "            delta_arr = np.asarray(delta_distributions[i][j])[valid_values(delta_distributions[i][j])]\n",
    "            ambient_arr = np.asarray(ambient_distributions[i][j])[valid_values(ambient_distributions[i][j])]\n",
    "            if len(delta_arr) and len(ambient_arr):\n",
    "                df = pd.DataFrame(temp_stats[i][j])\n",
    "                if 'delta_start' and 'delta_end' and 'ambient_start' and 'ambient_end' in df.columns.values:\n",
    "                    if not os.path.isdir(directory):\n",
    "                        os.makedirs(directory)\n",
    "                    fig, ax = plt.subplots(nrows=2, ncols=2, figsize=(20,20))\n",
    "                    plt.rcParams['axes.facecolor']='white'\n",
    "                    plt.rcParams['savefig.facecolor']='white'\n",
    "                    plt.rcParams['figure.facecolor'] = 'white'\n",
    "\n",
    "                    percent_ideal = 100*np.count_nonzero(np.abs(delta_arr) < 1.5)/len(delta_arr)\n",
    "                    percent_ideal_data.append(percent_ideal)\n",
    "                    percent_ideal_time.append(pd.Timestamp(year=i,month=j,day=1))\n",
    "                    \n",
    "                    bins = ceil(np.ptp(delta_arr)/scott_bin_width(delta_arr))\n",
    "                    # bins = ceil(4*np.ptp(ambient_arr))\n",
    "                    ax[0][0].hist(delta_arr, bins=bins, density=True, label='histogram')\n",
    "                    xs = np.linspace(delta_min, delta_max, 1000*(delta_max-delta_min)+1)\n",
    "                    ys = norm.pdf(xs, *norm.fit(delta_arr))\n",
    "                    ax[0][0].scatter(xs, ys, 5, color='r', marker='.', label=f'Guassian fit (FWHM: {FWHM(xs,ys)}')\n",
    "                    ax[0][0].axvline(x=1.5, c='black', linestyle='--', label=u'\\u00b1 1.5 \\u2103 window ' + f'({percent_ideal:.2f}% inside window)')\n",
    "                    ax[0][0].axvline(x=-1.5, c='black', linestyle='--')\n",
    "                    ax[0][0].set_title(f'Distribution of Ambient-Mirror Temperatuere Delta ({i}-{j})')\n",
    "                    ax[0][0].set_ylabel('Density (%)')\n",
    "                    ax[0][0].set_ylim(0, 1.0)\n",
    "                    ax[0][0].set_xlabel(u'Temperature Delta (\\u2103)')\n",
    "                    ax[0][0].legend()\n",
    "\n",
    "                    bins = ceil(np.ptp(ambient_arr)/scott_bin_width(ambient_arr))\n",
    "                    # bins = ceil(4*np.ptp(ambient_arr))\n",
    "                    ax[0][1].hist(ambient_arr, bins=bins, density=True, label='histogram')\n",
    "                    xs = np.linspace(ambient_min, ambient_max, 1000*(ambient_max-ambient_min)+1)\n",
    "                    ys = norm.pdf(xs, *norm.fit(ambient_arr))\n",
    "                    ax[0][1].scatter(xs, ys, 5, color='r', marker='.', label=f'Guassian fit (FWHM: {FWHM(xs,ys)}')\n",
    "                    ax[0][1].set_title(f'Distribution of Ambient Temperature ({i}-{j})')\n",
    "                    ax[0][1].set_ylabel('Density (%)')\n",
    "                    ax[0][1].set_ylim(0, 1.0)\n",
    "                    ax[0][1].set_xlabel(u'Ambient Temperature (\\u2103)')\n",
    "                    ax[0][1].legend()\n",
    "\n",
    "                    indx = np.logical_and(valid_values(df['ambient_std']), np.logical_and(valid_values(df['ambient_start']), valid_values(df['delta_start'])))\n",
    "                    scatter1 = ax[1][0].scatter(df['delta_start'][indx], df['ambient_start'][indx], c=df['ambient_std'][indx], cmap='cividis', vmin=vmin, vmax=vmax)\n",
    "                    ax[1][0].set_title(f'Initial Ambient Temperature vs Initial Temperature Delta ({i}-{j})')\n",
    "                    ax[1][0].set_ylabel(u'Initial Ambient Temperature (\\u2103)')\n",
    "                    ax[1][0].set_xlim(xmin_start, xmax_start)\n",
    "                    ax[1][0].set_xlabel(u'Initial Temperature Delta (\\u2103)')\n",
    "                    ax[1][0].set_ylim(ymin_start, ymax_start)\n",
    "                    ax[1][0].grid(True)\n",
    "                    fig.colorbar(scatter1, ax=ax[1][0], label=u'Standard Deviation of Ambient Temperature (\\u2103)')\n",
    "                    \n",
    "                    indx = np.logical_and(valid_values(df['ambient_std']), np.logical_and(valid_values(df['ambient_end']), valid_values(df['delta_end'])))\n",
    "                    scatter2 = ax[1][1].scatter(df['delta_end'][indx], df['ambient_end'][indx], c=df['ambient_std'][indx], cmap='cividis', vmin=vmin, vmax=vmax)\n",
    "                    ax[1][1].set_title(f'Final Ambient Temperature vs Final Temperature Delta ({i}-{j})')\n",
    "                    ax[1][1].set_ylabel(u'Final Ambient Temperature (\\u2103)')\n",
    "                    ax[1][1].set_ylim(ymin_end, ymax_end)\n",
    "                    ax[1][1].set_xlabel(u'Final Temperature Delta (\\u2103)')\n",
    "                    ax[1][1].set_xlim(xmin_end, xmax_end)\n",
    "                    ax[1][1].grid(True)\n",
    "                    fig.colorbar(scatter2, ax=ax[1][1], label=u'Standard Deviation of Ambient Temperature (\\u2103)')\n",
    "\n",
    "                    fig.savefig(f'{directory}/{i}-{j}.png', format='png') \n",
    "                    plt.close(fig)\n",
    "    \n",
    "    directory = 'time_plots/temp_distributions/summary_plots'\n",
    "    fig, ax = plt.subplots(figsize=(10,5))\n",
    "    ax.plot(percent_ideal_time, percent_ideal_data, 'o--')\n",
    "    ax.set_title('Percentage of Time in Ideal Window vs. Date (YYYY-MM)')\n",
    "    ax.set_ylabel('Percentage of Time in Ideal Window (%)')\n",
    "    ax.set_ylim(0, 100.0)\n",
    "    ax.set_xlabel('Date (YYYY-MM)')\n",
    "    ax.grid(True)\n",
    "    fig.autofmt_xdate()\n",
    "    fig.savefig(f'{directory}/percent_ideal_{folder}.png')\n",
    "    plt.show()\n",
    "    plt.close(fig)"
   ]
  },
  {
   "cell_type": "code",
   "execution_count": null,
   "id": "eb6d5b0a-8a49-4f82-b985-d0f1c8f040a4",
   "metadata": {},
   "outputs": [
    {
     "data": {
      "application/vnd.jupyter.widget-view+json": {
       "model_id": "0969bee59f534cc3a77ac303ac4f4bc2",
       "version_major": 2,
       "version_minor": 0
      },
      "text/plain": [
       "2019:   0%|          | 0/12 [00:00<?, ?it/s]"
      ]
     },
     "metadata": {},
     "output_type": "display_data"
    },
    {
     "name": "stderr",
     "output_type": "stream",
     "text": [
      "/global/common/software/desi/perlmutter/desiconda/20220119-2.0.1/conda/lib/python3.9/site-packages/numpy/core/_methods.py:262: RuntimeWarning: Degrees of freedom <= 0 for slice\n",
      "  ret = _var(a, axis=axis, dtype=dtype, out=out, ddof=ddof,\n",
      "/global/common/software/desi/perlmutter/desiconda/20220119-2.0.1/conda/lib/python3.9/site-packages/numpy/core/_methods.py:222: RuntimeWarning: invalid value encountered in true_divide\n",
      "  arrmean = um.true_divide(arrmean, div, out=arrmean, casting='unsafe',\n",
      "/global/common/software/desi/perlmutter/desiconda/20220119-2.0.1/conda/lib/python3.9/site-packages/numpy/core/_methods.py:254: RuntimeWarning: invalid value encountered in double_scalars\n",
      "  ret = ret.dtype.type(ret / rcount)\n",
      "/global/common/software/desi/perlmutter/desiconda/20220119-2.0.1/conda/lib/python3.9/site-packages/numpy/core/fromnumeric.py:3440: RuntimeWarning: Mean of empty slice.\n",
      "  return _methods._mean(a, axis=axis, dtype=dtype,\n",
      "/global/common/software/desi/perlmutter/desiconda/20220119-2.0.1/conda/lib/python3.9/site-packages/numpy/core/_methods.py:189: RuntimeWarning: invalid value encountered in double_scalars\n",
      "  ret = ret.dtype.type(ret / rcount)\n"
     ]
    },
    {
     "data": {
      "application/vnd.jupyter.widget-view+json": {
       "model_id": "28e88100fd9e47e88452f5de22a7ff79",
       "version_major": 2,
       "version_minor": 0
      },
      "text/plain": [
       "2020:   0%|          | 0/12 [00:00<?, ?it/s]"
      ]
     },
     "metadata": {},
     "output_type": "display_data"
    },
    {
     "data": {
      "application/vnd.jupyter.widget-view+json": {
       "model_id": "c2059094836e469da9eba2c2c0df2b09",
       "version_major": 2,
       "version_minor": 0
      },
      "text/plain": [
       "2021:   0%|          | 0/12 [00:00<?, ?it/s]"
      ]
     },
     "metadata": {},
     "output_type": "display_data"
    },
    {
     "data": {
      "application/vnd.jupyter.widget-view+json": {
       "model_id": "cb8bed68457a44788ee98072e31f63f6",
       "version_major": 2,
       "version_minor": 0
      },
      "text/plain": [
       "2022:   0%|          | 0/12 [00:00<?, ?it/s]"
      ]
     },
     "metadata": {},
     "output_type": "display_data"
    },
    {
     "data": {
      "application/vnd.jupyter.widget-view+json": {
       "model_id": "f7d23787ec484bec835915a441526d95",
       "version_major": 2,
       "version_minor": 0
      },
      "text/plain": [
       "2023:   0%|          | 0/12 [00:00<?, ?it/s]"
      ]
     },
     "metadata": {},
     "output_type": "display_data"
    },
    {
     "data": {
      "image/png": "[encoded data removed]",
      "text/plain": [
       "<Figure size 720x360 with 1 Axes>"
      ]
     },
     "metadata": {},
     "output_type": "display_data"
    },
    {
     "data": {
      "application/vnd.jupyter.widget-view+json": {
       "model_id": "b5281f325080439591ed7b59a36cb5c2",
       "version_major": 2,
       "version_minor": 0
      },
      "text/plain": [
       "2019:   0%|          | 0/12 [00:00<?, ?it/s]"
      ]
     },
     "metadata": {},
     "output_type": "display_data"
    },
    {
     "name": "stderr",
     "output_type": "stream",
     "text": [
      "/global/common/software/desi/perlmutter/desiconda/20220119-2.0.1/conda/lib/python3.9/site-packages/numpy/core/_methods.py:262: RuntimeWarning: Degrees of freedom <= 0 for slice\n",
      "  ret = _var(a, axis=axis, dtype=dtype, out=out, ddof=ddof,\n",
      "/global/common/software/desi/perlmutter/desiconda/20220119-2.0.1/conda/lib/python3.9/site-packages/numpy/core/_methods.py:222: RuntimeWarning: invalid value encountered in true_divide\n",
      "  arrmean = um.true_divide(arrmean, div, out=arrmean, casting='unsafe',\n",
      "/global/common/software/desi/perlmutter/desiconda/20220119-2.0.1/conda/lib/python3.9/site-packages/numpy/core/_methods.py:254: RuntimeWarning: invalid value encountered in double_scalars\n",
      "  ret = ret.dtype.type(ret / rcount)\n",
      "/global/common/software/desi/perlmutter/desiconda/20220119-2.0.1/conda/lib/python3.9/site-packages/numpy/core/fromnumeric.py:3440: RuntimeWarning: Mean of empty slice.\n",
      "  return _methods._mean(a, axis=axis, dtype=dtype,\n",
      "/global/common/software/desi/perlmutter/desiconda/20220119-2.0.1/conda/lib/python3.9/site-packages/numpy/core/_methods.py:189: RuntimeWarning: invalid value encountered in double_scalars\n",
      "  ret = ret.dtype.type(ret / rcount)\n"
     ]
    },
    {
     "data": {
      "application/vnd.jupyter.widget-view+json": {
       "model_id": "6e97bfdf2c7243f98efbe799c290223e",
       "version_major": 2,
       "version_minor": 0
      },
      "text/plain": [
       "2020:   0%|          | 0/12 [00:00<?, ?it/s]"
      ]
     },
     "metadata": {},
     "output_type": "display_data"
    },
    {
     "data": {
      "application/vnd.jupyter.widget-view+json": {
       "model_id": "8974efd9881c445e837acc0edbdd2d0f",
       "version_major": 2,
       "version_minor": 0
      },
      "text/plain": [
       "2021:   0%|          | 0/12 [00:00<?, ?it/s]"
      ]
     },
     "metadata": {},
     "output_type": "display_data"
    }
   ],
   "source": [
    "monthly_delta_distribution(daytime=True)\n",
    "monthly_delta_distribution(daytime=False)"
   ]
  },
  {
   "cell_type": "code",
   "execution_count": 131,
   "id": "85d8d8f3-c9d3-4dbe-89a3-87d2ff1f0fca",
   "metadata": {},
   "outputs": [
    {
     "data": {
      "image/png": "[encoded data removed]",
      "text/plain": [
       "<Figure size 432x288 with 1 Axes>"
      ]
     },
     "metadata": {},
     "output_type": "display_data"
    }
   ],
   "source": [
    "mpl.style.use('seaborn-colorblind')\n",
    "daytime = False\n",
    "folder = 'daytime' if daytime else 'nighttime'\n",
    "with open(f'{data_dir}/percent_ideal_{folder}.pkl', 'rb') as pf:\n",
    "    df = pickle.load(pf)\n",
    "\n",
    "fig, ax = plt.subplots()\n",
    "ax.plot(df['time'], df['percent_ideal'], 'o--')\n",
    "fig.autofmt_xdate()\n",
    "plt.show()\n",
    "    \n",
    "    "
   ]
  },
  {
   "cell_type": "code",
   "execution_count": null,
   "id": "cd7a21b5-45a0-4187-8448-8cdd00f7d7a3",
   "metadata": {},
   "outputs": [],
   "source": [
    "new_temperature_plot()"
   ]
  },
  {
   "cell_type": "code",
   "execution_count": null,
   "id": "91c85acf-ff6c-4875-9df5-f488aaf91a46",
   "metadata": {},
   "outputs": [],
   "source": [
    "new_temperature_plot(year=2022, month=6, day=10, offset=1, save=True)"
   ]
  },
  {
   "cell_type": "code",
   "execution_count": null,
   "id": "a4f4ebfd-ec6a-4d0b-8732-7365a26cd0d3",
   "metadata": {},
   "outputs": [],
   "source": [
    "new_temperature_plot(year=2022, month=6, day=10, offset=3, save=True)"
   ]
  },
  {
   "cell_type": "code",
   "execution_count": null,
   "id": "c15633ac-c3a3-4de7-a88b-baa3bdf4de60",
   "metadata": {},
   "outputs": [],
   "source": [
    "new_temperature_plot(year=2022, month=6, day=10, offset=3, save=True)"
   ]
  },
  {
   "cell_type": "code",
   "execution_count": null,
   "id": "1d6e14c1-64c1-41d0-a50b-e7d98d1a5c98",
   "metadata": {},
   "outputs": [],
   "source": [
    "new_temperature_plot(year=2022, month=1, day=1, offset=7, save=True)"
   ]
  },
  {
   "cell_type": "code",
   "execution_count": null,
   "id": "55e78558-2448-427f-ad96-daad6ef38032",
   "metadata": {},
   "outputs": [],
   "source": [
    "new_temperature_plot(year=2021, month=12, day=27, offset=7, save=True)"
   ]
  },
  {
   "cell_type": "code",
   "execution_count": null,
   "id": "d8f39928-094e-4822-a0cf-56d9eacb5a1f",
   "metadata": {},
   "outputs": [],
   "source": [
    "new_temperature_plot(year=2022, month=1, day=21, offset=7, save=True)"
   ]
  },
  {
   "cell_type": "code",
   "execution_count": null,
   "id": "e91d4320-098b-4109-8ddc-96d3bb2b3e1e",
   "metadata": {},
   "outputs": [],
   "source": [
    "new_temperature_plot(year=2021, month=2, day=1, offset=3, save=True)"
   ]
  },
  {
   "cell_type": "code",
   "execution_count": null,
   "id": "037b418d-d2f2-4d97-a511-89b29cb29a1c",
   "metadata": {},
   "outputs": [],
   "source": [
    "new_temperature_plot(year=2021, month=2, day=15, offset=3, save=True)"
   ]
  },
  {
   "cell_type": "code",
   "execution_count": null,
   "id": "d4e38a9f-ae19-4c8f-8edf-08dc17e92ed8",
   "metadata": {},
   "outputs": [],
   "source": [
    "new_temperature_plot(year=2021, month=6, day=15, offset=3, save=True)"
   ]
  },
  {
   "cell_type": "code",
   "execution_count": null,
   "id": "a8653007-1cd8-447f-b9ca-704044bf6a41",
   "metadata": {},
   "outputs": [],
   "source": [
    "new_temperature_plot(year=2021, month=7, day=15, offset=3, save=True)"
   ]
  },
  {
   "cell_type": "code",
   "execution_count": null,
   "id": "ac832d4f-fce7-4664-b7f6-68e70c71adb1",
   "metadata": {},
   "outputs": [],
   "source": [
    "new_temperature_plot(year=2021, month=8, day=15, offset=3, save=True)"
   ]
  },
  {
   "cell_type": "code",
   "execution_count": null,
   "id": "34f79930-6dca-4b37-bb47-f2aaa5fef46a",
   "metadata": {},
   "outputs": [],
   "source": [
    "new_temperature_plot(year=2021, month=9, day=15, offset=3, save=True)"
   ]
  },
  {
   "cell_type": "code",
   "execution_count": null,
   "id": "733e4e4e-ece2-4965-bfa8-60d7b85ae076",
   "metadata": {},
   "outputs": [],
   "source": [
    "new_temperature_plot(year=2021, month=10, day=15, offset=3, save=True)"
   ]
  },
  {
   "cell_type": "code",
   "execution_count": null,
   "id": "63b57ecc-2096-433d-bc5a-ec56ed65bbad",
   "metadata": {},
   "outputs": [],
   "source": [
    "new_temperature_plot(year=2021, month=11, day=15, offset=3, save=True)"
   ]
  },
  {
   "cell_type": "code",
   "execution_count": null,
   "id": "79318a98-aaf7-4a68-9812-fa8ed3f81fe8",
   "metadata": {},
   "outputs": [],
   "source": [
    "new_temperature_plot(year=2021, month=12, day=15, offset=3, save=True)"
   ]
  },
  {
   "cell_type": "code",
   "execution_count": null,
   "id": "da778625-81a6-4796-b84e-eec52289fb85",
   "metadata": {},
   "outputs": [],
   "source": [
    "new_temperature_plot(year=2021, month=3, day=15, offset=3, save=True)"
   ]
  },
  {
   "cell_type": "code",
   "execution_count": null,
   "id": "5562d080-59c4-4f7a-8077-294d3a6af30b",
   "metadata": {},
   "outputs": [],
   "source": [
    "new_temperature_plot(year=2021, month=4, day=15, offset=3, save=True)"
   ]
  },
  {
   "cell_type": "code",
   "execution_count": null,
   "id": "3bb05596-5505-4c3a-82a7-4ff70762e143",
   "metadata": {},
   "outputs": [],
   "source": [
    "new_temperature_plot(year=2021, month=5, day=15, offset=3, save=True)"
   ]
  },
  {
   "cell_type": "code",
   "execution_count": null,
   "id": "64e228d9-827b-4251-89e2-0099e31cdd00",
   "metadata": {},
   "outputs": [],
   "source": [
    "new_temperature_plot(year=2022, month=1, day=15, offset=7, save=True)"
   ]
  },
  {
   "cell_type": "code",
   "execution_count": null,
   "id": "8469cee9-3a2b-4eea-81d1-42d5872a92a2",
   "metadata": {},
   "outputs": [],
   "source": [
    "new_temperature_plot(year=2022, month=2, day=1, offset=3, save=True)"
   ]
  },
  {
   "cell_type": "code",
   "execution_count": null,
   "id": "b78afde6-fa2b-4f5b-b5fe-916bb6b94482",
   "metadata": {},
   "outputs": [],
   "source": [
    "new_temperature_plot(year=2022, month=1, day=15, offset=3, save=True)"
   ]
  },
  {
   "cell_type": "code",
   "execution_count": null,
   "id": "43fe765c-64c8-43ea-a11b-b5b53433aa54",
   "metadata": {},
   "outputs": [],
   "source": [
    "new_temperature_plot(year=2022, month=1, day=15, offset=5, save=True)"
   ]
  },
  {
   "cell_type": "code",
   "execution_count": null,
   "id": "c37350de-a6dd-4b0d-b801-56a70dc3252d",
   "metadata": {},
   "outputs": [],
   "source": [
    "new_temperature_plot(year=2022, month=2, day=15, offset=3, save=True)"
   ]
  },
  {
   "cell_type": "code",
   "execution_count": null,
   "id": "f2048873-f23f-4022-87af-643ee605e87d",
   "metadata": {},
   "outputs": [],
   "source": [
    "new_temperature_plot(year=2022, month=2, day=15, offset=5, save=True)"
   ]
  },
  {
   "cell_type": "code",
   "execution_count": null,
   "id": "36e1f426-4dc4-4e9f-90be-b1052406e33e",
   "metadata": {},
   "outputs": [],
   "source": [
    "new_temperature_plot(year=2022, month=3, day=15, offset=3, save=True)"
   ]
  },
  {
   "cell_type": "code",
   "execution_count": null,
   "id": "d5becaf8-a0d2-4073-b254-5a6c84378c1e",
   "metadata": {},
   "outputs": [],
   "source": [
    "new_temperature_plot(year=2022, month=3, day=15, offset=5, save=True)"
   ]
  },
  {
   "cell_type": "code",
   "execution_count": null,
   "id": "5e566a6c-a7ad-484b-ada1-b8703740c91a",
   "metadata": {},
   "outputs": [],
   "source": [
    "new_temperature_plot(year=2022, month=4, day=15, offset=3, save=True)"
   ]
  },
  {
   "cell_type": "code",
   "execution_count": null,
   "id": "59aa8a0d-0f0d-4f88-b38f-c03e501fb9e4",
   "metadata": {},
   "outputs": [],
   "source": [
    "new_temperature_plot(year=2022, month=4, day=15, offset=5, save=True)"
   ]
  },
  {
   "cell_type": "code",
   "execution_count": null,
   "id": "fa83b787-c35e-4f39-bc17-83e72e5f5176",
   "metadata": {},
   "outputs": [],
   "source": [
    "new_temperature_plot(year=2022, month=5, day=15, offset=3, save=True)"
   ]
  },
  {
   "cell_type": "code",
   "execution_count": null,
   "id": "0b3c0cb6-3d71-497a-8a23-04ca91a260a9",
   "metadata": {},
   "outputs": [],
   "source": [
    "new_temperature_plot(year=2022, month=5, day=15, offset=5, save=True)"
   ]
  },
  {
   "cell_type": "code",
   "execution_count": null,
   "id": "50a55e0d-948a-44b6-ac33-2a3de172ed3d",
   "metadata": {},
   "outputs": [],
   "source": [
    "new_temperature_plot(year=2022, month=6, day=15, offset=3, save=True)"
   ]
  },
  {
   "cell_type": "code",
   "execution_count": null,
   "id": "da8a2597-aa48-428d-93f6-eb48029e108b",
   "metadata": {},
   "outputs": [],
   "source": [
    "new_temperature_plot(year=2022, month=6, day=15, offset=5, save=True)"
   ]
  },
  {
   "cell_type": "code",
   "execution_count": null,
   "id": "535285b6-49bb-4539-8442-b1df5859f7bc",
   "metadata": {},
   "outputs": [],
   "source": [
    "new_temperature_plot(year=2022, month=7, day=15, offset=3, save=True)"
   ]
  },
  {
   "cell_type": "code",
   "execution_count": null,
   "id": "467c9b65-79e8-4dc3-908b-3c0cc5431d36",
   "metadata": {},
   "outputs": [],
   "source": [
    "new_temperature_plot(year=2022, month=7, day=15, offset=5, save=True)"
   ]
  },
  {
   "cell_type": "code",
   "execution_count": null,
   "id": "2686ae46-c99d-45ac-8380-1791b8e70c5c",
   "metadata": {},
   "outputs": [],
   "source": [
    "new_temperature_plot(year=2022, month=8, day=15, offset=3, save=True)"
   ]
  },
  {
   "cell_type": "code",
   "execution_count": null,
   "id": "c5b219bc-8086-48e4-a993-0d27396d5da0",
   "metadata": {},
   "outputs": [],
   "source": [
    "new_temperature_plot(year=2022, month=8, day=15, offset=5, save=True)"
   ]
  },
  {
   "cell_type": "code",
   "execution_count": null,
   "id": "eb644727-528a-417e-ba05-bce6a364a9e0",
   "metadata": {},
   "outputs": [],
   "source": [
    "new_temperature_plot(year=2022, month=9, day=15, offset=3, save=True)"
   ]
  },
  {
   "cell_type": "code",
   "execution_count": null,
   "id": "60fb4b44-fc59-4a20-86bf-a47eb6f1d6c7",
   "metadata": {},
   "outputs": [],
   "source": [
    "new_temperature_plot(year=2022, month=9, day=15, offset=5, save=True)"
   ]
  },
  {
   "cell_type": "code",
   "execution_count": null,
   "id": "3a5b51d6-b600-4935-9c2c-c7637a2a82e3",
   "metadata": {},
   "outputs": [],
   "source": [
    "new_temperature_plot(year=2022, month=10, day=15, offset=3, save=True)"
   ]
  },
  {
   "cell_type": "code",
   "execution_count": null,
   "id": "6d3e8ba0-9b45-4a05-8e7b-b61c267a61f4",
   "metadata": {},
   "outputs": [],
   "source": [
    "new_temperature_plot(year=2022, month=10, day=15, offset=5, save=True)"
   ]
  },
  {
   "cell_type": "code",
   "execution_count": null,
   "id": "0f052756-d2f3-4905-8597-5848873642d2",
   "metadata": {},
   "outputs": [],
   "source": [
    "new_temperature_plot(year=2022, month=11, day=15, offset=3, save=True)"
   ]
  },
  {
   "cell_type": "code",
   "execution_count": null,
   "id": "6e7c07ca-3852-4bc4-9f4a-a6b98a7cc865",
   "metadata": {},
   "outputs": [],
   "source": [
    "new_temperature_plot(year=2022, month=11, day=15, offset=5, save=True)"
   ]
  },
  {
   "cell_type": "code",
   "execution_count": null,
   "id": "b91fc695-4627-4a44-a369-5bc855373664",
   "metadata": {},
   "outputs": [],
   "source": [
    "new_temperature_plot(year=2022, month=12, day=15, offset=3, save=True)"
   ]
  },
  {
   "cell_type": "code",
   "execution_count": null,
   "id": "5d8242fa-2662-4a35-ac1a-7f3c3cb09d2f",
   "metadata": {},
   "outputs": [],
   "source": [
    "new_temperature_plot(year=2022, month=12, day=15, offset=5, save=True)"
   ]
  }
 ],
 "metadata": {
  "kernelspec": {
   "display_name": "DESI main",
   "language": "python",
   "name": "desi-main"
  },
  "language_info": {
   "codemirror_mode": {
    "name": "ipython",
    "version": 3
   },
   "file_extension": ".py",
   "mimetype": "text/x-python",
   "name": "python",
   "nbconvert_exporter": "python",
   "pygments_lexer": "ipython3",
   "version": "3.9.7"
  },
  "toc-autonumbering": true,
  "toc-showmarkdowntxt": true
 },
 "nbformat": 4,
 "nbformat_minor": 5
}
