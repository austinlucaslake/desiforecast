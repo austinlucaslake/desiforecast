{
 "cells": [
  {
   "cell_type": "markdown",
   "id": "f07815fc-4225-4302-9a1c-4359bfdf8979",
   "metadata": {},
   "source": [
    "# Temporal Plots of DESI Telemetry Data\n",
    "\n",
    "As is, the DESI telemetry data is spread out across multiple different tables. As is is shown in the correlations plots in the `correlation` folder, there us very weak correlation across different tables. Before proper analysis can be done, the several datatables of interest must \n",
    "be syncronized in time. This involves rebinning and interpolation of the data is currently being hosted by NERSC."
   ]
  },
  {
   "cell_type": "markdown",
   "id": "cd1ac51f-b133-4c5d-9da9-21ffd6bf3533",
   "metadata": {},
   "source": [
    "## Imports"
   ]
  },
  {
   "cell_type": "code",
   "execution_count": 1,
   "id": "2af9e5b4-0b55-4d87-b799-38f37538cf51",
   "metadata": {},
   "outputs": [
    {
     "name": "stdout",
     "output_type": "stream",
     "text": [
      "No GPU devices available!\n"
     ]
    }
   ],
   "source": [
    "import os\n",
    "import numpy as np\n",
    "import pandas as pd\n",
    "from scipy import stats\n",
    "import pickle\n",
    "import matplotlib.pyplot as plt\n",
    "%matplotlib inline\n",
    "from tqdm.notebook import trange, tqdm\n",
    "from IPython.display import display, Image\n",
    "import pytz\n",
    "try:\n",
    "    import numba as nb\n",
    "    nb.cuda.detect()\n",
    "    import cupy as cp\n",
    "    %pip install -q cudf-cu11 dask-cudf-cu11 --extra-index-url=https://pypi.ngc.nvidia.com\n",
    "    import cudf as cd\n",
    "    gpu_access = True\n",
    "except:\n",
    "    gpu_access = False\n",
    "    print('No GPU devices available!')\n",
    "data_dir = '../../py/desiforecast/data'"
   ]
  },
  {
   "cell_type": "markdown",
   "id": "fdb62e24-6d00-42da-adb3-f2f4f71a6b51",
   "metadata": {},
   "source": [
    "## Load Data"
   ]
  },
  {
   "cell_type": "code",
   "execution_count": 99,
   "id": "20370890-51c8-478c-8222-01ca909cd697",
   "metadata": {},
   "outputs": [],
   "source": [
    "with open(f'{data_dir}/environmentmonitor_tower.pkl', 'rb') as pf:\n",
    "    tower_data = pd.read_pickle(pf)\n",
    "with open(f'{data_dir}/environmentmonitor_dome.pkl', 'rb') as pf:\n",
    "    dome_data = pd.read_pickle(pf)\n",
    "with open(f'{data_dir}/environmentmonitor_telescope.pkl', 'rb') as pf:\n",
    "    telescope_data = pd.read_pickle(pf)\n",
    "with open(f'{data_dir}/etc_seeing.pkl', 'rb') as pf:\n",
    "    seeing_data = pd.read_pickle(pf)\n",
    "with open(f'{data_dir}/etc_telemetry.pkl', 'rb') as pf:\n",
    "    telemetry_data = pd.read_pickle(pf)\n",
    "with open(f'{data_dir}/tcs_info.pkl', 'rb') as pf:\n",
    "    tcs_data = pd.read_pickle(pf)\n",
    "with open(f'{data_dir}/temp_delta.pkl', 'rb') as pf:\n",
    "    temp_delta_data = pd.read_pickle(pf)\n",
    "telemetry_data.sort_index(inplace=True)\n",
    "seeing_data.sort_index(inplace=True)"
   ]
  },
  {
   "cell_type": "code",
   "execution_count": 100,
   "id": "045ebf18-9657-4807-a5ec-d09303bc63db",
   "metadata": {},
   "outputs": [
    {
     "name": "stdout",
     "output_type": "stream",
     "text": [
      "temperature       True\n",
      "pressure          True\n",
      "humidity          True\n",
      "wind_speed        True\n",
      "wind_direction    True\n",
      "dimm              True\n",
      "dewpoint          True\n",
      "dtype: bool\n",
      "dome_left_upper     True\n",
      "dome_left_lower     True\n",
      "dome_right_upper    True\n",
      "dome_right_lower    True\n",
      "dome_back_upper     True\n",
      "dome_back_lower     True\n",
      "dome_floor_ne       True\n",
      "dome_floor_nw       True\n",
      "dome_floor_s        True\n",
      "dtype: bool\n",
      "mirror_avg_temp        True\n",
      "mirror_desired_temp    True\n",
      "mirror_temp            True\n",
      "mirror_cooling         True\n",
      "air_temp               True\n",
      "air_flow               True\n",
      "air_dewpoint           True\n",
      "dtype: bool\n",
      "etc_seeing     True\n",
      "seeing        False\n",
      "dtype: bool\n",
      "seeing          False\n",
      "transparency    False\n",
      "skylevel        False\n",
      "dtype: bool\n",
      "mirror_ready    True\n",
      "airmass         True\n",
      "dtype: bool\n",
      "mins                   True\n",
      "maxs                   True\n",
      "mean                   True\n",
      "median                 True\n",
      "std                   False\n",
      "var                   False\n",
      "start                  True\n",
      "end                    True\n",
      "equalize_time         False\n",
      "ambient_when_equal    False\n",
      "dtype: bool\n"
     ]
    }
   ],
   "source": [
    "print(tower_data.notnull().all())\n",
    "print(dome_data.notnull().all())\n",
    "print(telescope_data.notnull().all())\n",
    "print(seeing_data.notnull().all())\n",
    "print(telemetry_data.notnull().all())\n",
    "print(tcs_data.notnull().all())\n",
    "print(temp_delta_data.notnull().all())"
   ]
  },
  {
   "cell_type": "code",
   "execution_count": 84,
   "id": "a4b33326-6409-4d0e-b2cf-55261a5fe2fb",
   "metadata": {},
   "outputs": [
    {
     "name": "stdout",
     "output_type": "stream",
     "text": [
      "['mins' 'maxs' 'mean' 'median' 'std' 'var' 'start' 'end' 'equalize_time'\n",
      " 'ambient_when_equal']\n"
     ]
    }
   ],
   "source": [
    "print(temp_delta_data.columns.values)"
   ]
  },
  {
   "cell_type": "code",
   "execution_count": 108,
   "id": "a7bed1d3-e0cb-45fe-976b-e5c09c3bc12c",
   "metadata": {},
   "outputs": [
    {
     "name": "stdout",
     "output_type": "stream",
     "text": [
      "(698,)\n",
      "698\n"
     ]
    }
   ],
   "source": [
    "from astropy.stats import scott_bin_width\n",
    "from math import trunc\n",
    "\n",
    "no_outliers = remove_outliers(temp_delta_data['mean'])\n",
    "print(no_outliers.shape)\n",
    "print(len(no_outliers))\n",
    "months = np.linspace(1, 12, 12, dtype=np.int64)\n",
    "\n",
    "def yearly_delta_stats():\n",
    "    years = [2019, 2020, 2021, 2022, 2023]\n",
    "    for i in years:\n",
    "        for j in months:\n",
    "            valid = np.argwhere(np.logical_and(temp_delta_data.index[no_outliers].year == i, temp_delta_data.index[no_outliers].month == j)).flatten()\n",
    "            if len(valid):\n",
    "                directory = f'time_plots/temp_statistics/{i}'\n",
    "                if not os.path.isdir(directory):\n",
    "                    os.makedirs(directory)\n",
    "                fig, ax = plt.subplots(figsize=(20,15))\n",
    "                ax.set_title('Daily Temperature Statistics vs. Date/Time')\n",
    "                ax.set_xlabel('Day')\n",
    "                ax.autoscale(True)\n",
    "                ax.plot(temp_delta_data.index[no_outliers][valid], temp_delta_data['mins'].iloc[no_outliers][valid], label='daily minimum')\n",
    "                ax.plot(temp_delta_data.index[no_outliers][valid], temp_delta_data['maxs'].iloc[no_outliers][valid], label='daily maximum')\n",
    "                ax.plot(temp_delta_data.index[no_outliers][valid], temp_delta_data['mean'].iloc[no_outliers][valid], label='daily mean')\n",
    "                ax.plot(temp_delta_data.index[no_outliers][valid], temp_delta_data['median'].iloc[no_outliers][valid], label='daily median')\n",
    "                ax.plot(temp_delta_data.index[no_outliers][valid], temp_delta_data['std'].iloc[no_outliers][valid], label='daily std')\n",
    "                ax.plot(temp_delta_data.index[no_outliers][valid], temp_delta_data['var'].iloc[no_outliers][valid], label='daily var')\n",
    "                ax.plot(temp_delta_data.index[no_outliers][valid], temp_delta_data['start'].iloc[no_outliers][valid], label='daily start temp')\n",
    "                ax.plot(temp_delta_data.index[no_outliers][valid], temp_delta_data['end'].iloc[no_outliers][valid], label='daily end temp')\n",
    "                ax.plot(temp_delta_data.index[no_outliers][valid], temp_delta_data['ambient_when_equal'].iloc[no_outliers][valid], label='daily ambient when temp equalized')\n",
    "                ax_handles, _ = ax.get_legend_handles_labels()\n",
    "                twin = ax.twinx()\n",
    "                twin.set_ylabel('Time When Temps Equalize')\n",
    "                twin.autoscale(True)\n",
    "                twin.plot(temp_delta_data.index[no_outliers][valid], temp_delta_data['equalize_time'].iloc[no_outliers][valid], c='maroon', label='time to equalize')\n",
    "                twin_handles, _ = twin.get_legend_handles_labels()\n",
    "                ax.legend(handles=ax_handles+twin_handles)\n",
    "                plt.rcParams['figure.facecolor'] = 'white'\n",
    "                fig.savefig(f'{directory}/{i}-{j}.png')\n",
    "                plt.close(fig)\n",
    "\n",
    "yearly_delta_stats()"
   ]
  },
  {
   "cell_type": "markdown",
   "id": "cbfa45a4-b052-4999-88f1-b017ef58aa67",
   "metadata": {},
   "source": [
    "### print(temp_delta_data['equalize_time'])"
   ]
  },
  {
   "cell_type": "markdown",
   "id": "65f9f4f1-71c7-49ee-b483-a4ffc2052f0f",
   "metadata": {},
   "source": [
    "## 02/09/23 Tasks\n",
    "    - Plot for every month\n",
    "        - Get delta temp when mirror cooling is off\n",
    "            - 1d distribution for each month\n",
    "            - 3d plot of all months\n",
    "        - Get time it reach desired temp during mirror cooling\n",
    "            - as a function of ambient temperature at start\n",
    "            - as a function of air temperature variance\n",
    "            - percent of time outside of ideal window\n",
    "        - Ambient air during mirror cooling    \n",
    "    - how often operators follow forecasts of the night\n",
    "    - how accurate are the forecasts and to what degree\n",
    "    - March 8, desi movie in Oakland hills"
   ]
  },
  {
   "cell_type": "markdown",
   "id": "5102d568-1384-433c-a3d8-dad22200f9b8",
   "metadata": {},
   "source": [
    "## Single Day Temperature Plots (Night vs Day)"
   ]
  },
  {
   "cell_type": "code",
   "execution_count": 6,
   "id": "3c9efc3c-def8-4e95-ba90-9d81bf58e1fa",
   "metadata": {},
   "outputs": [],
   "source": [
    "@nb.jit(nopython=False)\n",
    "def new_temperature_plot(year=2022, month=9, day=24, offset=1, save=False):\n",
    "    start_date = pd.Timestamp(year=year,month=month,day=day,hour=17, minute=0, second=0, microsecond=0, tz=\"America/Phoenix\")-pd.DateOffset(day=1)\n",
    "    end_date = start_date+pd.DateOffset(day=offset)\n",
    "    if gpu_access:\n",
    "        start_date = start_date.to_numpy()\n",
    "        end_date = end_date.to_numpy()\n",
    "\n",
    "    print(f'Start date: {start_date}')\n",
    "    print(f'Offset length (# of days): {offset}')\n",
    "    \n",
    "    fig, ax = plt.subplots(ncols=2, figsize=(20,10))\n",
    "    ax0_plots = []\n",
    "    ax1_plots = []\n",
    "    ax[0].autoscale(True)\n",
    "    ax[0].set_title('Mirror Temperature & Seeing vs. Date/Time')\n",
    "    ax[0].set_ylabel('Mirror Temperature (Celcius)')\n",
    "    ax[0].set_xlabel('Date/Time')\n",
    "    ax[1].autoscale(True)\n",
    "    ax[1].set_title('Dome & Tower Temperature vs. Date/Time')\n",
    "    ax[1].set_ylabel('Dome Temperature (Celcius)')\n",
    "    ax[1].set_xlabel('Date/Time')\n",
    "\n",
    "    if gpu_access:\n",
    "        telescope_indicies = cp.argwhere(cp.logical_and(telescope_data.index >= start_date, telescope_data.index <= end_date)).flatten()\n",
    "    else:\n",
    "        telescope_indicies = np.argwhere(np.logical_and(telescope_data.index >= start_date, telescope_data.index <= end_date)).flatten()\n",
    "    temp_delta = remove_outliers(telescope_data.iloc[telescope_indicies]['air_temp']-telescope_data.iloc[telescope_indicies]['mirror_temp'])\n",
    "    print(f'Number of valid telescope environment samples in current time window: {len(telescope_indicies)}')\n",
    "    if len(telescope_indicies):\n",
    "        ax0_plots.append(ax[0].plot(telescope_data.index[telescope_indicies], telescope_data.iloc[telescope_indicies]['mirror_avg_temp'], label='average mirror temp')[0])\n",
    "        ax0_plots.append(ax[0].plot(telescope_data.index[telescope_indicies], telescope_data.iloc[telescope_indicies]['mirror_temp'], label='mirror temp')[0])\n",
    "        ax0_plots.append(ax[0].plot(telescope_data.index[telescope_indicies], telescope_data.iloc[telescope_indicies]['mirror_desired_temp'], label='desired mirror temp')[0])\n",
    "        ax0_plots.append(ax[0].plot(telescope_data.index[telescope_indicies], telescope_data.iloc[telescope_indicies]['air_temp'], label='air temp')[0])\n",
    "        ax0_plots.append(ax[0].plot(telescope_data.index[telescope_indicies], telescope_data.iloc[telescope_indicies]['mirror_cooling'], label='mirror cooling')[0])\n",
    "        ax0_plots.append(ax[0].plot(temp_delta.index, temp_delta, label='temp delta')[0])\n",
    "        ax[0].axhline(y=1.5, color='maroon', linestyle='--')\n",
    "        ax[0].axhline(y=-1.5, color='maroon', linestyle='--')\n",
    "        ax[0].annotate(u\"1.5 \\u2103\", xy=(end_date, 1.75), annotation_clip=False, ha='right')\n",
    "        ax[0].annotate(u\"-1.5 \\u2103\", xy=(end_date, -1.25), annotation_clip=False, ha='right')\n",
    "\n",
    "    if gpu_access:\n",
    "        telemetry_indicies = cp.argwhere(cp.logical_and(telemetry_data.index >= start_date, telemetry_data.index <= end_date)).flatten()\n",
    "    else:\n",
    "        telemetry_indicies = np.argwhere(np.logical_and(telemetry_data.index >= start_date, telemetry_data.index <= end_date)).flatten()\n",
    "    print(f'Number of valid etc telemetry samples in current time window: {len(telemetry_indicies)}')\n",
    "    if len(telemetry_indicies):\n",
    "        twin0 = ax[0].twinx()\n",
    "        ax0_plots.append(twin0.plot(telemetry_data.index[telemetry_indicies], telemetry_data.iloc[telemetry_indicies]['seeing'], color=\"indigo\", label='seeing')[0])\n",
    "        twin0.autoscale(True)\n",
    "        twin0.set_ylabel('Seeing')\n",
    "\n",
    "    if gpu_access:\n",
    "        dome_indicies = cp.argwhere(cp.logical_and(dome_data.index >= start_date, dome_data.index <= end_date)).flatten()\n",
    "    else:\n",
    "        dome_indicies = np.argwhere(np.logical_and(dome_data.index >= start_date, dome_data.index <= end_date)).flatten()\n",
    "    print(f'Number of valid dome environment samples in current time window: {len(dome_indicies)}')\n",
    "    if len(dome_indicies):\n",
    "        ax1_plots.append(ax[1].plot(dome_data.index[dome_indicies], dome_data.iloc[dome_indicies]['dome_floor_ne'], label='dome floor temp (NE)')[0])\n",
    "        ax1_plots.append(ax[1].plot(dome_data.index[dome_indicies], dome_data.iloc[dome_indicies]['dome_floor_nw'], label='dome floor temp (NW)')[0])\n",
    "        ax1_plots.append(ax[1].plot(dome_data.index[dome_indicies], dome_data.iloc[dome_indicies]['dome_floor_s'], label='dome floor temp (S)')[0])\n",
    "\n",
    "    if gpu_access:\n",
    "        tower_indicies = cp.argwhere(cp.logical_and(tower_data.index >= start_date, tower_data.index <= end_date)).flatten()\n",
    "    else:\n",
    "        tower_indicies = np.argwhere(np.logical_and(tower_data.index >= start_date, tower_data.index <= end_date)).flatten()\n",
    "    print(f'Number of valid tower environment samples in current time window: {len(tower_indicies)}')\n",
    "    if len(tower_indicies):\n",
    "        twin1 = ax[1].twinx()\n",
    "        ax1_plots.append(twin1.plot(tower_data.index[tower_indicies], tower_data.iloc[tower_indicies]['temperature'], color=\"indigo\", label='tower temp')[0])\n",
    "        twin1.autoscale(True)\n",
    "        twin1.set_ylabel('Tower Temperature (Celcius)')\n",
    "    \n",
    "    if ax1_plots:\n",
    "        ax[1].legend(handles=ax1_plots)\n",
    "    else:\n",
    "        ax[1].remove()\n",
    "\n",
    "    if ax0_plots:\n",
    "        ax[0].legend(handles=ax0_plots)\n",
    "        if save:\n",
    "            plt.savefig(f'time_plots/with_temp_delta/{year}-{month}-{day}_{offset}-day-offset.png', format='png')\n",
    "        plt.show()\n",
    "    else:\n",
    "        print(\"Insufficient data in this time window!\")"
   ]
  },
  {
   "cell_type": "code",
   "execution_count": 41,
   "id": "9a1a3c5f-b6c3-4fcc-89f7-2985e6bf895b",
   "metadata": {},
   "outputs": [],
   "source": [
    "# removes results outside of 5 std\n",
    "@nb.jit(forceobj=True, parallel=True)\n",
    "def remove_outliers(data):\n",
    "    return np.argwhere(np.abs(stats.zscore(data.to_numpy())) < 5).flatten()"
   ]
  },
  {
   "cell_type": "code",
   "execution_count": 97,
   "id": "d388f41f-6d12-4779-9cf5-8285be4bd557",
   "metadata": {},
   "outputs": [],
   "source": [
    "@nb.jit(forceobj=True)\n",
    "def get_time_ranges(cooling_on):\n",
    "    changes = telescope_data['mirror_cooling'][1:].to_numpy()-telescope_data['mirror_cooling'][:len(telescope_data)-1].to_numpy()\n",
    "    ranges = []\n",
    "    start=0\n",
    "    for i in range(len(changes)):\n",
    "        if cooling_on:\n",
    "            if changes[i] == 1:\n",
    "                start = i\n",
    "            elif changes[i] == -1:\n",
    "                end = i\n",
    "                ranges.append(np.linspace(start+1, end, end-start, dtype=np.int64))\n",
    "        else:\n",
    "            if changes[i] == -1:\n",
    "                start = i\n",
    "            elif changes[i] == 1:\n",
    "                end = i\n",
    "                ranges.append(np.linspace(start+1, end, end-start, dtype=np.int64))\n",
    "    return ranges\n",
    "\n",
    "def mirror_cooling_plots(cooling_on):\n",
    "    time_ranges = get_time_ranges(cooling_on=cooling_on)\n",
    "    mirror_ambient_delta = telescope_data['air_temp']-telescope_data['mirror_temp']\n",
    "    mirror_desired_delta = telescope_data['mirror_desired_temp']-telescope_data['mirror_temp']\n",
    "    folder = 'mirror_cooling_on' if cooling_on else 'mirror_cooling_off'\n",
    "    df = pd.DataFrame()\n",
    "    mins = []\n",
    "    maxs = []\n",
    "    mean = []\n",
    "    median = []\n",
    "    std = []\n",
    "    var = []\n",
    "    start = []\n",
    "    end = []\n",
    "    start_time = []\n",
    "    equalize_time = []\n",
    "    ambient_when_equal = []\n",
    "    for i in trange(len(time_ranges), desc=folder):\n",
    "        if cooling_on:\n",
    "            mins.append(mirror_ambient_delta.iloc[time_ranges[i]].min())\n",
    "            maxs.append(mirror_ambient_delta.iloc[time_ranges[i]].max())\n",
    "            mean.append(mirror_ambient_delta.iloc[time_ranges[i]].mean())\n",
    "            median.append(mirror_ambient_delta.iloc[time_ranges[i]].median())\n",
    "            std.append(mirror_ambient_delta.iloc[time_ranges[i]].std())\n",
    "            var.append(mirror_ambient_delta.iloc[time_ranges[i]].var())\n",
    "            start.append(mirror_ambient_delta.iloc[time_ranges[i][0]])\n",
    "            end.append(mirror_ambient_delta.iloc[time_ranges[i][-1]])\n",
    "            start_time.append(mirror_ambient_delta.index[time_ranges[i]][0])\n",
    "            equalize = np.argwhere(mirror_ambient_delta.iloc[time_ranges[i]].to_numpy()<1e-2).flatten()\n",
    "            if len(equalize):\n",
    "                time = (mirror_ambient_delta.index[time_ranges[i]][equalize[-1]]-mirror_ambient_delta.index[time_ranges[i]][-1]).seconds/3600\n",
    "                print(time)\n",
    "                equalize_time.append(time)\n",
    "                ambient_when_equal.append(telescope_data.iloc[time_ranges[i]]['air_temp'][equalize[-1]])\n",
    "            else:\n",
    "                equalize_time.append(None)\n",
    "                ambient_when_equal.append(None)\n",
    "                \n",
    "#         fig, ax = plt.subplots(ncols=2, figsize=(20,10))\n",
    "#         ax0_plots = []\n",
    "#         ax1_plots = []\n",
    "#         ax[0].autoscale(True)\n",
    "#         ax[0].set_title('Mirror Temperature vs. Date/Time')\n",
    "#         ax[0].set_ylabel('Mirror Temperature (Celcius)')\n",
    "#         ax[0].set_xlabel('Date/Time')\n",
    "#         ax[1].autoscale(True)\n",
    "#         ax[1].set_title('Dome & Tower Temperature vs. Date/Time')\n",
    "#         ax[1].set_ylabel('Dome Temperature (Celcius)')\n",
    "#         ax[1].set_xlabel('Date/Time')\n",
    "    \n",
    "#         fig.autofmt_xdate()        \n",
    "\n",
    "#         ax0_plots.append(ax[0].plot(telescope_data.index[time_ranges[i]], telescope_data.iloc[time_ranges[i]]['mirror_avg_temp'], label='average mirror temp')[0])\n",
    "#         ax0_plots.append(ax[0].plot(telescope_data.index[time_ranges[i]], telescope_data.iloc[time_ranges[i]]['mirror_temp'], label='mirror temp')[0])\n",
    "#         ax0_plots.append(ax[0].plot(telescope_data.index[time_ranges[i]], telescope_data.iloc[time_ranges[i]]['mirror_desired_temp'], label='desired mirror temp')[0])\n",
    "#         ax0_plots.append(ax[0].plot(telescope_data.index[time_ranges[i]], telescope_data.iloc[time_ranges[i]]['air_temp'], label='air temp')[0])\n",
    "#         ax0_plots.append(ax[0].plot(telescope_data.index[time_ranges[i]], telescope_data.iloc[time_ranges[i]]['mirror_cooling'], label='mirror cooling')[0])\n",
    "#         ax0_plots.append(ax[0].plot(mirror_ambient_delta.index[time_ranges[i]], mirror_ambient_delta.iloc[time_ranges[i]], label='ambient & mirror temp delta')[0])\n",
    "#         ax0_plots.append(ax[0].plot(mirror_desired_delta.index[time_ranges[i]], mirror_desired_delta.iloc[time_ranges[i]], label='desired & mirror temp delta')[0])\n",
    "#         ax[0].axhline(y=1.5, color='maroon', linestyle='--')\n",
    "#         ax[0].axhline(y=-1.5, color='maroon', linestyle='--')\n",
    "#         ax[0].annotate(u\"1.5 \\u2103\", xy=(telescope_data.index[time_ranges[i]][-1], 1.75), annotation_clip=False, ha='right')\n",
    "#         ax[0].annotate(u\"-1.5 \\u2103\", xy=(telescope_data.index[time_ranges[i]][-1], -1.25), annotation_clip=False, ha='right')\n",
    "\n",
    "#         if not cooling_on:\n",
    "#             telemetry_indicies = np.argwhere(np.logical_and(telemetry_data.index >= telescope_data.index[time_ranges[i]][0], telemetry_data.index <= telescope_data.index[time_ranges[i]][-1])).flatten()\n",
    "#             if len(telemetry_data.iloc[telemetry_indicies]['seeing']):\n",
    "#                 twin0 = ax[0].twinx()\n",
    "#                 ax[0].set_title('Mirror Temperature & Seeing vs. Date/Time')\n",
    "#                 twin0.set_ylabel('Seeing')\n",
    "#                 twin0.autoscale(True)\n",
    "#                 ax0_plots.append(twin0.plot(telemetry_data.index[telemetry_indicies], telemetry_data.iloc[telemetry_indicies]['seeing'], color=\"indigo\", label='seeing')[0])\n",
    "\n",
    "#         ax1_plots.append(ax[1].plot(dome_data.index[time_ranges[i]], dome_data.iloc[time_ranges[i]]['dome_floor_ne'], label='dome floor temp (NE)')[0])\n",
    "#         ax1_plots.append(ax[1].plot(dome_data.index[time_ranges[i]], dome_data.iloc[time_ranges[i]]['dome_floor_nw'], label='dome floor temp (NW)')[0])\n",
    "#         ax1_plots.append(ax[1].plot(dome_data.index[time_ranges[i]], dome_data.iloc[time_ranges[i]]['dome_floor_s'], label='dome floor temp (S)')[0])\n",
    "\n",
    "#         twin1 = ax[1].twinx()\n",
    "#         ax1_plots.append(twin1.plot(tower_data.index[time_ranges[i]], tower_data.iloc[time_ranges[i]]['temperature'], color=\"indigo\", label='tower temp')[0])\n",
    "#         twin1.autoscale(True)\n",
    "#         twin1.set_ylabel('Tower Temperature (Celcius)')\n",
    "\n",
    "#         ax[0].legend(handles=ax0_plots)\n",
    "#         ax[1].legend(handles=ax1_plots)\n",
    "\n",
    "#         year = telescope_data.index[time_ranges[i]][0].year\n",
    "#         month = telescope_data.index[time_ranges[i]][0].month\n",
    "#         day = telescope_data.index[time_ranges[i]][0].day\n",
    "#         plt.rcParams['figure.facecolor'] = 'white'\n",
    "#         fig.savefig(f'time_plots/{folder}/{year}-{month}-{day}.png', format='png')\n",
    "#         plt.close(fig)\n",
    "        \n",
    "    df['mins'] = mins\n",
    "    df['maxs'] = maxs\n",
    "    df['mean'] = mean\n",
    "    df['median'] = median\n",
    "    df['std'] = std\n",
    "    df['var'] = var\n",
    "    df['start'] = start\n",
    "    df['end'] = end\n",
    "    df['start_time'] = start_time\n",
    "    df['equalize_time'] = equalize_time\n",
    "    df['ambient_when_equal'] = ambient_when_equal\n",
    "    df.set_index('start_time', inplace=True)\n",
    "    with open(f'{data_dir}/temp_delta.pkl', 'wb') as pf:\n",
    "        pickle.dump(df, pf)"
   ]
  },
  {
   "cell_type": "code",
   "execution_count": null,
   "id": "2404e149-de96-43f8-88e5-771ace8d33d4",
   "metadata": {},
   "outputs": [],
   "source": [
    "mirror_cooling_plots(cooling_on=True)\n",
    "# mirror_cooling_plots(cooling_on=False)"
   ]
  },
  {
   "cell_type": "code",
   "execution_count": null,
   "id": "4a4d57a9-5863-4891-b50c-c607305dc2cf",
   "metadata": {},
   "outputs": [],
   "source": [
    "print(np.max(telescope_data['mirror_temp']))"
   ]
  },
  {
   "cell_type": "code",
   "execution_count": 30,
   "id": "9aeab028-fa8e-4490-8f01-8aef156f06bc",
   "metadata": {},
   "outputs": [
    {
     "name": "stdout",
     "output_type": "stream",
     "text": [
      "20469907\n",
      "20469908\n"
     ]
    }
   ],
   "source": [
    "ambient_mirror_delta = remove_outliers(telescope_data['air_temp']-telescope_data['mirror_temp'])\n",
    "ambient_temp = remove_outliers(telescope_data['air_temp'])\n",
    "print(len(ambient_mirror_delta))\n",
    "print(len(ambient_temp))\n"
   ]
  },
  {
   "cell_type": "markdown",
   "id": "86a45a75-572e-4b24-8c29-1f4fca744bd4",
   "metadata": {},
   "source": [
    "## Monthly Temperature Delta Distributions"
   ]
  },
  {
   "cell_type": "code",
   "execution_count": null,
   "id": "8c5c133c-a0ae-43c9-9de4-0e9c98f36a1b",
   "metadata": {},
   "outputs": [],
   "source": [
    "from copy import deepcopy\n",
    "ambient_mirror_delta = remove_outliers(telescope_data['air_temp']-telescope_data['mirror_temp'])\n",
    "ambient_temp = remove_outliers(telescope_data['air_temp'])\n",
    "years = [2019, 2020, 2021, 2022, 2023]\n",
    "months = np.linspace(1, 12, 12, dtype=np.int64)\n",
    "ambient_distributions = {}\n",
    "for i in years:\n",
    "    year = {}\n",
    "    for j in months:\n",
    "        year[j] = []\n",
    "    ambient_distributions[i] = year\n",
    "delta_distributions = deepcopy(ambient_distributions)\n",
    "for i in trange(len(ambient_mirror_delta), desc='binning temperature delta by year and month'):\n",
    "    ambient_distributions[ambient_temp.index[i].year][ambient_temp.index[i].month].append(ambient_temp.iloc[i])\n",
    "    delta_distributions[ambient_mirror_delta.index[i].year][ambient_mirror_delta.index[i].month].append(ambient_mirror_delta.iloc[i])\n",
    "with open(f'{data_dir}/ambient_distributions.pkl', 'wb') as pf:\n",
    "    pickle.dump(ambient_distributions, pf)\n",
    "with open(f'{data_dir}/delta_distributions.pkl', 'wb') as pf:\n",
    "    pickle.dump(delta_distributions, pf)"
   ]
  },
  {
   "cell_type": "code",
   "execution_count": 36,
   "id": "4d70b07d-5eb7-4e05-978b-ca759e8794e2",
   "metadata": {},
   "outputs": [],
   "source": [
    "from scipy.stats import skewnorm\n",
    "from astropy.stats import scott_bin_width\n",
    "from math import trunc\n",
    "with open(f'{data_dir}/ambient_distributions.pkl', 'rb') as pf:\n",
    "    ambient_distributions = pickle.load(pf)\n",
    "with open(f'{data_dir}/delta_distributions.pkl', 'rb') as pf:\n",
    "    delta_distributions = pickle.load(pf)\n",
    "def monthly_delta_distribution():\n",
    "    for i in years:\n",
    "        directory = f'time_plots/temp_distributions/{i}'\n",
    "        if not os.path.isdir(directory):\n",
    "            os.makedirs(directory)\n",
    "        for j in tqdm(months, desc=f'{i}'):\n",
    "            if len(delta_distributions[i][j]):\n",
    "                fig, ax = plt.subplots(ncols=2, figsize=(15,5))\n",
    "                \n",
    "                bins = trunc(np.ptp(delta_distributions[i][j])/scott_bin_width(delta_distributions[i][j]))\n",
    "                ax[0].hist(delta_distributions[i][j], bins=bins, density=True, label='histogram')\n",
    "                xs = np.linspace(np.min(delta_distributions[i][j]), np.max(delta_distributions[i][j]), 10000)\n",
    "                ys = skewnorm.pdf(xs, *skewnorm.fit(delta_distributions[i][j]))\n",
    "                ax[0].scatter(xs, ys, 5, color='r', marker='.', label='skewed guassian fit')\n",
    "                ax[0].set_title(f'Distribution of Ambient-Mirror Temperatuere Delta ({i}-{j})')\n",
    "                ax[0].set_ylabel('Density (%)')\n",
    "                ax[0].set_xlabel('Temperature Delta')\n",
    "                ax[0].legend()\n",
    "                ax[0].autoscale(True)                \n",
    "\n",
    "                bins = trunc(np.ptp(ambient_distributions[i][j])/scott_bin_width(ambient_distributions[i][j]))\n",
    "                ax[1].hist(ambient_distributions[i][j], bins=bins, density=True, label='histogram')\n",
    "                xs = np.linspace(np.min(ambient_distributions[i][j]), np.max(ambient_distributions[i][j]), 10000)\n",
    "                ys = skewnorm.pdf(xs, *skewnorm.fit(ambient_distributions[i][j]))\n",
    "                ax[1].scatter(xs, ys, 5, color='r', marker='.', label='skewed guassian fit')\n",
    "                ax[1].set_title(f'Distribution of Ambient Temperature ({i}-{j})')\n",
    "                ax[1].set_ylabel('Density (%)')\n",
    "                ax[1].set_xlabel('Ambient Temperature')\n",
    "                ax[1].legend()\n",
    "                ax[1].autoscale(True)                \n",
    "                \n",
    "                fig.savefig(f'{directory}/{i}-{j}.png', format='png') \n",
    "                plt.close(fig)"
   ]
  },
  {
   "cell_type": "code",
   "execution_count": 37,
   "id": "eb6d5b0a-8a49-4f82-b985-d0f1c8f040a4",
   "metadata": {},
   "outputs": [
    {
     "data": {
      "application/vnd.jupyter.widget-view+json": {
       "model_id": "22566d13e6d34c1b9e64b54993303f98",
       "version_major": 2,
       "version_minor": 0
      },
      "text/plain": [
       "2019:   0%|          | 0/12 [00:00<?, ?it/s]"
      ]
     },
     "metadata": {},
     "output_type": "display_data"
    },
    {
     "data": {
      "application/vnd.jupyter.widget-view+json": {
       "model_id": "77952b62a80f4b929be69c45d0eb94fa",
       "version_major": 2,
       "version_minor": 0
      },
      "text/plain": [
       "2020:   0%|          | 0/12 [00:00<?, ?it/s]"
      ]
     },
     "metadata": {},
     "output_type": "display_data"
    },
    {
     "data": {
      "application/vnd.jupyter.widget-view+json": {
       "model_id": "fadd992aeb7a4249874be83eb7350616",
       "version_major": 2,
       "version_minor": 0
      },
      "text/plain": [
       "2021:   0%|          | 0/12 [00:00<?, ?it/s]"
      ]
     },
     "metadata": {},
     "output_type": "display_data"
    },
    {
     "data": {
      "application/vnd.jupyter.widget-view+json": {
       "model_id": "084e7e0016bd48a08c61f0a5d03ce8f0",
       "version_major": 2,
       "version_minor": 0
      },
      "text/plain": [
       "2022:   0%|          | 0/12 [00:00<?, ?it/s]"
      ]
     },
     "metadata": {},
     "output_type": "display_data"
    },
    {
     "data": {
      "application/vnd.jupyter.widget-view+json": {
       "model_id": "6f0ad3d4d89944a593f4ae08621417ed",
       "version_major": 2,
       "version_minor": 0
      },
      "text/plain": [
       "2023:   0%|          | 0/12 [00:00<?, ?it/s]"
      ]
     },
     "metadata": {},
     "output_type": "display_data"
    }
   ],
   "source": [
    "monthly_delta_distribution()"
   ]
  },
  {
   "cell_type": "code",
   "execution_count": 34,
   "id": "54b50771-5403-4e4a-b644-7753e9a73c87",
   "metadata": {},
   "outputs": [],
   "source": []
  },
  {
   "cell_type": "code",
   "execution_count": 13,
   "id": "e239b4e0-032b-4f36-b3e9-4d608580241a",
   "metadata": {},
   "outputs": [
    {
     "name": "stdout",
     "output_type": "stream",
     "text": [
      "29.463\n"
     ]
    }
   ],
   "source": [
    "print(np.ptp(telescope_data['mirror_temp']))"
   ]
  },
  {
   "cell_type": "code",
   "execution_count": null,
   "id": "4a20c658-3b45-46f4-952a-bd72640cce7c",
   "metadata": {},
   "outputs": [],
   "source": [
    "with open(f'{data_dir}/temp_delta.pkl', 'rb') as pf:\n",
    "    temp_delta_data = pd.read_pickle(pf)"
   ]
  },
  {
   "cell_type": "code",
   "execution_count": null,
   "id": "ddc0c810-a76d-49fa-b1ba-7ff21d37b2ca",
   "metadata": {},
   "outputs": [],
   "source": [
    "print(temp_delta_data['equalize_time'])"
   ]
  },
  {
   "cell_type": "code",
   "execution_count": null,
   "id": "a2df1c9f-4a04-42a4-9b0e-b9aea30826ea",
   "metadata": {},
   "outputs": [],
   "source": [
    "time_ranges1 = get_time_ranges(find_mirror_on=True)\n",
    "time_ranges2 = get_time_ranges(find_mirror_on=False)\n",
    "assert(time_ranges1!=time_ranges2)"
   ]
  },
  {
   "cell_type": "code",
   "execution_count": null,
   "id": "1a4cb2ca-55f8-4699-9e63-99c12f89eb39",
   "metadata": {},
   "outputs": [],
   "source": [
    "with open(f'{data_dir}/environmentmonitor_tower.pkl', 'wb') as pf:\n",
    "    pickle.dump(tower_data, pf)\n",
    "with open(f'{data_dir}/environmentmonitor_dome.pkl', 'wb') as pf:\n",
    "    pickle.dump(dome_data, pf)\n",
    "with open(f'{data_dir}/environmentmonitor_telescope.pkl', 'wb') as pf:\n",
    "    pickle.dump(telescope_data, pf)\n",
    "with open(f'{data_dir}/etc_seeing.pkl', 'wb') as pf:\n",
    "    pickle.dump(seeing_data, pf)\n",
    "with open(f'{data_dir}/etc_seeing.pkl', 'wb') as pf:\n",
    "    pickle.dump(telemetry_data, pf)\n",
    "with open(f'{data_dir}/etc_seeing.pkl', 'wb') as pf:\n",
    "    pickle.dump(tcs_data, pf)"
   ]
  },
  {
   "cell_type": "code",
   "execution_count": null,
   "id": "23733193-24b2-42d5-8adf-6978dcb9c4c1",
   "metadata": {},
   "outputs": [],
   "source": [
    "temp_delta = (telescope_data['air_temp']-telescope_data['mirror_temp']).dropna()\n",
    "print(f'mininum: {temp_delta.min()}')\n",
    "print(f'maximum: {temp_delta.max()}')\n",
    "print(f'variance: {temp_delta.var()}')\n",
    "print(f'standard deviation: {temp_delta.std()}')\n",
    "\n",
    "fig, ax = plt.subplots(figsize=(15, 5))\n",
    "ax.plot(temp_delta.index, temp_delta, label='temperature delta')\n",
    "ax.set_title('Temperature Delta (Celcius) vs. Date & Time')\n",
    "ax.set_ylabel('Temperature Delta (Celcius)')\n",
    "ax.set_xlabel('Date & Time')\n",
    "fig.autofmt_xdate()\n",
    "plt.legend()\n",
    "plt.rcParams['figure.facecolor'] = 'white'\n",
    "plt.savefig('temp_delta.png', format='png')\n",
    "plt.show()"
   ]
  },
  {
   "cell_type": "code",
   "execution_count": null,
   "id": "aa0c619b-51d8-4eff-8396-f309a9fae561",
   "metadata": {},
   "outputs": [],
   "source": [
    "temp_delta = remove_outliers(telescope_data['air_temp']-telescope_data['mirror_temp'])\n",
    "print(f'mininum: {temp_delta.min()}')\n",
    "print(f'maximum: {temp_delta.max()}')\n",
    "print(f'variance: {temp_delta.var()}')\n",
    "print(f'standard deviation: {temp_delta.std()}')\n",
    "\n",
    "fig, ax = plt.subplots(figsize=(15, 5))\n",
    "ax.plot(temp_delta.index, temp_delta, label='temperature delta')\n",
    "ax.set_title('Temperature Delta (Celcius) vs. Date & Time')\n",
    "ax.set_ylabel('Temperature Delta (Celcius)')\n",
    "ax.set_xlabel('Date & Time')\n",
    "fig.autofmt_xdate()\n",
    "plt.legend()\n",
    "plt.rcParams['figure.facecolor'] = 'white'\n",
    "plt.savefig('temp_delta_no_outliers.png', format='png')\n",
    "plt.show()"
   ]
  },
  {
   "cell_type": "code",
   "execution_count": null,
   "id": "1f59b426-91f9-4220-b9b1-cca59800f636",
   "metadata": {},
   "outputs": [],
   "source": [
    "time_diff = np.zeros((len(telemetry_indicies)))\n",
    "for i in range(len(telemetry_indicies)-1):\n",
    "    time_diff[i] = (telemetry_data.index[telemetry_indicies[i+1]]-telemetry_data.index[telemetry_indicies[i]]).total_seconds()\n",
    "plt.scatter(telemetry_data.index[telemetry_indicies], time_diff)\n",
    "plt.show()\n",
    "rsm = np.sqrt(np.sum(np.square(time_diff))/len(time_diff))\n",
    "print(time_diff)\n",
    "print(len(time_diff))\n",
    "print(rsm)\n",
    "print(np.median(time_diff))\n",
    "print(np.mean(time_diff))\n",
    "print(np.min(time_diff))\n",
    "print(np.max(time_diff))\n"
   ]
  },
  {
   "cell_type": "markdown",
   "id": "b2fe9a86-e0c1-4aa6-bdc8-c3bba4a7267d",
   "metadata": {},
   "source": [
    "## Data Visualization Before Syncrization"
   ]
  },
  {
   "cell_type": "code",
   "execution_count": null,
   "id": "2c25be75-c065-4d62-91b3-79104106687a",
   "metadata": {},
   "outputs": [],
   "source": []
  },
  {
   "cell_type": "code",
   "execution_count": null,
   "id": "cd7a21b5-45a0-4187-8448-8cdd00f7d7a3",
   "metadata": {},
   "outputs": [],
   "source": [
    "new_temperature_plot()"
   ]
  },
  {
   "cell_type": "code",
   "execution_count": null,
   "id": "22f3f0d4-ef86-4ead-ae1b-9f53eb51bb68",
   "metadata": {},
   "outputs": [],
   "source": []
  },
  {
   "cell_type": "code",
   "execution_count": null,
   "id": "91c85acf-ff6c-4875-9df5-f488aaf91a46",
   "metadata": {},
   "outputs": [],
   "source": [
    "new_temperature_plot(year=2022, month=6, day=10, offset=1, save=True)"
   ]
  },
  {
   "cell_type": "code",
   "execution_count": null,
   "id": "a4f4ebfd-ec6a-4d0b-8732-7365a26cd0d3",
   "metadata": {},
   "outputs": [],
   "source": [
    "new_temperature_plot(year=2022, month=6, day=10, offset=3, save=True)"
   ]
  },
  {
   "cell_type": "code",
   "execution_count": null,
   "id": "c15633ac-c3a3-4de7-a88b-baa3bdf4de60",
   "metadata": {},
   "outputs": [],
   "source": [
    "new_temperature_plot(year=2022, month=6, day=10, offset=3, save=True)"
   ]
  },
  {
   "cell_type": "code",
   "execution_count": null,
   "id": "1d6e14c1-64c1-41d0-a50b-e7d98d1a5c98",
   "metadata": {},
   "outputs": [],
   "source": [
    "new_temperature_plot(year=2022, month=1, day=1, offset=7, save=True)"
   ]
  },
  {
   "cell_type": "code",
   "execution_count": null,
   "id": "55e78558-2448-427f-ad96-daad6ef38032",
   "metadata": {},
   "outputs": [],
   "source": [
    "new_temperature_plot(year=2021, month=12, day=27, offset=7, save=True)"
   ]
  },
  {
   "cell_type": "code",
   "execution_count": null,
   "id": "d8f39928-094e-4822-a0cf-56d9eacb5a1f",
   "metadata": {},
   "outputs": [],
   "source": [
    "new_temperature_plot(year=2022, month=1, day=21, offset=7, save=True)"
   ]
  },
  {
   "cell_type": "code",
   "execution_count": null,
   "id": "e91d4320-098b-4109-8ddc-96d3bb2b3e1e",
   "metadata": {},
   "outputs": [],
   "source": [
    "new_temperature_plot(year=2021, month=2, day=1, offset=3, save=True)"
   ]
  },
  {
   "cell_type": "code",
   "execution_count": null,
   "id": "037b418d-d2f2-4d97-a511-89b29cb29a1c",
   "metadata": {},
   "outputs": [],
   "source": [
    "new_temperature_plot(year=2021, month=2, day=15, offset=3, save=True)"
   ]
  },
  {
   "cell_type": "code",
   "execution_count": null,
   "id": "d4e38a9f-ae19-4c8f-8edf-08dc17e92ed8",
   "metadata": {},
   "outputs": [],
   "source": [
    "new_temperature_plot(year=2021, month=6, day=15, offset=3, save=True)"
   ]
  },
  {
   "cell_type": "code",
   "execution_count": null,
   "id": "a8653007-1cd8-447f-b9ca-704044bf6a41",
   "metadata": {},
   "outputs": [],
   "source": [
    "new_temperature_plot(year=2021, month=7, day=15, offset=3, save=True)"
   ]
  },
  {
   "cell_type": "code",
   "execution_count": null,
   "id": "ac832d4f-fce7-4664-b7f6-68e70c71adb1",
   "metadata": {},
   "outputs": [],
   "source": [
    "new_temperature_plot(year=2021, month=8, day=15, offset=3, save=True)"
   ]
  },
  {
   "cell_type": "code",
   "execution_count": null,
   "id": "34f79930-6dca-4b37-bb47-f2aaa5fef46a",
   "metadata": {},
   "outputs": [],
   "source": [
    "new_temperature_plot(year=2021, month=9, day=15, offset=3, save=True)"
   ]
  },
  {
   "cell_type": "code",
   "execution_count": null,
   "id": "733e4e4e-ece2-4965-bfa8-60d7b85ae076",
   "metadata": {},
   "outputs": [],
   "source": [
    "new_temperature_plot(year=2021, month=10, day=15, offset=3, save=True)"
   ]
  },
  {
   "cell_type": "code",
   "execution_count": null,
   "id": "63b57ecc-2096-433d-bc5a-ec56ed65bbad",
   "metadata": {},
   "outputs": [],
   "source": [
    "new_temperature_plot(year=2021, month=11, day=15, offset=3, save=True)"
   ]
  },
  {
   "cell_type": "code",
   "execution_count": null,
   "id": "79318a98-aaf7-4a68-9812-fa8ed3f81fe8",
   "metadata": {},
   "outputs": [],
   "source": [
    "new_temperature_plot(year=2021, month=12, day=15, offset=3, save=True)"
   ]
  },
  {
   "cell_type": "code",
   "execution_count": null,
   "id": "da778625-81a6-4796-b84e-eec52289fb85",
   "metadata": {},
   "outputs": [],
   "source": [
    "new_temperature_plot(year=2021, month=3, day=15, offset=3, save=True)"
   ]
  },
  {
   "cell_type": "code",
   "execution_count": null,
   "id": "5562d080-59c4-4f7a-8077-294d3a6af30b",
   "metadata": {},
   "outputs": [],
   "source": [
    "new_temperature_plot(year=2021, month=4, day=15, offset=3, save=True)"
   ]
  },
  {
   "cell_type": "code",
   "execution_count": null,
   "id": "3bb05596-5505-4c3a-82a7-4ff70762e143",
   "metadata": {},
   "outputs": [],
   "source": [
    "new_temperature_plot(year=2021, month=5, day=15, offset=3, save=True)"
   ]
  },
  {
   "cell_type": "code",
   "execution_count": null,
   "id": "64e228d9-827b-4251-89e2-0099e31cdd00",
   "metadata": {},
   "outputs": [],
   "source": [
    "new_temperature_plot(year=2022, month=1, day=15, offset=7, save=True)"
   ]
  },
  {
   "cell_type": "code",
   "execution_count": null,
   "id": "8469cee9-3a2b-4eea-81d1-42d5872a92a2",
   "metadata": {},
   "outputs": [],
   "source": [
    "new_temperature_plot(year=2022, month=2, day=1, offset=3, save=True)"
   ]
  },
  {
   "cell_type": "code",
   "execution_count": null,
   "id": "b78afde6-fa2b-4f5b-b5fe-916bb6b94482",
   "metadata": {},
   "outputs": [],
   "source": [
    "new_temperature_plot(year=2022, month=1, day=15, offset=3, save=True)"
   ]
  },
  {
   "cell_type": "code",
   "execution_count": null,
   "id": "43fe765c-64c8-43ea-a11b-b5b53433aa54",
   "metadata": {},
   "outputs": [],
   "source": [
    "new_temperature_plot(year=2022, month=1, day=15, offset=5, save=True)"
   ]
  },
  {
   "cell_type": "code",
   "execution_count": null,
   "id": "c37350de-a6dd-4b0d-b801-56a70dc3252d",
   "metadata": {},
   "outputs": [],
   "source": [
    "new_temperature_plot(year=2022, month=2, day=15, offset=3, save=True)"
   ]
  },
  {
   "cell_type": "code",
   "execution_count": null,
   "id": "f2048873-f23f-4022-87af-643ee605e87d",
   "metadata": {},
   "outputs": [],
   "source": [
    "new_temperature_plot(year=2022, month=2, day=15, offset=5, save=True)"
   ]
  },
  {
   "cell_type": "code",
   "execution_count": null,
   "id": "36e1f426-4dc4-4e9f-90be-b1052406e33e",
   "metadata": {},
   "outputs": [],
   "source": [
    "new_temperature_plot(year=2022, month=3, day=15, offset=3, save=True)"
   ]
  },
  {
   "cell_type": "code",
   "execution_count": null,
   "id": "d5becaf8-a0d2-4073-b254-5a6c84378c1e",
   "metadata": {},
   "outputs": [],
   "source": [
    "new_temperature_plot(year=2022, month=3, day=15, offset=5, save=True)"
   ]
  },
  {
   "cell_type": "code",
   "execution_count": null,
   "id": "5e566a6c-a7ad-484b-ada1-b8703740c91a",
   "metadata": {},
   "outputs": [],
   "source": [
    "new_temperature_plot(year=2022, month=4, day=15, offset=3, save=True)"
   ]
  },
  {
   "cell_type": "code",
   "execution_count": null,
   "id": "59aa8a0d-0f0d-4f88-b38f-c03e501fb9e4",
   "metadata": {},
   "outputs": [],
   "source": [
    "new_temperature_plot(year=2022, month=4, day=15, offset=5, save=True)"
   ]
  },
  {
   "cell_type": "code",
   "execution_count": null,
   "id": "fa83b787-c35e-4f39-bc17-83e72e5f5176",
   "metadata": {},
   "outputs": [],
   "source": [
    "new_temperature_plot(year=2022, month=5, day=15, offset=3, save=True)"
   ]
  },
  {
   "cell_type": "code",
   "execution_count": null,
   "id": "0b3c0cb6-3d71-497a-8a23-04ca91a260a9",
   "metadata": {},
   "outputs": [],
   "source": [
    "new_temperature_plot(year=2022, month=5, day=15, offset=5, save=True)"
   ]
  },
  {
   "cell_type": "code",
   "execution_count": null,
   "id": "50a55e0d-948a-44b6-ac33-2a3de172ed3d",
   "metadata": {},
   "outputs": [],
   "source": [
    "new_temperature_plot(year=2022, month=6, day=15, offset=3, save=True)"
   ]
  },
  {
   "cell_type": "code",
   "execution_count": null,
   "id": "da8a2597-aa48-428d-93f6-eb48029e108b",
   "metadata": {},
   "outputs": [],
   "source": [
    "new_temperature_plot(year=2022, month=6, day=15, offset=5, save=True)"
   ]
  },
  {
   "cell_type": "code",
   "execution_count": null,
   "id": "535285b6-49bb-4539-8442-b1df5859f7bc",
   "metadata": {},
   "outputs": [],
   "source": [
    "new_temperature_plot(year=2022, month=7, day=15, offset=3, save=True)"
   ]
  },
  {
   "cell_type": "code",
   "execution_count": null,
   "id": "467c9b65-79e8-4dc3-908b-3c0cc5431d36",
   "metadata": {},
   "outputs": [],
   "source": [
    "new_temperature_plot(year=2022, month=7, day=15, offset=5, save=True)"
   ]
  },
  {
   "cell_type": "code",
   "execution_count": null,
   "id": "2686ae46-c99d-45ac-8380-1791b8e70c5c",
   "metadata": {},
   "outputs": [],
   "source": [
    "new_temperature_plot(year=2022, month=8, day=15, offset=3, save=True)"
   ]
  },
  {
   "cell_type": "code",
   "execution_count": null,
   "id": "c5b219bc-8086-48e4-a993-0d27396d5da0",
   "metadata": {},
   "outputs": [],
   "source": [
    "new_temperature_plot(year=2022, month=8, day=15, offset=5, save=True)"
   ]
  },
  {
   "cell_type": "code",
   "execution_count": null,
   "id": "eb644727-528a-417e-ba05-bce6a364a9e0",
   "metadata": {},
   "outputs": [],
   "source": [
    "new_temperature_plot(year=2022, month=9, day=15, offset=3, save=True)"
   ]
  },
  {
   "cell_type": "code",
   "execution_count": null,
   "id": "60fb4b44-fc59-4a20-86bf-a47eb6f1d6c7",
   "metadata": {},
   "outputs": [],
   "source": [
    "new_temperature_plot(year=2022, month=9, day=15, offset=5, save=True)"
   ]
  },
  {
   "cell_type": "code",
   "execution_count": null,
   "id": "3a5b51d6-b600-4935-9c2c-c7637a2a82e3",
   "metadata": {},
   "outputs": [],
   "source": [
    "new_temperature_plot(year=2022, month=10, day=15, offset=3, save=True)"
   ]
  },
  {
   "cell_type": "code",
   "execution_count": null,
   "id": "6d3e8ba0-9b45-4a05-8e7b-b61c267a61f4",
   "metadata": {},
   "outputs": [],
   "source": [
    "new_temperature_plot(year=2022, month=10, day=15, offset=5, save=True)"
   ]
  },
  {
   "cell_type": "code",
   "execution_count": null,
   "id": "0f052756-d2f3-4905-8597-5848873642d2",
   "metadata": {},
   "outputs": [],
   "source": [
    "new_temperature_plot(year=2022, month=11, day=15, offset=3, save=True)"
   ]
  },
  {
   "cell_type": "code",
   "execution_count": null,
   "id": "6e7c07ca-3852-4bc4-9f4a-a6b98a7cc865",
   "metadata": {},
   "outputs": [],
   "source": [
    "new_temperature_plot(year=2022, month=11, day=15, offset=5, save=True)"
   ]
  },
  {
   "cell_type": "code",
   "execution_count": null,
   "id": "b91fc695-4627-4a44-a369-5bc855373664",
   "metadata": {},
   "outputs": [],
   "source": [
    "new_temperature_plot(year=2022, month=12, day=15, offset=3, save=True)"
   ]
  },
  {
   "cell_type": "code",
   "execution_count": null,
   "id": "5d8242fa-2662-4a35-ac1a-7f3c3cb09d2f",
   "metadata": {},
   "outputs": [],
   "source": [
    "new_temperature_plot(year=2022, month=12, day=15, offset=5, save=True)"
   ]
  },
  {
   "cell_type": "code",
   "execution_count": null,
   "id": "c3cfe091-19f9-455a-a1f2-b23b8e3c5378",
   "metadata": {},
   "outputs": [],
   "source": [
    "display(Image(filename='correlation/temp_corr_before_sync.png'))"
   ]
  }
 ],
 "metadata": {
  "kernelspec": {
   "display_name": "DESI main",
   "language": "python",
   "name": "desi-main"
  },
  "language_info": {
   "codemirror_mode": {
    "name": "ipython",
    "version": 3
   },
   "file_extension": ".py",
   "mimetype": "text/x-python",
   "name": "python",
   "nbconvert_exporter": "python",
   "pygments_lexer": "ipython3",
   "version": "3.9.7"
  },
  "toc-autonumbering": true,
  "toc-showmarkdowntxt": true
 },
 "nbformat": 4,
 "nbformat_minor": 5
}
