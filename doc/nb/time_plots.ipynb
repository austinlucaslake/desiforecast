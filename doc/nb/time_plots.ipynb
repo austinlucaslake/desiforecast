{
 "cells": [
  {
   "cell_type": "markdown",
   "id": "f07815fc-4225-4302-9a1c-4359bfdf8979",
   "metadata": {},
   "source": [
    "# Temporal Plots of DESI Telemetry Data\n",
    "\n",
    "As is, the DESI telemetry data is spread out across multiple different tables. As is is shown in the correlations plots in the `correlation` folder, there us very weak correlation across different tables. Before proper analysis can be done, the several datatables of interest must \n",
    "be syncronized in time. This involves rebinning and interpolation of the data is currently being hosted by NERSC."
   ]
  },
  {
   "cell_type": "markdown",
   "id": "cd1ac51f-b133-4c5d-9da9-21ffd6bf3533",
   "metadata": {},
   "source": [
    "## Imports"
   ]
  },
  {
   "cell_type": "code",
   "execution_count": null,
   "id": "2af9e5b4-0b55-4d87-b799-38f37538cf51",
   "metadata": {},
   "outputs": [],
   "source": [
    "import os\n",
    "from tqdm.notebook import trange, tqdm\n",
    "import pytz\n",
    "import numpy as np\n",
    "import pandas as pd\n",
    "import pickle\n",
    "import matplotlib.pyplot as plt\n",
    "from copy import deepcopy\n",
    "from scipy.stats import skewnorm\n",
    "from scipy.stats import norm\n",
    "from astropy.stats import scott_bin_width\n",
    "from math import trunc\n",
    "%matplotlib inline\n",
    "\n",
    "import astropy\n",
    "from astropy.utils.data import get_pkg_data_filename\n",
    "from astropy.io import fits\n",
    "from astropy.time import Time\n",
    "from astropy.table import Table\n",
    "from astropy.timeseries import aggregate_downsample, TimeSeries\n",
    "import astropy.units as u\n",
    "\n",
    "try:\n",
    "    import numba as nb\n",
    "    nb.cuda.detect()\n",
    "    import cupy as cp\n",
    "    %pip install -q cudf-cu11 dask-cudf-cu11 --extra-index-url=https://pypi.ngc.nvidia.com\n",
    "    import cudf as cd\n",
    "    gpu_access = True\n",
    "except:\n",
    "    gpu_access = False\n",
    "    print('No GPU devices available!')\n",
    "data_dir = '../../py/desiforecast/data'"
   ]
  },
  {
   "cell_type": "markdown",
   "id": "fdb62e24-6d00-42da-adb3-f2f4f71a6b51",
   "metadata": {},
   "source": [
    "## Load Data"
   ]
  },
  {
   "cell_type": "code",
   "execution_count": null,
   "id": "27da4eec-8855-478b-a9c0-8d83213239ed",
   "metadata": {},
   "outputs": [],
   "source": [
    "tower_data = TimeSeries.read(f'{data_dir}/environmentmonitor_tower.fits')\n",
    "dome_data = TimeSeries.read(f'{data_dir}/environmentmonitor_dome.fits')\n",
    "telescope_data = TimeSeries.read(f'{data_dir}/environmentmonitor_telescope.fits')\n",
    "seeing_data = TimeSeries.read(f'{data_dir}/etc_seeing.fits')\n",
    "telemetry_data = TimeSeries.read(f'{data_dir}/etc_telemetry.fits')\n",
    "tcs_data = TimeSeries.read(f'{data_dir}/tcs_info.fits')"
   ]
  },
  {
   "cell_type": "code",
   "execution_count": null,
   "id": "20370890-51c8-478c-8222-01ca909cd697",
   "metadata": {},
   "outputs": [],
   "source": [
    "# Original, unfiltered data as provided by the DESI telemetry database\n",
    "with open(f'{data_dir}/environmentmonitor_tower.pkl', 'rb') as pf:\n",
    "    tower_data = pd.read_pickle(pf)\n",
    "with open(f'{data_dir}/environmentmonitor_dome.pkl', 'rb') as pf:\n",
    "    dome_data = pd.read_pickle(pf)\n",
    "with open(f'{data_dir}/environmentmonitor_telescope.pkl', 'rb') as pf:\n",
    "    telescope_data = pd.read_pickle(pf)\n",
    "    telescope_data['mirror_cooling'] = telescope_data['mirror_cooling'].interpolate(limit_direction='both')\n",
    "with open(f'{data_dir}/etc_seeing.pkl', 'rb') as pf:\n",
    "    seeing_data = pd.read_pickle(pf)\n",
    "with open(f'{data_dir}/etc_telemetry.pkl', 'rb') as pf:\n",
    "    telemetry_data = pd.read_pickle(pf)\n",
    "with open(f'{data_dir}/tcs_info.pkl', 'rb') as pf:\n",
    "    tcs_data = pd.read_pickle(pf)\n",
    "with open(f'{data_dir}/temp_delta_stats_daytime.pkl', 'rb') as pf:\n",
    "    daytime_delta_stats_data = pd.read_pickle(pf)\n",
    "with open(f'{data_dir}/temp_delta_stats_nighttime.pkl', 'rb') as pf:\n",
    "    nighttime_delta_stats_data = pd.read_pickle(pf)\n",
    "with open(f'{data_dir}/temp_delta_stats_nighttime.pkl', 'rb') as pf:\n",
    "    nighttime_delta_stats_data = pd.read_pickle(pf)\n",
    "with open(f'{data_dir}/full_distributions_daytime.pkl', 'rb') as pf:\n",
    "    full_distributions_daytime = pd.read_pickle(pf)\n",
    "with open(f'{data_dir}/full_distributions_nighttime.pkl', 'rb') as pf:\n",
    "    full_distributions_nighttime = pd.read_pickle(pf)"
   ]
  },
  {
   "cell_type": "code",
   "execution_count": 10,
   "id": "df02c2d7-e85e-45fd-a651-0202778803db",
   "metadata": {},
   "outputs": [],
   "source": [
    "with open(f'{data_dir}/ambient_distributions_daytime.pkl', 'rb') as pf:\n",
    "    ambient = pd.read_pickle(pf)\n",
    "with open(f'{data_dir}/delta_distributions_daytime.pkl', 'rb') as pf:\n",
    "    delta = pd.read_pickle(pf)"
   ]
  },
  {
   "cell_type": "code",
   "execution_count": null,
   "id": "a1b86948-ee49-44c1-8f9f-cf590733cefa",
   "metadata": {},
   "outputs": [],
   "source": [
    "print(ambient[2022][9])"
   ]
  },
  {
   "cell_type": "code",
   "execution_count": 91,
   "id": "35dc9520-8ae8-4048-b558-7b939630e5b9",
   "metadata": {},
   "outputs": [],
   "source": [
    "from matplotlib import cm\n",
    "from datetime import datetime\n",
    "\n",
    "def distributions_over_time(daytime):\n",
    "    folder = 'daytime' if daytime else 'nighttime'\n",
    "    years = [2019, 2020, 2021, 2022, 2023]\n",
    "    months = np.linspace(1, 12, 12, dtype=np.int64)\n",
    "    std_temps1 = np.linspace(-10, 30, 4001)\n",
    "    std_temps2 = np.linspace(-20, 20, 4001)\n",
    "    \n",
    "    with open(f'{data_dir}/ambient_distributions_{folder}.pkl', 'rb') as pf:\n",
    "        ambient = pd.read_pickle(pf)\n",
    "    with open(f'{data_dir}/delta_distributions_{folder}.pkl', 'rb') as pf:\n",
    "        delta = pd.read_pickle(pf)\n",
    "    \n",
    "    ambient_distr = []\n",
    "    ambient_times = []\n",
    "    delta_distr = []\n",
    "    delta_times = []\n",
    "    for i in years:\n",
    "        for j in tqdm(months, desc=f'{i}'):\n",
    "            if len(ambient[i][j]):\n",
    "                ambient[i][j] = [k for k in ambient[i][j] if not (k != k) ]\n",
    "                if len(ambient[i][j]):\n",
    "                    ambient_distr.append(skewnorm.pdf(std_temps1, *skewnorm.fit(ambient[i][j])))\n",
    "                    ambient_times.append(f'{i}-{j}')\n",
    "            if len(delta[i][j]):\n",
    "                delta[i][j] = [k for k in delta[i][j] if not (k != k) ]\n",
    "                if len(delta[i][j]):\n",
    "                    delta_distr.append(skewnorm.pdf(std_temps2, *skewnorm.fit(delta[i][j])))\n",
    "                    delta_times.append(f'{i}-{j}')\n",
    "\n",
    "    ambient_distr = np.asarray(ambient_distr)\n",
    "    ambient_times = np.asarray(ambient_times)\n",
    "    delta_distr = np.asarray(delta_distr)\n",
    "    delta_times = np.asarray(delta_times)\n",
    "\n",
    "    temp_nums = np.linspace(1, len(ambient_times), len(ambient_times))\n",
    "    XX, YY = np.meshgrid(temp_nums, std_temps1)\n",
    "\n",
    "    ax = plt.figure().add_subplot(projection='3d')\n",
    "    ax.view_init(60, 15)\n",
    "    surf = ax.plot_surface(XX, YY, ambient_distr.T, cmap=cm.plasma, lw=0.5, rstride=8, cstride=8)\n",
    "    fig.colorbar(surf, shrink=0.5, aspect=5, ax=ax)\n",
    "    ax.set_title('Ambient Temperature Distribution as a Function of Time')\n",
    "    ax.set_xlabel('Date')\n",
    "    ax.set_ylabel(u'Ambient Temperature (\\u2103)')\n",
    "    ax.set_zlabel('Density (%)')\n",
    "    \n",
    "    ax.set_xticks([temp_nums[0], temp_nums[len(temp_nums)//4], temp_nums[len(temp_nums)//2], temp_nums[3*len(temp_nums)//4], temp_nums[-1]]) \n",
    "    ax.set_xticklabels([ambient_times[0], ambient_times[len(ambient_times)//4], ambient_times[len(ambient_times)//2], ambient_times[3*len(ambient_times)//4], ambient_times[-1]])\n",
    "    plt.savefig(f'time_plots/temp_distributions/ambient_distribution_{folder}.png')\n",
    "    \n",
    "    plt.rcParams['axes.facecolor']='white'\n",
    "    plt.rcParams['savefig.facecolor']='white'\n",
    "    plt.rcParams['figure.facecolor'] = 'white'\n",
    "    plt.show()\n",
    "\n",
    "    temp_nums = np.linspace(1, len(delta_times), len(delta_times))\n",
    "    XX, YY = np.meshgrid(temp_nums, std_temps2)\n",
    "\n",
    "    ax = plt.figure().add_subplot(projection='3d')\n",
    "    ax.view_init(45, 35)\n",
    "    surf = ax.plot_surface(XX, YY, delta_distr.T, cmap=cm.plasma, lw=0.5, rstride=8, cstride=8)\n",
    "    fig.colorbar(surf, shrink=0.5, aspect=5, ax=ax)\n",
    "    ax.set_title('Temperature Delta Distribution as a Function of Time')\n",
    "    ax.set_xlabel('Date')\n",
    "    ax.set_ylabel(u'Temperature Delta (\\u2103)')\n",
    "    ax.set_zlabel('Density (%)')\n",
    "    \n",
    "    ax.set_xticks([temp_nums[0], temp_nums[len(temp_nums)//4], temp_nums[len(temp_nums)//2], temp_nums[3*len(temp_nums)//4], temp_nums[-1]]) \n",
    "    ax.set_xticklabels([delta_times[0], delta_times[len(delta_times)//4], delta_times[len(delta_times)//2], delta_times[3*len(delta_times)//4], delta_times[-1]])\n",
    "    plt.savefig(f'time_plots/temp_distributions/delta_distribution_{folder}.png')\n",
    "    \n",
    "    plt.rcParams['axes.facecolor']='white'\n",
    "    plt.rcParams['savefig.facecolor']='white'\n",
    "    plt.rcParams['figure.facecolor'] = 'white'\n",
    "    plt.show()\n"
   ]
  },
  {
   "cell_type": "code",
   "execution_count": null,
   "id": "78bf82ee-cf89-4d35-904f-ded1a0c9efe4",
   "metadata": {},
   "outputs": [
    {
     "data": {
      "application/vnd.jupyter.widget-view+json": {
       "model_id": "55ba8c65abb9462cb42bd8a05732a166",
       "version_major": 2,
       "version_minor": 0
      },
      "text/plain": [
       "2019:   0%|          | 0/12 [00:00<?, ?it/s]"
      ]
     },
     "metadata": {},
     "output_type": "display_data"
    },
    {
     "data": {
      "application/vnd.jupyter.widget-view+json": {
       "model_id": "dd2990f19b8d4c56ac40da32a5e75c57",
       "version_major": 2,
       "version_minor": 0
      },
      "text/plain": [
       "2020:   0%|          | 0/12 [00:00<?, ?it/s]"
      ]
     },
     "metadata": {},
     "output_type": "display_data"
    },
    {
     "data": {
      "application/vnd.jupyter.widget-view+json": {
       "model_id": "65e6f2df1ca74d6fb879e8d8fbf4b1bb",
       "version_major": 2,
       "version_minor": 0
      },
      "text/plain": [
       "2021:   0%|          | 0/12 [00:00<?, ?it/s]"
      ]
     },
     "metadata": {},
     "output_type": "display_data"
    },
    {
     "name": "stderr",
     "output_type": "stream",
     "text": [
      "/global/common/software/desi/perlmutter/desiconda/20220119-2.0.1/conda/lib/python3.9/site-packages/scipy/stats/_distn_infrastructure.py:1833: RuntimeWarning: divide by zero encountered in log\n",
      "  return log(self._pdf(x, *args))\n"
     ]
    },
    {
     "data": {
      "application/vnd.jupyter.widget-view+json": {
       "model_id": "b0da62e8d4254072a3bad107e101c708",
       "version_major": 2,
       "version_minor": 0
      },
      "text/plain": [
       "2022:   0%|          | 0/12 [00:00<?, ?it/s]"
      ]
     },
     "metadata": {},
     "output_type": "display_data"
    },
    {
     "data": {
      "application/vnd.jupyter.widget-view+json": {
       "model_id": "cc1cc7d222f445b493da0806cc788c58",
       "version_major": 2,
       "version_minor": 0
      },
      "text/plain": [
       "2023:   0%|          | 0/12 [00:00<?, ?it/s]"
      ]
     },
     "metadata": {},
     "output_type": "display_data"
    },
    {
     "data": {
      "image/png": "[encoded data removed]",
      "text/plain": [
       "<Figure size 432x288 with 2 Axes>"
      ]
     },
     "metadata": {
      "needs_background": "light"
     },
     "output_type": "display_data"
    },
    {
     "data": {
      "image/png": "[encoded data removed]",
      "text/plain": [
       "<Figure size 432x288 with 2 Axes>"
      ]
     },
     "metadata": {},
     "output_type": "display_data"
    },
    {
     "data": {
      "application/vnd.jupyter.widget-view+json": {
       "model_id": "6b236ddc827c4a6b816e8dc0c412712c",
       "version_major": 2,
       "version_minor": 0
      },
      "text/plain": [
       "2019:   0%|          | 0/12 [00:00<?, ?it/s]"
      ]
     },
     "metadata": {},
     "output_type": "display_data"
    },
    {
     "name": "stderr",
     "output_type": "stream",
     "text": [
      "/global/common/software/desi/perlmutter/desiconda/20220119-2.0.1/conda/lib/python3.9/site-packages/scipy/stats/_distn_infrastructure.py:1833: RuntimeWarning: divide by zero encountered in log\n",
      "  return log(self._pdf(x, *args))\n"
     ]
    },
    {
     "data": {
      "application/vnd.jupyter.widget-view+json": {
       "model_id": "755bbaca98e746ae802ae19fa366fb64",
       "version_major": 2,
       "version_minor": 0
      },
      "text/plain": [
       "2020:   0%|          | 0/12 [00:00<?, ?it/s]"
      ]
     },
     "metadata": {},
     "output_type": "display_data"
    },
    {
     "data": {
      "application/vnd.jupyter.widget-view+json": {
       "model_id": "44504f589c0a42b7993355971cda7d7b",
       "version_major": 2,
       "version_minor": 0
      },
      "text/plain": [
       "2021:   0%|          | 0/12 [00:00<?, ?it/s]"
      ]
     },
     "metadata": {},
     "output_type": "display_data"
    },
    {
     "data": {
      "application/vnd.jupyter.widget-view+json": {
       "model_id": "f9f02db0191e4586ac24d759008e8583",
       "version_major": 2,
       "version_minor": 0
      },
      "text/plain": [
       "2022:   0%|          | 0/12 [00:00<?, ?it/s]"
      ]
     },
     "metadata": {},
     "output_type": "display_data"
    }
   ],
   "source": [
    "distributions_over_time(daytime=True)\n",
    "distributions_over_time(daytime=False)"
   ]
  },
  {
   "cell_type": "code",
   "execution_count": null,
   "id": "9878230c-2c86-4de9-9e05-79441e5d0bed",
   "metadata": {},
   "outputs": [],
   "source": [
    "print(np.max(ambient_distributions))"
   ]
  },
  {
   "cell_type": "code",
   "execution_count": null,
   "id": "ceea6036-7473-44f4-848e-24b556cdf771",
   "metadata": {},
   "outputs": [],
   "source": []
  },
  {
   "cell_type": "code",
   "execution_count": null,
   "id": "674be037-768e-4789-9ff1-d47f594d27b7",
   "metadata": {},
   "outputs": [],
   "source": [
    "def resample_data(df):\n",
    "    \"\"\"Resamples DESI telemetry data contained within Pandas dataframe.\n",
    "    \n",
    "    Parameters\n",
    "    ----------\n",
    "    df : pandas.DataFrame\n",
    "        Original data as queried from the DESI telemetry database\n",
    "    \n",
    "    Returns\n",
    "    -------\n",
    "    df : pandas.DataFrame\n",
    "        Resampled and interpolated DESI telemetry data\n",
    "    \"\"\"\n",
    "    if 'seeing' in df.columns.values:\n",
    "        pass\n",
    "    else:\n",
    "        df = df.resample('6S').mean()\n",
    "        df.interpolate(limit_direction='both', inplace=True)\n",
    "    df = df.tz_convert(\"America/Phoenix\")\n",
    "    return df"
   ]
  },
  {
   "cell_type": "code",
   "execution_count": null,
   "id": "3508ea53-8f64-4670-ba95-3dd9be896000",
   "metadata": {},
   "outputs": [],
   "source": [
    "# tower_data = resample_data(tower_data)\n",
    "# dome_data = resample_data(dome_data)\n",
    "# telescope_data = resample_data(telescope_data)\n",
    "# seeing_data = resample_data(seeing_data)\n",
    "# telemetry_data = resample_data(telemetry_data)\n",
    "# tcs_data = resample_data(tcs_data)"
   ]
  },
  {
   "cell_type": "code",
   "execution_count": null,
   "id": "045ebf18-9657-4807-a5ec-d09303bc63db",
   "metadata": {},
   "outputs": [],
   "source": [
    "print(tower_data.notnull().all())\n",
    "print(dome_data.notnull().all())\n",
    "print(telescope_data.notnull().all())\n",
    "print(seeing_data.notnull().all())\n",
    "print(telemetry_data.notnull().all())\n",
    "print(tcs_data.notnull().all())\n",
    "print(daytime_delta_stats_data.notnull().all())\n",
    "print(nighttime_delta_stats_data.notnull().all())\n"
   ]
  },
  {
   "cell_type": "code",
   "execution_count": 7,
   "id": "9a1a3c5f-b6c3-4fcc-89f7-2985e6bf895b",
   "metadata": {},
   "outputs": [],
   "source": [
    "from scipy import stats\n",
    "# removes results outside of 5 std\n",
    "def remove_outliers(data):\n",
    "    return np.logical_and(np.argwhere(np.abs(stats.zscore(data.to_numpy())) < 5), np.argwhere(data.notnull()))"
   ]
  },
  {
   "cell_type": "code",
   "execution_count": null,
   "id": "a7bed1d3-e0cb-45fe-976b-e5c09c3bc12c",
   "metadata": {},
   "outputs": [],
   "source": [
    "def yearly_delta_stats(daytime=True):\n",
    "    temp_delta_data = daytime_delta_stats_data if daytime else nighttime_delta_stats_data\n",
    "    folder = 'daytime' if daytime else 'nighttime'\n",
    "    directory = f'time_plots/temp_statistics/{folder}'\n",
    "    if not os.path.isdir(directory):\n",
    "        os.makedirs(directory)\n",
    "    years = [2019, 2020, 2021, 2022, 2023]\n",
    "    months = np.linspace(1, 12, 12, dtype=np.int64)\n",
    "    no_outliers = remove_outliers(temp_delta_data['mean'])\n",
    "    for i in years:\n",
    "        for j in months:\n",
    "            valid = np.argwhere(np.logical_and(temp_delta_data.index[no_outliers].year == i, temp_delta_data.index[no_outliers].month == j)).flatten()\n",
    "            if len(valid):\n",
    "                fig, ax = plt.subplots(figsize=(20,15))\n",
    "                plt.rcParams['axes.facecolor']='white'\n",
    "                plt.rcParams['savefig.facecolor']='white'\n",
    "                plt.rcParams['figure.facecolor'] = 'white'\n",
    "                ax.set_title('Daily Temperature Statistics vs. Date/Time')\n",
    "                ax.set_xlabel('Day')\n",
    "                ax.autoscale(True)\n",
    "                ax.plot(temp_delta_data.index[no_outliers][valid], temp_delta_data['mins'].iloc[no_outliers][valid], label='daily minimum')\n",
    "                ax.plot(temp_delta_data.index[no_outliers][valid], temp_delta_data['maxs'].iloc[no_outliers][valid], label='daily maximum')\n",
    "                ax.plot(temp_delta_data.index[no_outliers][valid], temp_delta_data['mean'].iloc[no_outliers][valid], label='daily mean')\n",
    "                ax.plot(temp_delta_data.index[no_outliers][valid], temp_delta_data['median'].iloc[no_outliers][valid], label='daily median')\n",
    "                ax.plot(temp_delta_data.index[no_outliers][valid], temp_delta_data['std'].iloc[no_outliers][valid], label='daily std')\n",
    "                ax.plot(temp_delta_data.index[no_outliers][valid], temp_delta_data['var'].iloc[no_outliers][valid], label='daily var')\n",
    "                ax.plot(temp_delta_data.index[no_outliers][valid], temp_delta_data['start'].iloc[no_outliers][valid], label='daily start temp')\n",
    "                ax.plot(temp_delta_data.index[no_outliers][valid], temp_delta_data['end'].iloc[no_outliers][valid], label='daily end temp')\n",
    "                ax.plot(temp_delta_data.index[no_outliers][valid], temp_delta_data['ambient_when_equal'].iloc[no_outliers][valid], label='daily ambient when temp equalized')\n",
    "                ax_handles, _ = ax.get_legend_handles_labels()\n",
    "                twin = ax.twinx()\n",
    "                twin.set_ylabel('Hours For Temperature To Equalize')\n",
    "                twin.autoscale(True)\n",
    "                twin.plot(temp_delta_data.index[no_outliers][valid], temp_delta_data['equalize_time'].iloc[no_outliers][valid], c='maroon', label='time to equalize')\n",
    "                twin_handles, _ = twin.get_legend_handles_labels()\n",
    "                ax.legend(handles=ax_handles+twin_handles)\n",
    "\n",
    "                fig.savefig(f'{directory}/{i}-{j}.png')\n",
    "                plt.close(fig)"
   ]
  },
  {
   "cell_type": "code",
   "execution_count": null,
   "id": "e9b296ff-b3ee-4b57-b17e-a7c19c374045",
   "metadata": {},
   "outputs": [],
   "source": [
    "yearly_delta_stats(daytime=True)\n",
    "yearly_delta_stats(daytime=False)"
   ]
  },
  {
   "cell_type": "markdown",
   "id": "65f9f4f1-71c7-49ee-b483-a4ffc2052f0f",
   "metadata": {},
   "source": [
    "## 02/09/23 Tasks\n",
    "- Plot for every month\n",
    "    - Get delta temp when mirror cooling is off\n",
    "        - ~~1d distribution for each month~~\n",
    "        - 3d plot of all months\n",
    "    - Get time it reach desired temp during mirror cooling\n",
    "        - ~~as a function of ambient temperature at start~~\n",
    "        - ~~as a function of air temperature variance~~\n",
    "        - percent of time outside of ideal window~~\n",
    "    - ~~Ambient air during mirror cooling~~   \n",
    "- how often operators follow forecasts of the night\n",
    "- how accurate are the forecasts and to what degree\n",
    "- March 8, desi movie in Oakland hills"
   ]
  },
  {
   "cell_type": "markdown",
   "id": "5102d568-1384-433c-a3d8-dad22200f9b8",
   "metadata": {},
   "source": [
    "## Single Day Temperature Plots (Night vs Day)"
   ]
  },
  {
   "cell_type": "code",
   "execution_count": null,
   "id": "3c9efc3c-def8-4e95-ba90-9d81bf58e1fa",
   "metadata": {},
   "outputs": [],
   "source": [
    "def new_temperature_plot(year=2022, month=9, day=24, offset=1, save=False):\n",
    "    start_date = pd.Timestamp(year=year,month=month,day=day,hour=17, minute=0, second=0, microsecond=0, tz=\"America/Phoenix\")-pd.DateOffset(day=1)\n",
    "    end_date = start_date+pd.DateOffset(day=offset)\n",
    "    if gpu_access:\n",
    "        start_date = start_date.to_numpy()\n",
    "        end_date = end_date.to_numpy()\n",
    "\n",
    "    print(f'Start date: {start_date}')\n",
    "    print(f'Offset length (# of days): {offset}')\n",
    "    \n",
    "    fig, ax = plt.subplots(ncols=2, figsize=(20,10))\n",
    "    ax0_plots = []\n",
    "    ax1_plots = []\n",
    "    ax[0].autoscale(True)\n",
    "    ax[0].set_title('Mirror Temperature & Seeing vs. Date/Time')\n",
    "    ax[0].set_ylabel('Mirror Temperature (Celcius)')\n",
    "    ax[0].set_xlabel('Date/Time')\n",
    "    ax[1].autoscale(True)\n",
    "    ax[1].set_title('Dome & Tower Temperature vs. Date/Time')\n",
    "    ax[1].set_ylabel('Dome Temperature (Celcius)')\n",
    "    ax[1].set_xlabel('Date/Time')\n",
    "\n",
    "    if gpu_access:\n",
    "        telescope_indicies = cp.argwhere(cp.logical_and(telescope_data.index >= start_date, telescope_data.index <= end_date)).flatten()\n",
    "    else:\n",
    "        telescope_indicies = np.argwhere(np.logical_and(telescope_data.index >= start_date, telescope_data.index <= end_date)).flatten()\n",
    "    temp_delta = remove_outliers(telescope_data.iloc[telescope_indicies]['air_temp']-telescope_data.iloc[telescope_indicies]['mirror_temp'])\n",
    "    print(f'Number of valid telescope environment samples in current time window: {len(telescope_indicies)}')\n",
    "    if len(telescope_indicies):\n",
    "        ax0_plots.append(ax[0].plot(telescope_data.index[telescope_indicies], telescope_data.iloc[telescope_indicies]['mirror_avg_temp'], label='average mirror temp')[0])\n",
    "        ax0_plots.append(ax[0].plot(telescope_data.index[telescope_indicies], telescope_data.iloc[telescope_indicies]['mirror_temp'], label='mirror temp')[0])\n",
    "        ax0_plots.append(ax[0].plot(telescope_data.index[telescope_indicies], telescope_data.iloc[telescope_indicies]['mirror_desired_temp'], label='desired mirror temp')[0])\n",
    "        ax0_plots.append(ax[0].plot(telescope_data.index[telescope_indicies], telescope_data.iloc[telescope_indicies]['air_temp'], label='air temp')[0])\n",
    "        ax0_plots.append(ax[0].plot(telescope_data.index[telescope_indicies], telescope_data.iloc[telescope_indicies]['mirror_cooling'], label='mirror cooling')[0])\n",
    "        ax0_plots.append(ax[0].plot(temp_delta.index, temp_delta, label='temp delta')[0])\n",
    "        ax[0].axhline(y=1.5, color='maroon', linestyle='--')\n",
    "        ax[0].axhline(y=-1.5, color='maroon', linestyle='--')\n",
    "        ax[0].annotate(u\"1.5 \\u2103\", xy=(end_date, 1.75), annotation_clip=False, ha='right')\n",
    "        ax[0].annotate(u\"-1.5 \\u2103\", xy=(end_date, -1.25), annotation_clip=False, ha='right')\n",
    "\n",
    "    if gpu_access:\n",
    "        telemetry_indicies = cp.argwhere(cp.logical_and(telemetry_data.index >= start_date, telemetry_data.index <= end_date)).flatten()\n",
    "    else:\n",
    "        telemetry_indicies = np.argwhere(np.logical_and(telemetry_data.index >= start_date, telemetry_data.index <= end_date)).flatten()\n",
    "    print(f'Number of valid etc telemetry samples in current time window: {len(telemetry_indicies)}')\n",
    "    if len(telemetry_indicies):\n",
    "        twin0 = ax[0].twinx()\n",
    "        ax0_plots.append(twin0.plot(telemetry_data.index[telemetry_indicies], telemetry_data.iloc[telemetry_indicies]['seeing'], color=\"indigo\", label='seeing')[0])\n",
    "        twin0.autoscale(True)\n",
    "        twin0.set_ylabel('Seeing')\n",
    "\n",
    "    if gpu_access:\n",
    "        dome_indicies = cp.argwhere(cp.logical_and(dome_data.index >= start_date, dome_data.index <= end_date)).flatten()\n",
    "    else:\n",
    "        dome_indicies = np.argwhere(np.logical_and(dome_data.index >= start_date, dome_data.index <= end_date)).flatten()\n",
    "    print(f'Number of valid dome environment samples in current time window: {len(dome_indicies)}')\n",
    "    if len(dome_indicies):\n",
    "        ax1_plots.append(ax[1].plot(dome_data.index[dome_indicies], dome_data.iloc[dome_indicies]['dome_floor_ne'], label='dome floor temp (NE)')[0])\n",
    "        ax1_plots.append(ax[1].plot(dome_data.index[dome_indicies], dome_data.iloc[dome_indicies]['dome_floor_nw'], label='dome floor temp (NW)')[0])\n",
    "        ax1_plots.append(ax[1].plot(dome_data.index[dome_indicies], dome_data.iloc[dome_indicies]['dome_floor_s'], label='dome floor temp (S)')[0])\n",
    "\n",
    "    if gpu_access:\n",
    "        tower_indicies = cp.argwhere(cp.logical_and(tower_data.index >= start_date, tower_data.index <= end_date)).flatten()\n",
    "    else:\n",
    "        tower_indicies = np.argwhere(np.logical_and(tower_data.index >= start_date, tower_data.index <= end_date)).flatten()\n",
    "    print(f'Number of valid tower environment samples in current time window: {len(tower_indicies)}')\n",
    "    if len(tower_indicies):\n",
    "        twin1 = ax[1].twinx()\n",
    "        ax1_plots.append(twin1.plot(tower_data.index[tower_indicies], tower_data.iloc[tower_indicies]['temperature'], color=\"indigo\", label='tower temp')[0])\n",
    "        twin1.autoscale(True)\n",
    "        twin1.set_ylabel('Tower Temperature (Celcius)')\n",
    "    \n",
    "    if ax1_plots:\n",
    "        ax[1].legend(handles=ax1_plots)\n",
    "    else:\n",
    "        ax[1].remove()\n",
    "\n",
    "    if ax0_plots:\n",
    "        ax[0].legend(handles=ax0_plots)\n",
    "        if save:\n",
    "            plt.savefig(f'time_plots/with_temp_delta/{year}-{month}-{day}_{offset}-day-offset.png', format='png')\n",
    "        plt.show()\n",
    "    else:\n",
    "        print(\"Insufficient data in this time window!\")"
   ]
  },
  {
   "cell_type": "code",
   "execution_count": null,
   "id": "4bf01814-0ca0-4797-ae96-4d7a2ee63401",
   "metadata": {},
   "outputs": [],
   "source": [
    "def get_time_ranges(cooling_on):\n",
    "    changes = telescope_data['mirror_cooling'][1:].to_numpy()-telescope_data['mirror_cooling'][:len(telescope_data)-1].to_numpy()\n",
    "    changes = changes[remove_outliers(telescope_data['air_temp'][:-1])]\n",
    "    ranges = []\n",
    "    start=0\n",
    "    for i in range(len(changes)):\n",
    "        if cooling_on:\n",
    "            if changes[i] == 1:\n",
    "                start = i\n",
    "            elif changes[i] == -1:\n",
    "                end = i\n",
    "                ranges.append(np.linspace(start+1, end, end-start, dtype=np.int64))\n",
    "        else:\n",
    "            if changes[i] == -1:\n",
    "                start = i\n",
    "            elif changes[i] == 1:\n",
    "                end = i\n",
    "                ranges.append(np.linspace(start+1, end, end-start, dtype=np.int64))\n",
    "    return ranges"
   ]
  },
  {
   "cell_type": "code",
   "execution_count": null,
   "id": "8fbe07d8-5fe1-4f93-bd4d-4eff5905fa0b",
   "metadata": {},
   "outputs": [],
   "source": [
    "def temp_delta_stats(daytime=True):\n",
    "    file = 'daytime' if daytime else 'nighttime'\n",
    "    time_ranges = get_time_ranges(cooling_on=daytime)\n",
    "    mirror_ambient_delta = telescope_data['air_temp']-telescope_data['mirror_temp']\n",
    "    mirror_desired_delta = telescope_data['mirror_desired_temp']-telescope_data['mirror_temp']\n",
    "    df = pd.DataFrame()\n",
    "    mins = []\n",
    "    maxs = []\n",
    "    mean = []\n",
    "    median = []\n",
    "    std = []\n",
    "    var = []\n",
    "    start = []\n",
    "    end = []\n",
    "    start_time = []\n",
    "    equalize_time = []\n",
    "    ambient_when_equal = []\n",
    "    for i in trange(len(time_ranges), desc=f'{file} statistics'):\n",
    "        mins.append(mirror_ambient_delta.iloc[time_ranges[i]].min())\n",
    "        maxs.append(mirror_ambient_delta.iloc[time_ranges[i]].max())\n",
    "        mean.append(mirror_ambient_delta.iloc[time_ranges[i]].mean())\n",
    "        median.append(mirror_ambient_delta.iloc[time_ranges[i]].median())\n",
    "        std.append(mirror_ambient_delta.iloc[time_ranges[i]].std())\n",
    "        var.append(mirror_ambient_delta.iloc[time_ranges[i]].var())\n",
    "        start.append(mirror_ambient_delta.iloc[time_ranges[i][0]])\n",
    "        end.append(mirror_ambient_delta.iloc[time_ranges[i][-1]])\n",
    "        start_time.append(mirror_ambient_delta.index[time_ranges[i]][0])\n",
    "        equalize = np.argwhere(mirror_ambient_delta.iloc[time_ranges[i]].to_numpy()<1e-2).flatten()\n",
    "        if len(equalize):\n",
    "            time = (mirror_ambient_delta.index[time_ranges[i]][equalize[-1]]-mirror_ambient_delta.index[time_ranges[i]][-1]).seconds/3600\n",
    "            equalize_time.append(time)\n",
    "            ambient_when_equal.append(telescope_data.iloc[time_ranges[i]]['air_temp'][equalize[-1]])\n",
    "        else:\n",
    "            equalize_time.append(None)\n",
    "            ambient_when_equal.append(None)\n",
    "    df['mins'] = mins\n",
    "    df['maxs'] = maxs\n",
    "    df['mean'] = mean\n",
    "    df['median'] = median\n",
    "    df['std'] = std\n",
    "    df['var'] = var\n",
    "    df['start'] = start\n",
    "    df['end'] = end\n",
    "    df['start_time'] = start_time\n",
    "    df['equalize_time'] = equalize_time\n",
    "    df['ambient_when_equal'] = ambient_when_equal\n",
    "    df.set_index('start_time', inplace=True)\n",
    "    with open(f'{data_dir}/temp_delta_stats_{file}.pkl', 'wb') as pf:\n",
    "        pickle.dump(df, pf)"
   ]
  },
  {
   "cell_type": "code",
   "execution_count": null,
   "id": "3517ae98-b093-481c-bb29-b7cccd4b1e5e",
   "metadata": {},
   "outputs": [],
   "source": [
    "temp_delta_stats(daytime=True)\n",
    "temp_delta_stats(daytime=False)"
   ]
  },
  {
   "cell_type": "code",
   "execution_count": null,
   "id": "d388f41f-6d12-4779-9cf5-8285be4bd557",
   "metadata": {},
   "outputs": [],
   "source": [
    "def mirror_cooling_plots(daytime=False):\n",
    "    time_ranges = get_time_ranges(cooling_on=daytime)\n",
    "    mirror_ambient_delta = telescope_data['air_temp']-telescope_data['mirror_temp']\n",
    "    mirror_desired_delta = telescope_data['mirror_desired_temp']-telescope_data['mirror_temp']\n",
    "    folder = 'daytime' if daytime else 'nighttime'\n",
    "\n",
    "    for i in trange(len(time_ranges), desc=f'{folder} single day plots'):\n",
    "                \n",
    "        fig, ax = plt.subplots(ncols=2, figsize=(20,10))\n",
    "        ax0_plots = []\n",
    "        ax1_plots = []\n",
    "        ax[0].autoscale(True)\n",
    "        ax[0].set_title('Mirror Temperature vs. Date/Time')\n",
    "        ax[0].set_ylabel('Mirror Temperature (Celcius)')\n",
    "        ax[0].set_xlabel('Date/Time')\n",
    "        ax[1].autoscale(True)\n",
    "        ax[1].set_title('Dome & Tower Temperature vs. Date/Time')\n",
    "        ax[1].set_ylabel('Dome Temperature (Celcius)')\n",
    "        ax[1].set_xlabel('Date/Time')\n",
    "    \n",
    "        fig.autofmt_xdate()        \n",
    "\n",
    "        ax[0].plot(telescope_data.index[time_ranges[i]], telescope_data.iloc[time_ranges[i]]['mirror_avg_temp'], label='average mirror temp')\n",
    "        ax[0].plot(telescope_data.index[time_ranges[i]], telescope_data.iloc[time_ranges[i]]['mirror_temp'], label='mirror temp')\n",
    "        ax[0].plot(telescope_data.index[time_ranges[i]], telescope_data.iloc[time_ranges[i]]['mirror_desired_temp'], label='desired mirror temp')\n",
    "        ax[0].plot(telescope_data.index[time_ranges[i]], telescope_data.iloc[time_ranges[i]]['air_temp'], label='air temp')\n",
    "        ax[0].plot(telescope_data.index[time_ranges[i]], telescope_data.iloc[time_ranges[i]]['mirror_cooling'], label='mirror cooling')\n",
    "        ax[0].plot(mirror_ambient_delta.index[time_ranges[i]], mirror_ambient_delta.iloc[time_ranges[i]], label='ambient & mirror temp delta')\n",
    "        ax[0].plot(mirror_desired_delta.index[time_ranges[i]], mirror_desired_delta.iloc[time_ranges[i]], label='desired & mirror temp delta')\n",
    "        ax[0].axhline(y=1.5, color='maroon', linestyle='--')\n",
    "        ax[0].axhline(y=-1.5, color='maroon', linestyle='--')\n",
    "        ax[0].annotate(u\"1.5 \\u2103\", xy=(telescope_data.index[time_ranges[i]][-1], 1.75), annotation_clip=False, ha='right')\n",
    "        ax[0].annotate(u\"-1.5 \\u2103\", xy=(telescope_data.index[time_ranges[i]][-1], -1.25), annotation_clip=False, ha='right')\n",
    "\n",
    "        if not daytime:\n",
    "            telemetry_indicies = np.argwhere(np.logical_and(telemetry_data.index >= telescope_data.index[time_ranges[i]][0], telemetry_data.index <= telescope_data.index[time_ranges[i]][-1])).flatten()\n",
    "            if len(telemetry_data.iloc[telemetry_indicies]['seeing']):\n",
    "                twin0 = ax[0].twinx()\n",
    "                ax[0].set_title('Mirror Temperature & Seeing vs. Date/Time')\n",
    "                twin0.set_ylabel('Seeing')\n",
    "                twin0.autoscale(True)\n",
    "                twin0.plot(telemetry_data.index[telemetry_indicies], telemetry_data.iloc[telemetry_indicies]['seeing'], color=\"indigo\", label='seeing')\n",
    "\n",
    "        ax[1].plot(dome_data.index[time_ranges[i]], dome_data.iloc[time_ranges[i]]['dome_floor_ne'], label='dome floor temp (NE)')\n",
    "        ax[1].plot(dome_data.index[time_ranges[i]], dome_data.iloc[time_ranges[i]]['dome_floor_nw'], label='dome floor temp (NW)')\n",
    "        ax[1].plot(dome_data.index[time_ranges[i]], dome_data.iloc[time_ranges[i]]['dome_floor_s'], label='dome floor temp (S)')\n",
    "\n",
    "        twin1 = ax[1].twinx()\n",
    "        twin1.plot(tower_data.index[time_ranges[i]], tower_data.iloc[time_ranges[i]]['temperature'], color=\"indigo\", label='tower temp')\n",
    "        twin1.autoscale(True)\n",
    "        twin1.set_ylabel('Tower Temperature (Celcius)')\n",
    "\n",
    "        ax[0].legend(handles=ax[0].get_legend_handles_labels()+twin0.get_legend_handles_labels())\n",
    "        ax[1].legend(handles=ax[1].get_legend_handles_labels()+twin1.get_legend_handles_labels())\n",
    "\n",
    "        year = telescope_data.index[time_ranges[i]][0].year\n",
    "        month = telescope_data.index[time_ranges[i]][0].month\n",
    "        day = telescope_data.index[time_ranges[i]][0].day\n",
    "        plt.rcParams['axes.facecolor']='white'\n",
    "        plt.rcParams['savefig.facecolor']='white'\n",
    "        plt.rcParams['figure.facecolor'] = 'white'\n",
    "        fig.savefig(f'time_plots/single_day_plots/{folder}/{year}-{month}-{day}.png')\n",
    "        plt.close(fig)"
   ]
  },
  {
   "cell_type": "code",
   "execution_count": null,
   "id": "2404e149-de96-43f8-88e5-771ace8d33d4",
   "metadata": {},
   "outputs": [],
   "source": [
    "mirror_cooling_plots(daytime=True)\n",
    "mirror_cooling_plots(daytime=False)"
   ]
  },
  {
   "cell_type": "code",
   "execution_count": null,
   "id": "e78b8fb2-9cf1-45f8-93f0-cfd8b8a76966",
   "metadata": {},
   "outputs": [],
   "source": [
    "for i in range(len(telescope_data['air_temp'])):\n",
    "    if telescope_data['air_temp'][i] is pd.NA or np.nan:\n",
    "        print(i)"
   ]
  },
  {
   "cell_type": "code",
   "execution_count": null,
   "id": "8546e39f-b971-43c5-bbd4-6ad27b573e88",
   "metadata": {},
   "outputs": [],
   "source": [
    "print(type(telescope_data['air_temp'].index[0]))\n",
    "print(type(np.linspace(1, 50)))\n",
    "print(telescope_data['air_temp'].index[0])\n",
    "print(telescope_data['air_temp'].index[0].date())\n"
   ]
  },
  {
   "cell_type": "markdown",
   "id": "86a45a75-572e-4b24-8c29-1f4fca744bd4",
   "metadata": {},
   "source": [
    "## Monthly Temperature Delta Distributions"
   ]
  },
  {
   "cell_type": "code",
   "execution_count": 8,
   "id": "8c5c133c-a0ae-43c9-9de4-0e9c98f36a1b",
   "metadata": {},
   "outputs": [],
   "source": [
    "\n",
    "\n",
    "def temp_distribution_data(daytime=True):\n",
    "    folder = 'daytime' if daytime else 'nighttime'\n",
    "    time_ranges = get_time_ranges(cooling_on=daytime)[:-1]\n",
    "    ambient_mirror_delta = telescope_data['air_temp']-telescope_data['mirror_temp']\n",
    "    ambient_mirror_delta = ambient_mirror_delta[remove_outliers(ambient_mirror_delta)]\n",
    "    ambient_temp = telescope_data['air_temp']\n",
    "    ambient_temp = ambient_temp[remove_outliers(ambient_temp)]\n",
    "    print(np.max(ambient_mirror_delta))\n",
    "    print(np.min(ambient_mirror_delta))\n",
    "    print(np.max(ambient_temp))\n",
    "    print(np.min(ambient_temp))\n",
    "    \n",
    "    # years = [2019, 2020, 2021, 2022, 2023]\n",
    "    # months = np.linspace(1, 12, 12, dtype=np.int64)\n",
    "    # ambient_distributions = {}\n",
    "    # for i in years:\n",
    "    #     year = {}\n",
    "    #     for j in months:\n",
    "    #         year[j] = []\n",
    "    #     ambient_distributions[i] = year\n",
    "    # delta_distributions = deepcopy(ambient_distributions)\n",
    "\n",
    "    temps = np.linspace(-20, 20, 4001)\n",
    "    times = np.empty((len(time_ranges)), dtype=type(ambient_temp.index[0]))\n",
    "    ambient_distributions = np.empty((len(time_ranges), len(temps)), dtype=np.float64)\n",
    "    delta_distributions = np.empty((len(time_ranges), len(temps)), dtype=np.float64)\n",
    "    for i in trange(len(time_ranges), desc=f'{folder}'):\n",
    "        # time = time_ranges[i] if len(time_ranges[i]) else [time_ranges[i]]\n",
    "        # print(time)\n",
    "        # try:\n",
    "        #     assert(np.max(time)<len(ambient_temp))\n",
    "        #     assert(np.max(time)<len(ambient_mirror_delta))\n",
    "        # except AssertionError:\n",
    "        #     print(np.max(time), len(ambient_temp))\n",
    "        #     print(np.max(time), len(ambient_mirror_delta))\n",
    "        times[i] = ambient_temp.index[time_ranges[i][0]].date()\n",
    "        ambient_distributions[i] = skewnorm.pdf(temps, *skewnorm.fit(ambient_temp.iloc[time_ranges[i]]))\n",
    "        delta_distributions[i] = skewnorm.pdf(temps, *skewnorm.fit(ambient_mirror_delta.iloc[time_ranges[i]]))\n",
    "    #     if (np.nan not in ambient_temp.iloc[i]) and (ambient_mirror_delta.iloc[i] is not np.nan):\n",
    "    #         ambient_distributions[ambient_temp.index[i].year][ambient_temp.index[i].month].append(ambient_temp.iloc[i])\n",
    "    #         delta_distributions[ambient_mirror_delta.index[i].year][ambient_mirror_delta.index[i].month].append(ambient_mirror_delta.iloc[i])\n",
    "    # with open(f'{data_dir}/ambient_distributions_{folder}.pkl', 'wb') as pf:\n",
    "    #     pickle.dump(ambient_distributions, pf)\n",
    "    # with open(f'{data_dir}/delta_distributions_{folder}.pkl', 'wb') as pf:\n",
    "    #     pickle.dump(delta_distributions, pf)\n",
    "    with open(f'{data_dir}/full_distributions_{folder}.pkl', 'wb') as pf:\n",
    "        full_distributions = [temps, times, ambient_distributions, delta_distributions]\n",
    "        pickle.dump(full_distributions, pf)\n"
   ]
  },
  {
   "cell_type": "code",
   "execution_count": null,
   "id": "76d07341-6fcd-46b8-a04d-bee244edea6c",
   "metadata": {},
   "outputs": [],
   "source": [
    "temp_distribution_data(daytime=True)\n",
    "temp_distribution_data(daytime=False)"
   ]
  },
  {
   "cell_type": "code",
   "execution_count": null,
   "id": "4d70b07d-5eb7-4e05-978b-ca759e8794e2",
   "metadata": {},
   "outputs": [],
   "source": [
    "from scipy.stats import skewnorm\n",
    "from astropy.stats import scott_bin_width\n",
    "from math import trunc\n",
    "\n",
    "def monthly_delta_distribution(daytime=True):\n",
    "    folder = 'daytime' if daytime else 'nighttime'\n",
    "    with open(f'{data_dir}/ambient_distributions_{folder}.pkl', 'rb') as pf:\n",
    "        ambient_distributions = pickle.load(pf)\n",
    "    with open(f'{data_dir}/delta_distributions_{folder}.pkl', 'rb') as pf:\n",
    "        delta_distributions = pickle.load(pf)\n",
    "    years = [2019, 2020, 2021, 2022, 2023]\n",
    "    months = np.linspace(1, 12, 12, dtype=np.int64)\n",
    "    for i in years:\n",
    "        directory = f'time_plots/temp_distributions/{folder}/{i}'\n",
    "        if not os.path.isdir(directory):\n",
    "            os.makedirs(directory)\n",
    "        for j in tqdm(months, desc=f'{i}'):\n",
    "            if len(delta_distributions[i][j]):\n",
    "                fig, ax = plt.subplots(ncols=2, figsize=(15,5))\n",
    "                \n",
    "                delta_arr = delta_distributions[i][j][remove_outliers(delta_distributions[i][j])]\n",
    "                bins = trunc(np.ptp(delta_arr)/scott_bin_width(delta_arr))\n",
    "                ax[0].hist(delta_arr, bins=bins, density=True, label='histogram')\n",
    "                xs = np.linspace(np.min(delta_arr), np.max(delta_arr), 10000)\n",
    "                ys = skewnorm.pdf(xs, *skewnorm.fit(delta_arr))\n",
    "                ax[0].scatter(xs, ys, 5, color='r', marker='.', label='skewed guassian fit')\n",
    "                ax[0].set_title(f'Distribution of Ambient-Mirror Temperatuere Delta ({i}-{j})')\n",
    "                ax[0].set_ylabel('Density (%)')\n",
    "                ax[0].set_xlabel('Temperature Delta')\n",
    "                ax[0].legend()\n",
    "                ax[0].autoscale(True)                \n",
    "\n",
    "                ambient_arr = ambient_distributions[i][j][remove_outliers(ambient_distributions[i][j])]\n",
    "                bins = trunc(np.ptp(ambient_arr)/scott_bin_width(ambient_arr))\n",
    "                ax[1].hist(ambient_distributions[i][j], bins=bins, density=True, label='histogram')\n",
    "                xs = np.linspace(np.min(ambient_arr), np.max(ambient_arr), 10000)\n",
    "                ys = skewnorm.pdf(xs, *skewnorm.fit(ambient_arr))\n",
    "                ax[1].scatter(xs, ys, 5, color='r', marker='.', label='skewed guassian fit')\n",
    "                ax[1].set_title(f'Distribution of Ambient Temperature ({i}-{j})')\n",
    "                ax[1].set_ylabel('Density (%)')\n",
    "                ax[1].set_xlabel('Ambient Temperature')\n",
    "                ax[1].legend()\n",
    "                ax[1].autoscale(True)                \n",
    "                \n",
    "                plt.rcParams['axes.facecolor']='white'\n",
    "                plt.rcParams['savefig.facecolor']='white'\n",
    "                plt.rcParams['figure.facecolor'] = 'white'\n",
    "                fig.savefig(f'{directory}/{i}-{j}.png', format='png') \n",
    "                plt.close(fig)"
   ]
  },
  {
   "cell_type": "code",
   "execution_count": null,
   "id": "eb6d5b0a-8a49-4f82-b985-d0f1c8f040a4",
   "metadata": {},
   "outputs": [],
   "source": [
    "monthly_delta_distribution(daytime=True)\n",
    "monthly_delta_distribution(daytime=False)\n"
   ]
  },
  {
   "cell_type": "code",
   "execution_count": null,
   "id": "cd7a21b5-45a0-4187-8448-8cdd00f7d7a3",
   "metadata": {},
   "outputs": [],
   "source": [
    "new_temperature_plot()"
   ]
  },
  {
   "cell_type": "code",
   "execution_count": null,
   "id": "91c85acf-ff6c-4875-9df5-f488aaf91a46",
   "metadata": {},
   "outputs": [],
   "source": [
    "new_temperature_plot(year=2022, month=6, day=10, offset=1, save=True)"
   ]
  },
  {
   "cell_type": "code",
   "execution_count": null,
   "id": "a4f4ebfd-ec6a-4d0b-8732-7365a26cd0d3",
   "metadata": {},
   "outputs": [],
   "source": [
    "new_temperature_plot(year=2022, month=6, day=10, offset=3, save=True)"
   ]
  },
  {
   "cell_type": "code",
   "execution_count": null,
   "id": "c15633ac-c3a3-4de7-a88b-baa3bdf4de60",
   "metadata": {},
   "outputs": [],
   "source": [
    "new_temperature_plot(year=2022, month=6, day=10, offset=3, save=True)"
   ]
  },
  {
   "cell_type": "code",
   "execution_count": null,
   "id": "1d6e14c1-64c1-41d0-a50b-e7d98d1a5c98",
   "metadata": {},
   "outputs": [],
   "source": [
    "new_temperature_plot(year=2022, month=1, day=1, offset=7, save=True)"
   ]
  },
  {
   "cell_type": "code",
   "execution_count": null,
   "id": "55e78558-2448-427f-ad96-daad6ef38032",
   "metadata": {},
   "outputs": [],
   "source": [
    "new_temperature_plot(year=2021, month=12, day=27, offset=7, save=True)"
   ]
  },
  {
   "cell_type": "code",
   "execution_count": null,
   "id": "d8f39928-094e-4822-a0cf-56d9eacb5a1f",
   "metadata": {},
   "outputs": [],
   "source": [
    "new_temperature_plot(year=2022, month=1, day=21, offset=7, save=True)"
   ]
  },
  {
   "cell_type": "code",
   "execution_count": null,
   "id": "e91d4320-098b-4109-8ddc-96d3bb2b3e1e",
   "metadata": {},
   "outputs": [],
   "source": [
    "new_temperature_plot(year=2021, month=2, day=1, offset=3, save=True)"
   ]
  },
  {
   "cell_type": "code",
   "execution_count": null,
   "id": "037b418d-d2f2-4d97-a511-89b29cb29a1c",
   "metadata": {},
   "outputs": [],
   "source": [
    "new_temperature_plot(year=2021, month=2, day=15, offset=3, save=True)"
   ]
  },
  {
   "cell_type": "code",
   "execution_count": null,
   "id": "d4e38a9f-ae19-4c8f-8edf-08dc17e92ed8",
   "metadata": {},
   "outputs": [],
   "source": [
    "new_temperature_plot(year=2021, month=6, day=15, offset=3, save=True)"
   ]
  },
  {
   "cell_type": "code",
   "execution_count": null,
   "id": "a8653007-1cd8-447f-b9ca-704044bf6a41",
   "metadata": {},
   "outputs": [],
   "source": [
    "new_temperature_plot(year=2021, month=7, day=15, offset=3, save=True)"
   ]
  },
  {
   "cell_type": "code",
   "execution_count": null,
   "id": "ac832d4f-fce7-4664-b7f6-68e70c71adb1",
   "metadata": {},
   "outputs": [],
   "source": [
    "new_temperature_plot(year=2021, month=8, day=15, offset=3, save=True)"
   ]
  },
  {
   "cell_type": "code",
   "execution_count": null,
   "id": "34f79930-6dca-4b37-bb47-f2aaa5fef46a",
   "metadata": {},
   "outputs": [],
   "source": [
    "new_temperature_plot(year=2021, month=9, day=15, offset=3, save=True)"
   ]
  },
  {
   "cell_type": "code",
   "execution_count": null,
   "id": "733e4e4e-ece2-4965-bfa8-60d7b85ae076",
   "metadata": {},
   "outputs": [],
   "source": [
    "new_temperature_plot(year=2021, month=10, day=15, offset=3, save=True)"
   ]
  },
  {
   "cell_type": "code",
   "execution_count": null,
   "id": "63b57ecc-2096-433d-bc5a-ec56ed65bbad",
   "metadata": {},
   "outputs": [],
   "source": [
    "new_temperature_plot(year=2021, month=11, day=15, offset=3, save=True)"
   ]
  },
  {
   "cell_type": "code",
   "execution_count": null,
   "id": "79318a98-aaf7-4a68-9812-fa8ed3f81fe8",
   "metadata": {},
   "outputs": [],
   "source": [
    "new_temperature_plot(year=2021, month=12, day=15, offset=3, save=True)"
   ]
  },
  {
   "cell_type": "code",
   "execution_count": null,
   "id": "da778625-81a6-4796-b84e-eec52289fb85",
   "metadata": {},
   "outputs": [],
   "source": [
    "new_temperature_plot(year=2021, month=3, day=15, offset=3, save=True)"
   ]
  },
  {
   "cell_type": "code",
   "execution_count": null,
   "id": "5562d080-59c4-4f7a-8077-294d3a6af30b",
   "metadata": {},
   "outputs": [],
   "source": [
    "new_temperature_plot(year=2021, month=4, day=15, offset=3, save=True)"
   ]
  },
  {
   "cell_type": "code",
   "execution_count": null,
   "id": "3bb05596-5505-4c3a-82a7-4ff70762e143",
   "metadata": {},
   "outputs": [],
   "source": [
    "new_temperature_plot(year=2021, month=5, day=15, offset=3, save=True)"
   ]
  },
  {
   "cell_type": "code",
   "execution_count": null,
   "id": "64e228d9-827b-4251-89e2-0099e31cdd00",
   "metadata": {},
   "outputs": [],
   "source": [
    "new_temperature_plot(year=2022, month=1, day=15, offset=7, save=True)"
   ]
  },
  {
   "cell_type": "code",
   "execution_count": null,
   "id": "8469cee9-3a2b-4eea-81d1-42d5872a92a2",
   "metadata": {},
   "outputs": [],
   "source": [
    "new_temperature_plot(year=2022, month=2, day=1, offset=3, save=True)"
   ]
  },
  {
   "cell_type": "code",
   "execution_count": null,
   "id": "b78afde6-fa2b-4f5b-b5fe-916bb6b94482",
   "metadata": {},
   "outputs": [],
   "source": [
    "new_temperature_plot(year=2022, month=1, day=15, offset=3, save=True)"
   ]
  },
  {
   "cell_type": "code",
   "execution_count": null,
   "id": "43fe765c-64c8-43ea-a11b-b5b53433aa54",
   "metadata": {},
   "outputs": [],
   "source": [
    "new_temperature_plot(year=2022, month=1, day=15, offset=5, save=True)"
   ]
  },
  {
   "cell_type": "code",
   "execution_count": null,
   "id": "c37350de-a6dd-4b0d-b801-56a70dc3252d",
   "metadata": {},
   "outputs": [],
   "source": [
    "new_temperature_plot(year=2022, month=2, day=15, offset=3, save=True)"
   ]
  },
  {
   "cell_type": "code",
   "execution_count": null,
   "id": "f2048873-f23f-4022-87af-643ee605e87d",
   "metadata": {},
   "outputs": [],
   "source": [
    "new_temperature_plot(year=2022, month=2, day=15, offset=5, save=True)"
   ]
  },
  {
   "cell_type": "code",
   "execution_count": null,
   "id": "36e1f426-4dc4-4e9f-90be-b1052406e33e",
   "metadata": {},
   "outputs": [],
   "source": [
    "new_temperature_plot(year=2022, month=3, day=15, offset=3, save=True)"
   ]
  },
  {
   "cell_type": "code",
   "execution_count": null,
   "id": "d5becaf8-a0d2-4073-b254-5a6c84378c1e",
   "metadata": {},
   "outputs": [],
   "source": [
    "new_temperature_plot(year=2022, month=3, day=15, offset=5, save=True)"
   ]
  },
  {
   "cell_type": "code",
   "execution_count": null,
   "id": "5e566a6c-a7ad-484b-ada1-b8703740c91a",
   "metadata": {},
   "outputs": [],
   "source": [
    "new_temperature_plot(year=2022, month=4, day=15, offset=3, save=True)"
   ]
  },
  {
   "cell_type": "code",
   "execution_count": null,
   "id": "59aa8a0d-0f0d-4f88-b38f-c03e501fb9e4",
   "metadata": {},
   "outputs": [],
   "source": [
    "new_temperature_plot(year=2022, month=4, day=15, offset=5, save=True)"
   ]
  },
  {
   "cell_type": "code",
   "execution_count": null,
   "id": "fa83b787-c35e-4f39-bc17-83e72e5f5176",
   "metadata": {},
   "outputs": [],
   "source": [
    "new_temperature_plot(year=2022, month=5, day=15, offset=3, save=True)"
   ]
  },
  {
   "cell_type": "code",
   "execution_count": null,
   "id": "0b3c0cb6-3d71-497a-8a23-04ca91a260a9",
   "metadata": {},
   "outputs": [],
   "source": [
    "new_temperature_plot(year=2022, month=5, day=15, offset=5, save=True)"
   ]
  },
  {
   "cell_type": "code",
   "execution_count": null,
   "id": "50a55e0d-948a-44b6-ac33-2a3de172ed3d",
   "metadata": {},
   "outputs": [],
   "source": [
    "new_temperature_plot(year=2022, month=6, day=15, offset=3, save=True)"
   ]
  },
  {
   "cell_type": "code",
   "execution_count": null,
   "id": "da8a2597-aa48-428d-93f6-eb48029e108b",
   "metadata": {},
   "outputs": [],
   "source": [
    "new_temperature_plot(year=2022, month=6, day=15, offset=5, save=True)"
   ]
  },
  {
   "cell_type": "code",
   "execution_count": null,
   "id": "535285b6-49bb-4539-8442-b1df5859f7bc",
   "metadata": {},
   "outputs": [],
   "source": [
    "new_temperature_plot(year=2022, month=7, day=15, offset=3, save=True)"
   ]
  },
  {
   "cell_type": "code",
   "execution_count": null,
   "id": "467c9b65-79e8-4dc3-908b-3c0cc5431d36",
   "metadata": {},
   "outputs": [],
   "source": [
    "new_temperature_plot(year=2022, month=7, day=15, offset=5, save=True)"
   ]
  },
  {
   "cell_type": "code",
   "execution_count": null,
   "id": "2686ae46-c99d-45ac-8380-1791b8e70c5c",
   "metadata": {},
   "outputs": [],
   "source": [
    "new_temperature_plot(year=2022, month=8, day=15, offset=3, save=True)"
   ]
  },
  {
   "cell_type": "code",
   "execution_count": null,
   "id": "c5b219bc-8086-48e4-a993-0d27396d5da0",
   "metadata": {},
   "outputs": [],
   "source": [
    "new_temperature_plot(year=2022, month=8, day=15, offset=5, save=True)"
   ]
  },
  {
   "cell_type": "code",
   "execution_count": null,
   "id": "eb644727-528a-417e-ba05-bce6a364a9e0",
   "metadata": {},
   "outputs": [],
   "source": [
    "new_temperature_plot(year=2022, month=9, day=15, offset=3, save=True)"
   ]
  },
  {
   "cell_type": "code",
   "execution_count": null,
   "id": "60fb4b44-fc59-4a20-86bf-a47eb6f1d6c7",
   "metadata": {},
   "outputs": [],
   "source": [
    "new_temperature_plot(year=2022, month=9, day=15, offset=5, save=True)"
   ]
  },
  {
   "cell_type": "code",
   "execution_count": null,
   "id": "3a5b51d6-b600-4935-9c2c-c7637a2a82e3",
   "metadata": {},
   "outputs": [],
   "source": [
    "new_temperature_plot(year=2022, month=10, day=15, offset=3, save=True)"
   ]
  },
  {
   "cell_type": "code",
   "execution_count": null,
   "id": "6d3e8ba0-9b45-4a05-8e7b-b61c267a61f4",
   "metadata": {},
   "outputs": [],
   "source": [
    "new_temperature_plot(year=2022, month=10, day=15, offset=5, save=True)"
   ]
  },
  {
   "cell_type": "code",
   "execution_count": null,
   "id": "0f052756-d2f3-4905-8597-5848873642d2",
   "metadata": {},
   "outputs": [],
   "source": [
    "new_temperature_plot(year=2022, month=11, day=15, offset=3, save=True)"
   ]
  },
  {
   "cell_type": "code",
   "execution_count": null,
   "id": "6e7c07ca-3852-4bc4-9f4a-a6b98a7cc865",
   "metadata": {},
   "outputs": [],
   "source": [
    "new_temperature_plot(year=2022, month=11, day=15, offset=5, save=True)"
   ]
  },
  {
   "cell_type": "code",
   "execution_count": null,
   "id": "b91fc695-4627-4a44-a369-5bc855373664",
   "metadata": {},
   "outputs": [],
   "source": [
    "new_temperature_plot(year=2022, month=12, day=15, offset=3, save=True)"
   ]
  },
  {
   "cell_type": "code",
   "execution_count": null,
   "id": "5d8242fa-2662-4a35-ac1a-7f3c3cb09d2f",
   "metadata": {},
   "outputs": [],
   "source": [
    "new_temperature_plot(year=2022, month=12, day=15, offset=5, save=True)"
   ]
  }
 ],
 "metadata": {
  "kernelspec": {
   "display_name": "DESI main",
   "language": "python",
   "name": "desi-main"
  },
  "language_info": {
   "codemirror_mode": {
    "name": "ipython",
    "version": 3
   },
   "file_extension": ".py",
   "mimetype": "text/x-python",
   "name": "python",
   "nbconvert_exporter": "python",
   "pygments_lexer": "ipython3",
   "version": "3.9.7"
  },
  "toc-autonumbering": true,
  "toc-showmarkdowntxt": true
 },
 "nbformat": 4,
 "nbformat_minor": 5
}
